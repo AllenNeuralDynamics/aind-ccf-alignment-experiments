{
 "cells": [
  {
   "cell_type": "markdown",
   "id": "599c9f32",
   "metadata": {},
   "source": [
    "# Fetch SmartSPIM Data From S3\n",
    "\n",
    "In this notebook we demonstrate how to fetch SmartSPIM data from the \"aind-open-data\" AWS S3 bucket outside of CodeOcean. The notebook is intended as a companion to the \"RegisterToCCF\" notebook which assumes that data is available via the mounted filesystem in the CodeOcean cloud platform. Note that metadata on the output image should be set carefully, refer to the \"RegisterToCCF\" notebook on metadata considerations for SmartSPIM input images.\n",
    "\n",
    "SmartSPIM sample data is made publicly available by the Allen Institute for Neural Dynamics.\n",
    "\n",
    "## See Also\n",
    "\n",
    "CodeOcean capsule: https://codeocean.allenneuraldynamics.org/capsule/5051231/tree/v4"
   ]
  },
  {
   "cell_type": "markdown",
   "id": "f8cf0270",
   "metadata": {},
   "source": [
    "# Initialize the Notebook"
   ]
  },
  {
   "cell_type": "code",
   "execution_count": 1,
   "id": "e7bbd071",
   "metadata": {
    "tags": []
   },
   "outputs": [],
   "source": [
    "import json\n",
    "import os\n",
    "import re\n",
    "import sys\n",
    "\n",
    "import itk\n",
    "import ome_zarr\n",
    "from ome_zarr.reader import Reader as OMEZarrReader\n",
    "from ome_zarr.io import ZarrLocation\n",
    "import numpy as np\n",
    "import s3fs\n",
    "import zarr"
   ]
  },
  {
   "cell_type": "code",
   "execution_count": 2,
   "id": "779bf5ca",
   "metadata": {
    "tags": []
   },
   "outputs": [
    {
     "name": "stdout",
     "output_type": "stream",
     "text": [
      "Zarr file will be written to data/input/652506/652506_Ex_561_Em_593_L3.nii.gz\n"
     ]
    }
   ],
   "source": [
    "SOURCE_BUCKET_NAME = \"aind-open-data\"\n",
    "SUBJECT_ID = \"652506\"\n",
    "SAMPLE_CHANNEL = \"Ex_561_Em_593\"\n",
    "SAMPLE_LEVEL = 3\n",
    "SAMPLE_NAME = f\"{SUBJECT_ID}_{SAMPLE_CHANNEL}\"\n",
    "\n",
    "SMARTSPIM_OUTPUT_FILENAME = (\n",
    "    f\"data/input/{SUBJECT_ID}/{SAMPLE_NAME}_L{SAMPLE_LEVEL}.nii.gz\"\n",
    ")\n",
    "\n",
    "print(f\"Zarr file will be written to {SMARTSPIM_OUTPUT_FILENAME}\")"
   ]
  },
  {
   "cell_type": "code",
   "execution_count": 3,
   "id": "6229424d",
   "metadata": {
    "tags": []
   },
   "outputs": [],
   "source": [
    "os.makedirs(os.path.dirname(SMARTSPIM_OUTPUT_FILENAME), exist_ok=True)"
   ]
  },
  {
   "cell_type": "markdown",
   "id": "a81418e3",
   "metadata": {},
   "source": [
    "## Query AWS S3 For Available Data\n",
    "\n",
    "The first step in fetching data is knowing what data is available to fetch. AIND has made SmartSPIM sample data available in multiscale OME-Zarr format on AWS S3.\n",
    "\n",
    "AIND has used several naming conventions in its data:\n",
    " - \"aind-open-data\": The AIND public S3 bucket where data is stored\n",
    " - \"SmartSPIM_\\<id>_\\<date>_stitched_\\<date>\": Organize data by collection/stitching date\n",
    " - \"processed/OMEZarr\": working with processed data in OME-Zarr format\n",
    " - \"Ex_\\<num>_Em_\\<num>.zarr\": Organize data by excitation/emission metrics for imaging\n",
    " \n",
    "Naming conventions are subject to change in the future."
   ]
  },
  {
   "cell_type": "code",
   "execution_count": 4,
   "id": "6647f43b",
   "metadata": {
    "tags": []
   },
   "outputs": [],
   "source": [
    "fs = s3fs.S3FileSystem(anon=True)"
   ]
  },
  {
   "cell_type": "code",
   "execution_count": 5,
   "id": "5c4921e5",
   "metadata": {
    "tags": []
   },
   "outputs": [
    {
     "name": "stdout",
     "output_type": "stream",
     "text": [
      "578 buckets available at s3://aind-open-data/\n",
      "aind-open-data/SmartSPIM_000393_2023-01-06_13-35-10\n",
      "aind-open-data/SmartSPIM_000393_2023-01-06_13-35-10_stitched_2023-02-02_22-28-35\n",
      "aind-open-data/SmartSPIM_000394_2023-01-05_14-56-34\n",
      "aind-open-data/SmartSPIM_000394_2023-01-05_14-56-34_stitched_2023-02-20_19-47-09\n",
      "aind-open-data/SmartSPIM_018559_2023-01-10_10-40-57\n",
      "...\n"
     ]
    }
   ],
   "source": [
    "# Get all available samples\n",
    "available_sample_buckets = fs.ls(SOURCE_BUCKET_NAME)\n",
    "print(\n",
    "    f\"{len(available_sample_buckets)} buckets available at s3://aind-open-data/\"\n",
    ")\n",
    "\n",
    "available_sample_buckets_iter = iter(available_sample_buckets)\n",
    "for _ in range(5):\n",
    "    print(next(available_sample_buckets_iter))\n",
    "print(\"...\")"
   ]
  },
  {
   "cell_type": "code",
   "execution_count": 6,
   "id": "554612c3",
   "metadata": {
    "tags": []
   },
   "outputs": [
    {
     "name": "stdout",
     "output_type": "stream",
     "text": [
      "Selected sample bucket: aind-open-data/SmartSPIM_652506_2023-01-09_10-18-12_stitched_2023-01-13_19-00-54\n"
     ]
    }
   ],
   "source": [
    "# Find the sample bucket of interest\n",
    "sample_bucket_name = next(\n",
    "    bucket_name\n",
    "    for bucket_name in fs.ls(SOURCE_BUCKET_NAME)\n",
    "    if re.match(f\"(.+){SUBJECT_ID}(.+)stitched(.+)\", bucket_name)\n",
    ")\n",
    "\n",
    "print(f\"Selected sample bucket: {sample_bucket_name}\")"
   ]
  },
  {
   "cell_type": "code",
   "execution_count": 7,
   "id": "bad52156",
   "metadata": {
    "tags": []
   },
   "outputs": [
    {
     "name": "stdout",
     "output_type": "stream",
     "text": [
      "Available channels at aind-open-data/SmartSPIM_652506_2023-01-09_10-18-12_stitched_2023-01-13_19-00-54/processed/OMEZarr:\n"
     ]
    },
    {
     "data": {
      "text/plain": [
       "['aind-open-data/SmartSPIM_652506_2023-01-09_10-18-12_stitched_2023-01-13_19-00-54/processed/OMEZarr/.zgroup',\n",
       " 'aind-open-data/SmartSPIM_652506_2023-01-09_10-18-12_stitched_2023-01-13_19-00-54/processed/OMEZarr/Ex_445_Em_469.zarr',\n",
       " 'aind-open-data/SmartSPIM_652506_2023-01-09_10-18-12_stitched_2023-01-13_19-00-54/processed/OMEZarr/Ex_488_Em_525.zarr',\n",
       " 'aind-open-data/SmartSPIM_652506_2023-01-09_10-18-12_stitched_2023-01-13_19-00-54/processed/OMEZarr/Ex_561_Em_593.zarr']"
      ]
     },
     "execution_count": 7,
     "metadata": {},
     "output_type": "execute_result"
    }
   ],
   "source": [
    "# View available sample channels\n",
    "sample_bucket_channels_name = sample_bucket_name + \"/processed/OMEZarr\"\n",
    "print(f\"Available channels at {sample_bucket_channels_name}:\")\n",
    "fs.ls(sample_bucket_channels_name)"
   ]
  },
  {
   "cell_type": "code",
   "execution_count": 8,
   "id": "1d3d61b8",
   "metadata": {
    "tags": []
   },
   "outputs": [
    {
     "name": "stdout",
     "output_type": "stream",
     "text": [
      "Channel bucket contents:\n"
     ]
    },
    {
     "data": {
      "text/plain": [
       "['aind-open-data/SmartSPIM_652506_2023-01-09_10-18-12_stitched_2023-01-13_19-00-54/processed/OMEZarr/Ex_561_Em_593.zarr/.zattrs',\n",
       " 'aind-open-data/SmartSPIM_652506_2023-01-09_10-18-12_stitched_2023-01-13_19-00-54/processed/OMEZarr/Ex_561_Em_593.zarr/.zgroup',\n",
       " 'aind-open-data/SmartSPIM_652506_2023-01-09_10-18-12_stitched_2023-01-13_19-00-54/processed/OMEZarr/Ex_561_Em_593.zarr/0',\n",
       " 'aind-open-data/SmartSPIM_652506_2023-01-09_10-18-12_stitched_2023-01-13_19-00-54/processed/OMEZarr/Ex_561_Em_593.zarr/1',\n",
       " 'aind-open-data/SmartSPIM_652506_2023-01-09_10-18-12_stitched_2023-01-13_19-00-54/processed/OMEZarr/Ex_561_Em_593.zarr/2',\n",
       " 'aind-open-data/SmartSPIM_652506_2023-01-09_10-18-12_stitched_2023-01-13_19-00-54/processed/OMEZarr/Ex_561_Em_593.zarr/3',\n",
       " 'aind-open-data/SmartSPIM_652506_2023-01-09_10-18-12_stitched_2023-01-13_19-00-54/processed/OMEZarr/Ex_561_Em_593.zarr/4']"
      ]
     },
     "execution_count": 8,
     "metadata": {},
     "output_type": "execute_result"
    }
   ],
   "source": [
    "# Select the channel of interest\n",
    "channel_bucket = sample_bucket_channels_name + f\"/{SAMPLE_CHANNEL}.zarr\"\n",
    "print(f\"Channel bucket contents:\")\n",
    "fs.ls(channel_bucket)"
   ]
  },
  {
   "cell_type": "markdown",
   "id": "840e6411",
   "metadata": {},
   "source": [
    "## Read Metadata from AWS S3"
   ]
  },
  {
   "cell_type": "code",
   "execution_count": 9,
   "id": "c728ec33",
   "metadata": {
    "tags": []
   },
   "outputs": [
    {
     "name": "stdout",
     "output_type": "stream",
     "text": [
      "t -> 1.0 millisecond (1.0)\n",
      "c -> 1.0  (1.0)\n",
      "z -> 16.0 micrometer (0.016)\n",
      "y -> 14.4 micrometer (0.014400000000000001)\n",
      "x -> 14.4 micrometer (0.014400000000000001)\n"
     ]
    }
   ],
   "source": [
    "# View OME-Zarr attributes for the sample channel\n",
    "with fs.open(channel_bucket + \"/.zattrs\", \"r\") as f:\n",
    "    ome_zarr_metadata = json.loads(f.read())\n",
    "\n",
    "axis_spacings = {}\n",
    "axis_units = {}\n",
    "condensed_axes = []\n",
    "for axis, spacing in zip(\n",
    "    ome_zarr_metadata[\"multiscales\"][0][\"axes\"],\n",
    "    ome_zarr_metadata[\"multiscales\"][0][\"datasets\"][SAMPLE_LEVEL][\n",
    "        \"coordinateTransformations\"\n",
    "    ][0][\"scale\"],\n",
    "):\n",
    "    if axis[\"type\"] == \"space\" and axis[\"unit\"] not in [\n",
    "        \"micrometer\",\n",
    "        \"millimeter\",\n",
    "    ]:\n",
    "        raise KeyError(f'Unexpected spatial type: {axis[\"type\"]}')\n",
    "    axis_spacings[axis[\"name\"]] = (\n",
    "        spacing * 1e-3\n",
    "        if \"unit\" in axis.keys() and axis[\"unit\"] == \"micrometer\"\n",
    "        else spacing\n",
    "    )\n",
    "    print(\n",
    "        f\"{axis['name']} -> {spacing} {axis['unit'] if 'unit' in axis.keys() else ''} ({axis_spacings[axis['name']]})\"\n",
    "    )\n",
    "\n",
    "# We have foreknowledge that 't' and 'c' axes are empty (size 1)\n",
    "# ITK and OME-Zarr/numpy access conventions are reversed\n",
    "itk_spatial_axes = (\"x\", \"y\", \"z\")"
   ]
  },
  {
   "cell_type": "code",
   "execution_count": 10,
   "id": "cdc6e324",
   "metadata": {},
   "outputs": [
    {
     "name": "stdout",
     "output_type": "stream",
     "text": [
      "[{'name': 'X', 'dimension': 2, 'direction': 'Left_to_right', 'unit': 'micrometer'}, {'name': 'Y', 'dimension': 1, 'direction': 'Posterior_to_anterior', 'unit': 'micrometer'}, {'name': 'Z', 'dimension': 0, 'direction': 'Superior_to_inferior', 'unit': 'micrometer'}]\n"
     ]
    }
   ],
   "source": [
    "with fs.open(\n",
    "    sample_bucket_name.split(\"_stitched\")[0] + \"/acquisition.json\", \"r\"\n",
    ") as f:\n",
    "    acquisition_metadata = json.loads(f.read())\n",
    "\n",
    "assert acquisition_metadata[\"subject_id\"] == SUBJECT_ID\n",
    "assert (\n",
    "    acquisition_metadata[\"schema_version\"] == \"0.4.3\"\n",
    ")  # Version at time of writing\n",
    "print(acquisition_metadata[\"axes\"])"
   ]
  },
  {
   "cell_type": "code",
   "execution_count": 11,
   "id": "9b74616e",
   "metadata": {},
   "outputs": [
    {
     "name": "stdout",
     "output_type": "stream",
     "text": [
      "right-anterior-inferior: 525570\n",
      "525570\n"
     ]
    }
   ],
   "source": [
    "# Acquisition spatial axis directions are encoded in ITK as a bitmap composition\n",
    "# of enumerated values in tertiary, secondary, primary order.\n",
    "# https://github.com/InsightSoftwareConsortium/ITK/blob/cce48b3cfa5c8f41be0bf7393183132ab34f1a06/Modules/Core/Common/include/itkSpatialOrientation.h#L111-L112\n",
    "\n",
    "ITK_COORDINATE_TERMS = {\n",
    "    \"anterior\": itk.SpatialOrientationEnums.CoordinateTerms_ITK_COORDINATE_Anterior,\n",
    "    \"inferior\": itk.SpatialOrientationEnums.CoordinateTerms_ITK_COORDINATE_Inferior,\n",
    "    \"left\": itk.SpatialOrientationEnums.CoordinateTerms_ITK_COORDINATE_Left,\n",
    "    \"posterior\": itk.SpatialOrientationEnums.CoordinateTerms_ITK_COORDINATE_Posterior,\n",
    "    \"right\": itk.SpatialOrientationEnums.CoordinateTerms_ITK_COORDINATE_Right,\n",
    "    \"superior\": itk.SpatialOrientationEnums.CoordinateTerms_ITK_COORDINATE_Superior,\n",
    "}\n",
    "\n",
    "acquisition_space_name = []\n",
    "itk_direction_enum = 0\n",
    "\n",
    "for axis_name in reversed(itk_spatial_axes):\n",
    "    axis = next(\n",
    "        el\n",
    "        for el in acquisition_metadata[\"axes\"]\n",
    "        if el[\"name\"].lower() == axis_name\n",
    "    )\n",
    "    axis_direction = axis[\"direction\"].split(\"_to_\")[1]\n",
    "    acquisition_space_name.append(axis_direction)\n",
    "\n",
    "    itk_direction_enum <<= 8\n",
    "    itk_direction_enum |= ITK_COORDINATE_TERMS[axis_direction]\n",
    "\n",
    "print(f'{\"-\".join(reversed(acquisition_space_name))}: {itk_direction_enum}')\n",
    "\n",
    "# Values can be manually double checked against ITK coordinate space enums, i.e.\n",
    "print(\n",
    "    itk.SpatialOrientationEnums.ValidCoordinateOrientations_ITK_COORDINATE_ORIENTATION_RAI\n",
    ")"
   ]
  },
  {
   "cell_type": "markdown",
   "id": "5c3706e7",
   "metadata": {},
   "source": [
    "## Read Zarr Voxel Data From S3\n",
    "\n",
    "We use build-in S3 support with `zarr.io` methods to fetch voxel data and convert to ITK format. Note that the image here is read in with incomplete metadata. Refer to \"RegisterToCCF\" for proper metadata handling."
   ]
  },
  {
   "cell_type": "code",
   "execution_count": 12,
   "id": "095a6d25",
   "metadata": {
    "tags": []
   },
   "outputs": [
    {
     "data": {
      "text/html": [
       "<table class=\"zarr-info\"><tbody><tr><th style=\"text-align: left\">Name</th><td style=\"text-align: left\">/</td></tr><tr><th style=\"text-align: left\">Type</th><td style=\"text-align: left\">zarr.hierarchy.Group</td></tr><tr><th style=\"text-align: left\">Read-only</th><td style=\"text-align: left\">False</td></tr><tr><th style=\"text-align: left\">Store type</th><td style=\"text-align: left\">zarr.storage.LRUStoreCache</td></tr><tr><th style=\"text-align: left\">No. members</th><td style=\"text-align: left\">5</td></tr><tr><th style=\"text-align: left\">No. arrays</th><td style=\"text-align: left\">5</td></tr><tr><th style=\"text-align: left\">No. groups</th><td style=\"text-align: left\">0</td></tr><tr><th style=\"text-align: left\">Arrays</th><td style=\"text-align: left\">0, 1, 2, 3, 4</td></tr></tbody></table>"
      ],
      "text/plain": [
       "Name        : /\n",
       "Type        : zarr.hierarchy.Group\n",
       "Read-only   : False\n",
       "Store type  : zarr.storage.LRUStoreCache\n",
       "No. members : 5\n",
       "No. arrays  : 5\n",
       "No. groups  : 0\n",
       "Arrays      : 0, 1, 2, 3, 4"
      ]
     },
     "execution_count": 12,
     "metadata": {},
     "output_type": "execute_result"
    }
   ],
   "source": [
    "# Use zarr S3 support to read store\n",
    "store = s3fs.S3Map(root=channel_bucket, s3=fs, check=False)\n",
    "cache = zarr.LRUStoreCache(store, max_size=2**28)\n",
    "root = zarr.group(store=cache)\n",
    "\n",
    "root.info"
   ]
  },
  {
   "cell_type": "code",
   "execution_count": 13,
   "id": "e422220c",
   "metadata": {
    "tags": []
   },
   "outputs": [],
   "source": [
    "voxel_array = np.squeeze(np.asarray(root[SAMPLE_LEVEL]))\n",
    "itk_image = itk.image_view_from_array(voxel_array.astype(np.float32))"
   ]
  },
  {
   "cell_type": "code",
   "execution_count": 14,
   "id": "41b598fa",
   "metadata": {
    "scrolled": true
   },
   "outputs": [
    {
     "name": "stdout",
     "output_type": "stream",
     "text": [
      "Image (0000029F395F2BC0)\n",
      "  RTTI typeinfo:   class itk::Image<float,3>\n",
      "  Reference Count: 1\n",
      "  Modified Time: 9\n",
      "  Debug: Off\n",
      "  Object Name: \n",
      "  Observers: \n",
      "    none\n",
      "  Source: (none)\n",
      "  Source output name: (none)\n",
      "  Release Data: Off\n",
      "  Data Released: False\n",
      "  Global Release Data: Off\n",
      "  PipelineMTime: 0\n",
      "  UpdateMTime: 0\n",
      "  RealTimeStamp: 0 seconds \n",
      "  LargestPossibleRegion: \n",
      "    Dimension: 3\n",
      "    Index: [0, 0, 0]\n",
      "    Size: [925, 1280, 464]\n",
      "  BufferedRegion: \n",
      "    Dimension: 3\n",
      "    Index: [0, 0, 0]\n",
      "    Size: [925, 1280, 464]\n",
      "  RequestedRegion: \n",
      "    Dimension: 3\n",
      "    Index: [0, 0, 0]\n",
      "    Size: [925, 1280, 464]\n",
      "  Spacing: [0.0144, 0.0144, 0.016]\n",
      "  Origin: [0, 0, 0]\n",
      "  Direction: \n",
      "1 0 0\n",
      "0 1 0\n",
      "0 0 1\n",
      "\n",
      "  IndexToPointMatrix: \n",
      "0.0144 0 0\n",
      "0 0.0144 0\n",
      "0 0 0.016\n",
      "\n",
      "  PointToIndexMatrix: \n",
      "69.4444 0 0\n",
      "0 69.4444 0\n",
      "0 0 62.5\n",
      "\n",
      "  Inverse Direction: \n",
      "1 0 0\n",
      "0 1 0\n",
      "0 0 1\n",
      "\n",
      "  PixelContainer: \n",
      "    ImportImageContainer (0000029E95EB7490)\n",
      "      RTTI typeinfo:   class itk::ImportImageContainer<unsigned __int64,float>\n",
      "      Reference Count: 1\n",
      "      Modified Time: 2\n",
      "      Debug: Off\n",
      "      Object Name: \n",
      "      Observers: \n",
      "        none\n",
      "      Pointer: 0000029F4A2B2040\n",
      "      Container manages memory: false\n",
      "      Size: 549376000\n",
      "      Capacity: 549376000\n",
      "\n"
     ]
    }
   ],
   "source": [
    "# Apply subsequent metadata as done in RegisterToCCF\n",
    "itk_image.SetSpacing(\n",
    "    [axis_spacings[axis_name] for axis_name in itk_spatial_axes]\n",
    ")\n",
    "\n",
    "print(itk_image)"
   ]
  },
  {
   "cell_type": "code",
   "execution_count": 15,
   "id": "6ec027b3",
   "metadata": {
    "tags": []
   },
   "outputs": [
    {
     "name": "stdout",
     "output_type": "stream",
     "text": [
      "Image (0000029F395F2BC0)\n",
      "  RTTI typeinfo:   class itk::Image<float,3>\n",
      "  Reference Count: 2\n",
      "  Modified Time: 96\n",
      "  Debug: Off\n",
      "  Object Name: \n",
      "  Observers: \n",
      "    none\n",
      "  Source: (none)\n",
      "  Source output name: (none)\n",
      "  Release Data: Off\n",
      "  Data Released: False\n",
      "  Global Release Data: Off\n",
      "  PipelineMTime: 0\n",
      "  UpdateMTime: 0\n",
      "  RealTimeStamp: 0 seconds \n",
      "  LargestPossibleRegion: \n",
      "    Dimension: 3\n",
      "    Index: [0, 0, 0]\n",
      "    Size: [925, 1280, 464]\n",
      "  BufferedRegion: \n",
      "    Dimension: 3\n",
      "    Index: [0, 0, 0]\n",
      "    Size: [925, 1280, 464]\n",
      "  RequestedRegion: \n",
      "    Dimension: 3\n",
      "    Index: [0, 0, 0]\n",
      "    Size: [925, 1280, 464]\n",
      "  Spacing: [0.0144, 0.0144, 0.016]\n",
      "  Origin: [13.3056, 18.4176, 7.408]\n",
      "  Direction: \n",
      "-1 0 0\n",
      "0 -1 0\n",
      "0 0 -1\n",
      "\n",
      "  IndexToPointMatrix: \n",
      "-0.0144 0 0\n",
      "0 -0.0144 0\n",
      "0 0 -0.016\n",
      "\n",
      "  PointToIndexMatrix: \n",
      "-69.4444 0 0\n",
      "0 -69.4444 0\n",
      "0 0 -62.5\n",
      "\n",
      "  Inverse Direction: \n",
      "-1 0 0\n",
      "0 -1 0\n",
      "0 0 -1\n",
      "\n",
      "  PixelContainer: \n",
      "    ImportImageContainer (0000029E95EB7490)\n",
      "      RTTI typeinfo:   class itk::ImportImageContainer<unsigned __int64,float>\n",
      "      Reference Count: 1\n",
      "      Modified Time: 2\n",
      "      Debug: Off\n",
      "      Object Name: \n",
      "      Observers: \n",
      "        none\n",
      "      Pointer: 0000029F4A2B2040\n",
      "      Container manages memory: false\n",
      "      Size: 549376000\n",
      "      Capacity: 549376000\n",
      "\n"
     ]
    }
   ],
   "source": [
    "# ITK is in \"right-to-left\", \"anterior-to-posterior\", \"inferior-to-superior\" (LPS) space.\n",
    "\n",
    "orient_filter = itk.OrientImageFilter.New(itk_image)\n",
    "orient_filter.SetGivenCoordinateOrientation(itk_direction_enum)\n",
    "orient_filter.SetDesiredCoordinateOrientation(\n",
    "    itk.SpatialOrientationEnums.ValidCoordinateOrientations_ITK_COORDINATE_ORIENTATION_LPS\n",
    ")\n",
    "orient_filter.UpdateOutputInformation()\n",
    "\n",
    "itk_image.CopyInformation(orient_filter.GetOutput())\n",
    "print(itk_image)"
   ]
  },
  {
   "cell_type": "code",
   "execution_count": 16,
   "id": "54556ddb",
   "metadata": {
    "tags": []
   },
   "outputs": [],
   "source": [
    "itk.imwrite(itk_image, SMARTSPIM_OUTPUT_FILENAME, compression=True)"
   ]
  }
 ],
 "metadata": {
  "kernelspec": {
   "display_name": "Python 3 (ipykernel)",
   "language": "python",
   "name": "python3"
  },
  "language_info": {
   "codemirror_mode": {
    "name": "ipython",
    "version": 3
   },
   "file_extension": ".py",
   "mimetype": "text/x-python",
   "name": "python",
   "nbconvert_exporter": "python",
   "pygments_lexer": "ipython3",
   "version": "3.8.5"
  }
 },
 "nbformat": 4,
 "nbformat_minor": 5
}
