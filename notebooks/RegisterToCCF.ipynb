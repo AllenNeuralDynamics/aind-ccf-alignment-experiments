{
 "cells": [
  {
   "cell_type": "markdown",
   "id": "3748e4fe",
   "metadata": {},
   "source": [
    "# Register SmartSPIM Data To CCF v3.1 Mouse Brain Atlas\n",
    "\n",
    "## Overview\n",
    "\n",
    "This notebook demonstrates a reproducible registration pipeline to align downsampled SmartSPIM data to the Allen Mouse Brain Common Coordinate Framework (CCF)$^1$. The notebook can be run interactively in CodeOcean to evaluate intermediate results or can be run from start to end for reproducible results in the CodeOcean capsule$^2$.\n",
    "\n",
    "## Inputs\n",
    "\n",
    "1. Target (fixed) image. The CCF v3.1 atlas with updated spacing and spatial orientation is available in NIFTI format at http://download.alleninstitute.org/informatics-archive/converted_mouse_ccf/average_template/. More information on the CCF atlas is available at http://help.brain-map.org/display/mouseconnectivity/API\n",
    "\n",
    "2. Source (moving) image. Stitched SmartSPIM mouse brain images are available on the AWS S3 \"aind-open-data\" bucket in Zarr format. The largest resolution / smallest image size is used here for performance considerations.\n",
    "\n",
    "## Outputs\n",
    "\n",
    "1. Registered source (moving) image aligned to CCF atlas space.\n",
    "\n",
    "2. ITK multistage composite transform mapping from source to target space.\n",
    "\n",
    "## Assumptions\n",
    "\n",
    "1. The source and target images are spatially oriented to common anatomical directions. This can be confirmed with a 3D spatial viewer such as 3D Slicer, ITKWidgets, or Neuroglancer. Note that viewers displaying voxel data without spatial information such as matplotlib may produce misleading visuals showing data aligned to different anatomical axes.\n",
    "\n",
    "2. The source image contains correct metadata. In this notebook the Zarr input sample is updated with known spatial metadata.\n",
    "\n",
    "## Procedure\n",
    "\n",
    "1. Data is read in from their respective stores attached via CodeOcean's data attachment mechanism.\n",
    "\n",
    "2. An initial translation is constructed to coarsely superimpose the source image on the target image. The source image is updated in place without resampling.\n",
    "\n",
    "3. The source image is registered to the target image. ITKElastix is used to optimize three transform stages for rigid, affine, and then deformable registration.\n",
    "\n",
    "4. Results are written out.\n",
    "\n",
    "## References\n",
    "\n",
    "1. Quanxin Wang, Song-Lin Ding, Yang Li, Josh Royall, David Feng, Phil Lesnar, Nile Graddis, Maitham Naeemi, Benjamin Facer, Anh Ho, Tim Dolbeare, Brandon Blanchard, Nick Dee, Wayne Wakeman, Karla E. Hirokawa, Aaron Szafer, Susan M. Sunkin, Seung Wook Oh, Amy Bernard, John W. Phillips, Michael Hawrylycz, Christof Koch, Hongkui Zeng, Julie A. Harris, Lydia Ng,\n",
    "The Allen Mouse Brain Common Coordinate Framework: A 3D Reference Atlas, Cell, Volume 181, Issue 4, 2020, Pages 936-953.e20, ISSN 0092-8674, https://doi.org/10.1016/j.cell.2020.04.007\n",
    "\n",
    "2. https://help.codeocean.com/en/articles/1111013-rendering-jupyter-notebooks-to-html"
   ]
  },
  {
   "cell_type": "markdown",
   "id": "9243ce7d",
   "metadata": {},
   "source": [
    "## Initialize Notebook"
   ]
  },
  {
   "cell_type": "code",
   "execution_count": null,
   "id": "4b8e4f91",
   "metadata": {
    "scrolled": false
   },
   "outputs": [],
   "source": [
    "import os\n",
    "import itertools\n",
    "\n",
    "import itk\n",
    "import itkwidgets\n",
    "import numpy as np\n",
    "\n",
    "assert \"ElastixRegistrationMethod\" in dir(\n",
    "    itk\n",
    ")  # Ensure itk-elastix is installed\n",
    "\n",
    "itk.auto_progress(1)\n",
    "\n",
    "import sys\n",
    "\n",
    "sys.path.append(\"../src\")\n",
    "import aind_ccf_alignment_experiments.registration_methods as registration_methods\n",
    "from aind_ccf_alignment_experiments.registration_methods import (\n",
    "    get_sample_bounds,\n",
    "    get_physical_size,\n",
    "    compute_initial_translation,\n",
    "    register_elastix,\n",
    "    make_default_elx_parameter_object,\n",
    ")"
   ]
  },
  {
   "cell_type": "code",
   "execution_count": null,
   "id": "5251477d",
   "metadata": {},
   "outputs": [],
   "source": [
    "SUBJECT_ID = 652506\n",
    "SAMPLE_CHANNEL = \"Ex_488_Em_525\"\n",
    "SAMPLE_LEVEL = 4  # data is scaled down by 2 ^ N in each direction or by 2 ^ 3N in total volume\n",
    "SAMPLE_NAME = f\"{SUBJECT_ID}_{SAMPLE_CHANNEL}\"\n",
    "SOURCE_IMAGE_INPUT_FILEPATH = (\n",
    "    rf\"data\\input\\{SUBJECT_ID}\\{SAMPLE_NAME}_L{SAMPLE_LEVEL}.nii.gz\"\n",
    ")\n",
    "\n",
    "# Also available at http://download.alleninstitute.org/informatics-archive/converted_mouse_ccf/average_template/\n",
    "TARGET_IMAGE_INPUT_FILEPATH = (\n",
    "    r\"data\\CCFv31/intensity/average_template_25.nii.gz\"\n",
    ")\n",
    "\n",
    "BSPLINE_GRID_SPACING = 0.5  # isotropic B-spline control grid spacing in mm\n",
    "\n",
    "RESULTS_PATH = f\"data/results/{SUBJECT_ID}/BSPLINE/{BSPLINE_GRID_SPACING}mm_grid/2023.06.23/{SAMPLE_CHANNEL}\"\n",
    "REGISTERED_IMAGE_OUTPUT_FILEPATH = (\n",
    "    f\"{RESULTS_PATH}/{SAMPLE_NAME}_registered.nii.gz\"\n",
    ")\n",
    "\n",
    "TRANSFORM_OUTPUT_FILEPATH = f\"{RESULTS_PATH}/{SAMPLE_NAME}_transformresult.h5\"\n",
    "\n",
    "print(f\"Registration results will be written to {RESULTS_PATH}\")"
   ]
  },
  {
   "cell_type": "markdown",
   "id": "141e7095",
   "metadata": {},
   "source": [
    "## Load SmartSPIM Image"
   ]
  },
  {
   "cell_type": "code",
   "execution_count": null,
   "id": "c46f26c7",
   "metadata": {
    "scrolled": true
   },
   "outputs": [],
   "source": [
    "source_image = itk.imread(SOURCE_IMAGE_INPUT_FILEPATH)\n",
    "print(source_image)"
   ]
  },
  {
   "cell_type": "markdown",
   "id": "bd5afba4",
   "metadata": {},
   "source": [
    "## Load CCF Atlas Target Image"
   ]
  },
  {
   "cell_type": "code",
   "execution_count": null,
   "id": "845ab381",
   "metadata": {
    "scrolled": true
   },
   "outputs": [],
   "source": [
    "target_image = itk.imread(TARGET_IMAGE_INPUT_FILEPATH, pixel_type=itk.F)\n",
    "\n",
    "# Note: 3.1 template is in mm (3.0 was um)\n",
    "print(target_image)"
   ]
  },
  {
   "cell_type": "markdown",
   "id": "54131a1a",
   "metadata": {},
   "source": [
    "## Validate Data\n",
    "\n",
    "We briefly evaluate the source and target images to ensure that image physical sizes are on the same order of magnitude as expected. A significant difference in image sizes could indicate a problem with image spacing.\n",
    "\n",
    "A 3D spatial viewer such as ITKWidgets or Neuroglancer can be used to evaluate that source and target input images share a spatial orientation."
   ]
  },
  {
   "cell_type": "code",
   "execution_count": null,
   "id": "930e140b",
   "metadata": {
    "scrolled": true
   },
   "outputs": [],
   "source": [
    "print(f\"CCF physical bounds: {get_sample_bounds(target_image)}\")\n",
    "print(f\"SmartSPIM physical bounds: {get_sample_bounds(source_image)}\")\n",
    "print(f\"CCF physical size: {get_physical_size(target_image)}\")\n",
    "print(f\"SmartSPIM physical size: {get_physical_size(source_image)}\")"
   ]
  },
  {
   "cell_type": "markdown",
   "id": "50aab9ee",
   "metadata": {},
   "source": [
    "## Initialize Registration with `itk`\n",
    "\n",
    "We use tools available in the Insight Toolkit to align the source and target images so that they are initially overlapping in space."
   ]
  },
  {
   "cell_type": "code",
   "execution_count": null,
   "id": "3b413106",
   "metadata": {},
   "outputs": [],
   "source": [
    "translation_transform, initialized_source_image = compute_initial_translation(\n",
    "    source_image=source_image, target_image=target_image\n",
    ")"
   ]
  },
  {
   "cell_type": "code",
   "execution_count": null,
   "id": "ae995418",
   "metadata": {
    "scrolled": true
   },
   "outputs": [],
   "source": [
    "print(translation_transform)"
   ]
  },
  {
   "cell_type": "code",
   "execution_count": null,
   "id": "fcc5fd50",
   "metadata": {
    "scrolled": true
   },
   "outputs": [],
   "source": [
    "print(initialized_source_image)"
   ]
  },
  {
   "cell_type": "code",
   "execution_count": null,
   "id": "89235f51",
   "metadata": {
    "scrolled": true
   },
   "outputs": [],
   "source": [
    "# Verify that the initialized source image bounds overlap with the target image\n",
    "\n",
    "print(\n",
    "    f\"Original input source image bounds: {get_sample_bounds(source_image)[0]}, {get_sample_bounds(source_image)[1]}\"\n",
    ")\n",
    "print(\n",
    "    f\"Translated source image bounds: {get_sample_bounds(initialized_source_image)[0]}, {get_sample_bounds(initialized_source_image)[1]}\"\n",
    ")\n",
    "print(\n",
    "    f\"Target image bounds: {get_sample_bounds(target_image)[0]}, {get_sample_bounds(target_image)[1]}\"\n",
    ")"
   ]
  },
  {
   "cell_type": "code",
   "execution_count": null,
   "id": "2371f235",
   "metadata": {},
   "outputs": [],
   "source": [
    "# itkwidgets.compare_images(initialized_source_image, target_image)"
   ]
  },
  {
   "cell_type": "markdown",
   "id": "e04437e0",
   "metadata": {},
   "source": [
    "## Register with `itk-elastix`\n",
    "\n",
    "We use the tools developed in Elastix and made available via the ITKElastix Python module to perform multistage registration."
   ]
  },
  {
   "cell_type": "code",
   "execution_count": null,
   "id": "43e27d4b",
   "metadata": {
    "scrolled": true
   },
   "outputs": [],
   "source": [
    "parameter_object = make_default_elx_parameter_object()\n",
    "print(parameter_object)"
   ]
  },
  {
   "cell_type": "code",
   "execution_count": null,
   "id": "361d18d7",
   "metadata": {
    "scrolled": true
   },
   "outputs": [],
   "source": [
    "bspline_map = parameter_object.GetParameterMap(2)\n",
    "bspline_map[\"FinalGridSpacingInPhysicalUnits\"] = (\n",
    "    f\"{BSPLINE_GRID_SPACING:0.6f}\",\n",
    ")\n",
    "parameter_object.SetParameterMap(2, bspline_map)\n",
    "print(parameter_object)"
   ]
  },
  {
   "cell_type": "code",
   "execution_count": null,
   "id": "0ef56f0b",
   "metadata": {
    "scrolled": true
   },
   "outputs": [],
   "source": [
    "(\n",
    "    composite_transform,\n",
    "    registered_source_image,\n",
    "    registration_method,\n",
    ") = register_elastix(\n",
    "    source_image=initialized_source_image,\n",
    "    target_image=target_image,\n",
    "    parameter_object=parameter_object,\n",
    "    verbose=True,\n",
    ")"
   ]
  },
  {
   "cell_type": "code",
   "execution_count": null,
   "id": "4366e088",
   "metadata": {},
   "outputs": [],
   "source": [
    "# Verify that the registered source image bounds concide with the target image\n",
    "\n",
    "print(\n",
    "    f\"Registered source image bounds: {get_sample_bounds(registered_source_image)[0]},\"\n",
    "    f\"{get_sample_bounds(registered_source_image)[1]}\"\n",
    ")\n",
    "print(\n",
    "    f\"Target image bounds: {get_sample_bounds(target_image)[0]}, {get_sample_bounds(target_image)[1]}\"\n",
    ")"
   ]
  },
  {
   "cell_type": "code",
   "execution_count": null,
   "id": "49759dd3",
   "metadata": {},
   "outputs": [],
   "source": [
    "print(composite_transform)"
   ]
  },
  {
   "cell_type": "code",
   "execution_count": null,
   "id": "a4000e14",
   "metadata": {},
   "outputs": [],
   "source": [
    "# itkwidgets.compare_images(registered_source_image, target_image)"
   ]
  },
  {
   "cell_type": "markdown",
   "id": "717c099f",
   "metadata": {},
   "source": [
    "## Save Outputs To Disk\n",
    "\n",
    "Reproducible results should be saved to the capsule 'data' folder. Registration results from this notebook include:\n",
    "- The registered, resampled SmartSPIM image. This can be compared with the target CCF average template image or CCF label atlas in a spatial viewer for visual evaluation of registration fitness.\n",
    "- The sequence of transforms used to map from the source SmartSPIM sample space to target CCF space. We can map corresponding information in SmartSPIM source space such as segmentations or other markups into CCF space by applying this sequence of transformations.\n",
    "\n"
   ]
  },
  {
   "cell_type": "code",
   "execution_count": null,
   "id": "a9f183f8",
   "metadata": {},
   "outputs": [],
   "source": [
    "composite_transform.PrependTransform(translation_transform)"
   ]
  },
  {
   "cell_type": "code",
   "execution_count": null,
   "id": "672899b6",
   "metadata": {
    "scrolled": true
   },
   "outputs": [],
   "source": [
    "os.makedirs(RESULTS_PATH, exist_ok=True)\n",
    "\n",
    "itk.transformwrite(\n",
    "    [composite_transform], TRANSFORM_OUTPUT_FILEPATH, compression=True\n",
    ")\n",
    "\n",
    "itk.imwrite(\n",
    "    registered_source_image,\n",
    "    REGISTERED_IMAGE_OUTPUT_FILEPATH,\n",
    "    compression=True,\n",
    ")"
   ]
  },
  {
   "cell_type": "code",
   "execution_count": null,
   "id": "6bc31471",
   "metadata": {},
   "outputs": [],
   "source": [
    "# Write a summary file for reproducibility\n",
    "\n",
    "with open(f\"{RESULTS_PATH}/summary.txt\", \"w\") as f:\n",
    "    f.write(f\"SUBJECT_ID {SUBJECT_ID}\\n\")\n",
    "    f.write(f\"SAMPLE_CHANNEL {SAMPLE_CHANNEL}\\n\")\n",
    "    f.write(f\"SAMPLE_LEVEL {SAMPLE_LEVEL}\\n\")\n",
    "    f.write(f\"SAMPLE_FILEPATH {SOURCE_IMAGE_INPUT_FILEPATH}\\n\")\n",
    "    f.write(f\"TARGET_FILEPATH {TARGET_IMAGE_INPUT_FILEPATH}\\n\")\n",
    "    f.write(\"\\n\")\n",
    "    f.write(f\"INITIALIZATION_METHOD ITKCenteredVersorTransformInitializer\\n\")\n",
    "    f.write(f\"TRANSFORM_METHOD ELASTIX\\n\")\n",
    "    f.write(str(parameter_object))\n",
    "    f.write(\"\\n\")\n",
    "\n",
    "    f.write(f\"OUTPUT_TRANSFORM_FILEPATH {TRANSFORM_OUTPUT_FILEPATH}\\n\")\n",
    "    f.write(f\"OUTPUT_SAMPLE_FILEPATH {REGISTERED_IMAGE_OUTPUT_FILEPATH}\\n\")"
   ]
  }
 ],
 "metadata": {
  "kernelspec": {
   "display_name": "Python 3 (ipykernel)",
   "language": "python",
   "name": "python3"
  },
  "language_info": {
   "codemirror_mode": {
    "name": "ipython",
    "version": 3
   },
   "file_extension": ".py",
   "mimetype": "text/x-python",
   "name": "python",
   "nbconvert_exporter": "python",
   "pygments_lexer": "ipython3",
   "version": "3.8.5"
  }
 },
 "nbformat": 4,
 "nbformat_minor": 5
}
