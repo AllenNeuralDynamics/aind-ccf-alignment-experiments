{
 "cells": [
  {
   "cell_type": "markdown",
   "id": "fd883d97",
   "metadata": {},
   "source": [
    "# Register SmartSPIM Data To CCFv3 Mouse Brain Atlas\n",
    "\n",
    "Atlas reference: http://help.brain-map.org/display/mouseconnectivity/API"
   ]
  },
  {
   "cell_type": "code",
   "execution_count": 1,
   "id": "81dc34e2",
   "metadata": {
    "scrolled": true
   },
   "outputs": [],
   "source": [
    "import itertools\n",
    "\n",
    "import itk\n",
    "import zarr\n",
    "import ome_zarr\n",
    "import numpy as np\n",
    "import itkwidgets"
   ]
  },
  {
   "cell_type": "code",
   "execution_count": 2,
   "id": "db8ac8fa",
   "metadata": {},
   "outputs": [],
   "source": [
    "DO_SAVE_TO_DISK = False\n",
    "DO_VISUALIZE = False"
   ]
  },
  {
   "cell_type": "markdown",
   "id": "604bf486",
   "metadata": {},
   "source": [
    "## Load Data"
   ]
  },
  {
   "cell_type": "code",
   "execution_count": 3,
   "id": "8f6f892e",
   "metadata": {},
   "outputs": [],
   "source": [
    "# Download from http://help.brain-map.org/display/mouseconnectivity/API\n",
    "average_template = itk.imread('data/CCFv3/average_template_10.nrrd', pixel_type=itk.F)"
   ]
  },
  {
   "cell_type": "code",
   "execution_count": 4,
   "id": "5d63f2b3",
   "metadata": {},
   "outputs": [
    {
     "name": "stdout",
     "output_type": "stream",
     "text": [
      "<class 'itk.itkImagePython.itkImageF3'>\n"
     ]
    }
   ],
   "source": [
    "USE_RAW_DATA = False\n",
    "\n",
    "if USE_RAW_DATA:\n",
    "    # Convert downloaded zarr data to ITK Image format\n",
    "    smartspim_zarr = zarr.open('data/Ex_647_Em_690.zarr/4', mode='r')\n",
    "    arr = np.asarray(smartspim_zarr).astype(np.uint16)\n",
    "    print(arr.shape)\n",
    "    smartspim_image = itk.image_from_array(arr[0,0,:,:,:].astype(np.float32))\n",
    "    smartspim_image.SetSpacing([28.8, 28.98, 32])\n",
    "else:\n",
    "    # Get pre-aligned data\n",
    "    smartspim_image = itk.imread('data/slicer-processed/smartspim-rotated.nrrd', pixel_type=itk.F)\n",
    "print(type(smartspim_image))"
   ]
  },
  {
   "cell_type": "code",
   "execution_count": 5,
   "id": "f7337215",
   "metadata": {},
   "outputs": [],
   "source": [
    "if DO_VISUALIZE:\n",
    "    itkwidgets.view(image)"
   ]
  },
  {
   "cell_type": "markdown",
   "id": "2c281a66",
   "metadata": {},
   "source": [
    "## Validate Data\n",
    "\n",
    "We expect the data to have roughly the same extent."
   ]
  },
  {
   "cell_type": "code",
   "execution_count": 6,
   "id": "f57104d6",
   "metadata": {},
   "outputs": [
    {
     "name": "stdout",
     "output_type": "stream",
     "text": [
      "CCF extent:\n",
      "itkPointD3 ([0, 0, 0])\n",
      "itkPointD3 ([0, 0, 11400])\n",
      "itkPointD3 ([0, 8000, 0])\n",
      "itkPointD3 ([0, 8000, 11400])\n",
      "itkPointD3 ([13200, 0, 0])\n",
      "itkPointD3 ([13200, 0, 11400])\n",
      "itkPointD3 ([13200, 8000, 0])\n",
      "itkPointD3 ([13200, 8000, 11400])\n",
      "SmartSPIM extent:\n",
      "itkPointD3 ([0, 0, 0])\n",
      "itkPointD3 ([5.93392e-12, 8384, -1.34343e-27])\n",
      "itkPointD3 ([-18547.2, 1.31271e-11, -1.49289e-11])\n",
      "itkPointD3 ([-18547.2, 8384, -1.49289e-11])\n",
      "itkPointD3 ([5.53957e-12, 0, -13305.6])\n",
      "itkPointD3 ([1.14735e-11, 8384, -13305.6])\n",
      "itkPointD3 ([-18547.2, 1.31271e-11, -13305.6])\n",
      "itkPointD3 ([-18547.2, 8384, -13305.6])\n"
     ]
    }
   ],
   "source": [
    "def print_extent(image):\n",
    "    image_size = itk.size(image)\n",
    "    for i, j, k in itertools.product([0, image_size[0]],\n",
    "                                 [0, image_size[1]],\n",
    "                                 [0, image_size[2]]):\n",
    "        print(image.TransformIndexToPhysicalPoint([i,j,k]))\n",
    "\n",
    "fixed_image_size = itk.size(average_template)\n",
    "print(f'CCF extent:')\n",
    "print_extent(average_template)\n",
    "print(f'SmartSPIM extent:')\n",
    "print_extent(smartspim_image)"
   ]
  },
  {
   "cell_type": "code",
   "execution_count": 7,
   "id": "721197e7",
   "metadata": {},
   "outputs": [],
   "source": [
    "if DO_VISUALIZE:\n",
    "    itkwidgets.view(smartspim_image)"
   ]
  },
  {
   "cell_type": "markdown",
   "id": "245ae95c",
   "metadata": {},
   "source": [
    "## Initialize Registration with `itk`"
   ]
  },
  {
   "cell_type": "code",
   "execution_count": 8,
   "id": "19962484",
   "metadata": {},
   "outputs": [
    {
     "name": "stderr",
     "output_type": "stream",
     "text": [
      "\u001b[2000D\u001b[KLoading ITKMesh... \u001b[2000D\u001b[KLoading ITKMesh... \u001b[2000D\u001b[K\u001b[2000D\u001b[KLoading ITKImageFunction... \u001b[2000D\u001b[KLoading ITKImageFunction... \u001b[2000D\u001b[K\u001b[2000D\u001b[KLoading ITKSpatialObjects... \u001b[2000D\u001b[KLoading ITKSpatialObjects... \u001b[2000D\u001b[K\u001b[2000D\u001b[KLoading ITKImageSources... \u001b[2000D\u001b[KLoading ITKImageSources... \u001b[2000D\u001b[K\u001b[2000D\u001b[KLoading ITKImageGrid... \u001b[2000D\u001b[KLoading ITKImageGrid... \u001b[2000D\u001b[K\u001b[2000D\u001b[KLoading ITKFFT... \u001b[2000D\u001b[KLoading ITKImageCompose... \u001b[2000D\u001b[KLoading ITKImageCompose... \u001b[2000D\u001b[K\u001b[2000D\u001b[KLoading ITKImageStatistics... \u001b[2000D\u001b[KLoading ITKImageStatistics... \u001b[2000D\u001b[K\u001b[2000D\u001b[KLoading ITKPath... \u001b[2000D\u001b[KLoading ITKPath... \u001b[2000D\u001b[K\u001b[2000D\u001b[KLoading ITKImageIntensity... \u001b[2000D\u001b[KLoading ITKImageIntensity... \u001b[2000D\u001b[K\u001b[2000D\u001b[KLoading ITKThresholding... \u001b[2000D\u001b[KLoading ITKThresholding... \u001b[2000D\u001b[K\u001b[2000D\u001b[KLoading ITKConvolution... \u001b[2000D\u001b[KLoading ITKConvolution... \u001b[2000D\u001b[K\u001b[2000D\u001b[KLoading ITKSmoothing... \u001b[2000D\u001b[KLoading ITKSmoothing... \u001b[2000D\u001b[K\u001b[2000D\u001b[KLoading ITKImageGradient... \u001b[2000D\u001b[KLoading ITKImageGradient... \u001b[2000D\u001b[K\u001b[2000D\u001b[KLoading Strain... \u001b[2000D\u001b[KLoading Strain... \u001b[2000D\u001b[K\u001b[2000D\u001b[KLoading SplitComponents... \u001b[2000D\u001b[KLoading SplitComponents... \u001b[2000D\u001b[K\u001b[2000D\u001b[KLoading MeshToPolyData... \u001b[2000D\u001b[KLoading MeshToPolyData... \u001b[2000D\u001b[K\u001b[2000D\u001b[KLoading ITKOptimizers... \u001b[2000D\u001b[KLoading ITKOptimizers... \u001b[2000D\u001b[K\u001b[2000D\u001b[KLoading ITKImageFeature... \u001b[2000D\u001b[KLoading ITKImageFeature... \u001b[2000D\u001b[K\u001b[2000D\u001b[KLoading ITKFiniteDifference... \u001b[2000D\u001b[KLoading ITKFiniteDifference... \u001b[2000D\u001b[K\u001b[2000D\u001b[KLoading ITKDisplacementField... \u001b[2000D\u001b[KLoading ITKDisplacementField... \u001b[2000D\u001b[K\u001b[2000D\u001b[KLoading ITKRegistrationCommon... \u001b[2000D\u001b[KLoading ITKRegistrationCommon... \u001b[2000D\u001b[K\u001b[2000D\u001b[KLoading ITKCurvatureFlow... \u001b[2000D\u001b[KLoading ITKCurvatureFlow... \u001b[2000D\u001b[K\u001b[2000D\u001b[KLoading ITKAnisotropicSmoothing... \u001b[2000D\u001b[KLoading ITKAnisotropicSmoothing... \u001b[2000D\u001b[K\u001b[2000D\u001b[KLoading HigherOrderAccurateGradient... \u001b[2000D\u001b[KLoading HigherOrderAccurateGradient... \u001b[2000D\u001b[K\u001b[2000D\u001b[KLoading BSplineGradient... \u001b[2000D\u001b[KLoading BSplineGradient... \u001b[2000D\u001b[K\u001b[2000D\u001b[KLoading Ultrasound... \u001b[2000D\u001b[KLoading Ultrasound... \u001b[2000D\u001b[K\u001b[2000D\u001b[KLoading VkFFTBackend... \u001b[2000D\u001b[KLoading VkFFTBackend... \u001b[2000D\u001b[K\u001b[2000D\u001b[KLoading ITKFFT... \u001b[2000D\u001b[K"
     ]
    }
   ],
   "source": [
    "itk.auto_progress(1)\n",
    "itk.CenteredTransformInitializer\n",
    "itk.auto_progress(0)"
   ]
  },
  {
   "cell_type": "code",
   "execution_count": 9,
   "id": "161d29bf",
   "metadata": {},
   "outputs": [
    {
     "name": "stdout",
     "output_type": "stream",
     "text": [
      "VersorRigid3DTransform (0000026B90AC2CE0)\n",
      "  RTTI typeinfo:   class itk::VersorRigid3DTransform<double>\n",
      "  Reference Count: 2\n",
      "  Modified Time: 1003\n",
      "  Debug: Off\n",
      "  Object Name: \n",
      "  Observers: \n",
      "    none\n",
      "  Matrix: \n",
      "    1 0 0 \n",
      "    0 1 0 \n",
      "    0 0 1 \n",
      "  Offset: [-14285.8, 506.626, -12463.6]\n",
      "  Center: [7300.82, 3730.63, 5695]\n",
      "  Translation: [-14285.8, 506.626, -12463.6]\n",
      "  Inverse: \n",
      "    1 0 0 \n",
      "    0 1 0 \n",
      "    0 0 1 \n",
      "  Singular: 0\n",
      "  Versor: [ 0, 0, 0, 1 ]\n",
      "\n"
     ]
    }
   ],
   "source": [
    "# Use moments-based initialization to get transform roughly positioning\n",
    "# sample data on top of CCF data\n",
    "\n",
    "init_transform = itk.VersorRigid3DTransform[itk.D].New()\n",
    "init_transform.SetIdentity()\n",
    "\n",
    "transform_initializer = itk.CenteredTransformInitializer[init_transform, type(average_template), type(smartspim_image)].New()\n",
    "transform_initializer.SetFixedImage(average_template)\n",
    "transform_initializer.SetMovingImage(smartspim_image)\n",
    "transform_initializer.SetTransform(init_transform)\n",
    "transform_initializer.MomentsOn()\n",
    "\n",
    "transform_initializer.InitializeTransform()\n",
    "print(init_transform)"
   ]
  },
  {
   "cell_type": "code",
   "execution_count": 10,
   "id": "f09b822b",
   "metadata": {},
   "outputs": [],
   "source": [
    "# Resample sample data into estimated CCF space\n",
    "smartspim_image_init = itk.resample_image_filter(smartspim_image, transform=init_transform, use_reference_image=True, reference_image=average_template)"
   ]
  },
  {
   "cell_type": "code",
   "execution_count": 11,
   "id": "5ee8adb6",
   "metadata": {},
   "outputs": [],
   "source": [
    "if DO_VISUALIZE:\n",
    "    itkwidgets.compare(smartspim_image,smartspim_image_init)"
   ]
  },
  {
   "cell_type": "code",
   "execution_count": 12,
   "id": "620aaf9b",
   "metadata": {},
   "outputs": [],
   "source": [
    "if DO_SAVE_TO_DISK:\n",
    "    itk.imwrite(smartspim_image_init, 'data/output/smartspim_init_moments.mha', compression=True)"
   ]
  },
  {
   "cell_type": "markdown",
   "id": "09a47759",
   "metadata": {},
   "source": [
    "## Register with `itk-elastix`"
   ]
  },
  {
   "cell_type": "code",
   "execution_count": 13,
   "id": "d7b8582d",
   "metadata": {},
   "outputs": [
    {
     "name": "stderr",
     "output_type": "stream",
     "text": [
      "\u001b[2000D\u001b[KLoading ITKVoronoi... \u001b[2000D\u001b[KLoading ITKVoronoi... \u001b[2000D\u001b[K\u001b[2000D\u001b[KLoading ITKQuadEdgeMesh... \u001b[2000D\u001b[KLoading ITKQuadEdgeMesh... \u001b[2000D\u001b[K\u001b[2000D\u001b[KLoading ITKIOMeshBase... \u001b[2000D\u001b[KLoading ITKIOMeshBYU... \u001b[2000D\u001b[KLoading ITKIOMeshBYU... \u001b[2000D\u001b[K\u001b[2000D\u001b[KLoading ITKIOMeshFreeSurfer... \u001b[2000D\u001b[KLoading ITKIOMeshFreeSurfer... \u001b[2000D\u001b[K\u001b[2000D\u001b[KLoading ITKIOMeshGifti... \u001b[2000D\u001b[KLoading ITKIOMeshGifti... \u001b[2000D\u001b[K\u001b[2000D\u001b[KLoading ITKIOMeshOBJ... \u001b[2000D\u001b[KLoading ITKIOMeshOBJ... \u001b[2000D\u001b[K\u001b[2000D\u001b[KLoading ITKIOMeshOFF... \u001b[2000D\u001b[KLoading ITKIOMeshOFF... \u001b[2000D\u001b[K\u001b[2000D\u001b[KLoading ITKIOMeshVTK... \u001b[2000D\u001b[KLoading ITKIOMeshVTK... \u001b[2000D\u001b[K\u001b[2000D\u001b[KLoading ITKIOMeshBase... \u001b[2000D\u001b[K\u001b[2000D\u001b[KLoading Elastix... \u001b[2000D\u001b[KLoading Elastix... \u001b[2000D\u001b[K"
     ]
    }
   ],
   "source": [
    "itk.auto_progress(1)\n",
    "itk.ElastixRegistrationMethod\n",
    "itk.auto_progress(0)"
   ]
  },
  {
   "cell_type": "code",
   "execution_count": 14,
   "id": "2c911466",
   "metadata": {},
   "outputs": [],
   "source": [
    "rigid_parameter_object = itk.ParameterObject.New()\n",
    "rigid_parameter_object.AddParameterMap(rigid_parameter_object.GetDefaultParameterMap('rigid'))\n",
    "rigid_parameter_object.AddParameterMap(rigid_parameter_object.GetDefaultParameterMap('affine'))\n",
    "\n",
    "#print(rigid_parameter_object)"
   ]
  },
  {
   "cell_type": "code",
   "execution_count": 15,
   "id": "d849218d",
   "metadata": {},
   "outputs": [],
   "source": [
    "registration_method = itk.ElastixRegistrationMethod[type(average_template), type(smartspim_image)].New(\n",
    "    fixed_image=average_template,\n",
    "    moving_image=smartspim_image_init,\n",
    "    parameter_object=rigid_parameter_object,\n",
    "    log_to_console=True\n",
    ")"
   ]
  },
  {
   "cell_type": "code",
   "execution_count": null,
   "id": "21b31ea3",
   "metadata": {},
   "outputs": [],
   "source": [
    "# Run registration with `itk-elastix` (will take a few minutes)\n",
    "registration_method.Update()"
   ]
  },
  {
   "cell_type": "code",
   "execution_count": null,
   "id": "88b05a70",
   "metadata": {},
   "outputs": [],
   "source": [
    "if DO_VISUALIZE:\n",
    "    itkwidgets.checkerboard(registration_method.GetOutput(), average_template)\n",
    "    \n",
    "if DO_WRITE_TO_DISK:    \n",
    "    itk.imwrite(registration_method.GetOutput(), 'data/output/Ex_647_Em_690_registered.mha', compression=True)\n",
    "    \n",
    "    for index in rigid_parameter_object.GetNumberOfParameterMaps():\n",
    "        registration_method.GetTransformParameterObject().WriteParameterFile(\n",
    "            registration_method.GetTransformParameterObject().GetParameterMap(index), f'data/output/elastix-transform{index}.h5')"
   ]
  }
 ],
 "metadata": {
  "kernelspec": {
   "display_name": "venv-itk",
   "language": "python",
   "name": "venv-itk"
  },
  "language_info": {
   "codemirror_mode": {
    "name": "ipython",
    "version": 3
   },
   "file_extension": ".py",
   "mimetype": "text/x-python",
   "name": "python",
   "nbconvert_exporter": "python",
   "pygments_lexer": "ipython3",
   "version": "3.8.5"
  }
 },
 "nbformat": 4,
 "nbformat_minor": 5
}
