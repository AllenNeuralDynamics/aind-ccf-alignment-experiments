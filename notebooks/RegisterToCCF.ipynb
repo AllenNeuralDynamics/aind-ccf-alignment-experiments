{
 "cells": [
  {
   "cell_type": "markdown",
   "id": "b329b516",
   "metadata": {},
   "source": [
    "# Register SmartSPIM Data To CCFv3.1 Mouse Brain Atlas\n",
    "\n",
    "Atlas reference: http://help.brain-map.org/display/mouseconnectivity/API\n",
    "\n",
    "The CCF v3.1 atlas with updated spacing and spatial orientation is available at http://download.alleninstitute.org/informatics-archive/converted_mouse_ccf/average_template/.\n",
    "\n",
    "Refer to [Get-S3-Data](Get-S3-Data.ipynb) for obtaining SmartSPIM samples from the AIND AWS S3 bucket."
   ]
  },
  {
   "cell_type": "code",
   "execution_count": 1,
   "id": "87d8f66d",
   "metadata": {
    "scrolled": false
   },
   "outputs": [],
   "source": [
    "import itertools\n",
    "\n",
    "import itk\n",
    "import zarr\n",
    "import ome_zarr\n",
    "import numpy as np\n",
    "import itkwidgets"
   ]
  },
  {
   "cell_type": "code",
   "execution_count": 2,
   "id": "c0f77f0f",
   "metadata": {
    "scrolled": true
   },
   "outputs": [],
   "source": [
    "DO_WRITE_TO_DISK = False\n",
    "DO_VISUALIZE = True"
   ]
  },
  {
   "cell_type": "markdown",
   "id": "cfebcf62",
   "metadata": {},
   "source": [
    "## Load Data"
   ]
  },
  {
   "cell_type": "code",
   "execution_count": 3,
   "id": "349c8075",
   "metadata": {
    "scrolled": true
   },
   "outputs": [
    {
     "name": "stdout",
     "output_type": "stream",
     "text": [
      "itkVectorD3 ([0.025, 0.025, 0.025])\n"
     ]
    }
   ],
   "source": [
    "# http://download.alleninstitute.org/informatics-archive/converted_mouse_ccf/average_template/\n",
    "average_template = itk.imread('data/CCFv31/average_template_25.nii.gz', pixel_type=itk.F)\n",
    "\n",
    "# Note: 3.1 template is in mm (3.0 was um)\n",
    "print(average_template.GetSpacing())"
   ]
  },
  {
   "cell_type": "markdown",
   "id": "7fb47d3a",
   "metadata": {},
   "source": [
    "See [Get-S3-Data](Get-S3-Data.ipynb) for fetching SmartSPIM samples and converting to NIFTI format."
   ]
  },
  {
   "cell_type": "code",
   "execution_count": 4,
   "id": "826fc721",
   "metadata": {
    "scrolled": true
   },
   "outputs": [
    {
     "name": "stdout",
     "output_type": "stream",
     "text": [
      "<class 'itk.itkImagePython.itkImageF3'>\n",
      "itkVectorD3 ([0.0288, 0.02898, 0.032])\n",
      "itkSize3 ([462, 640, 262])\n"
     ]
    }
   ],
   "source": [
    "SAMPLE_NAME = 'Ex_647_Em_690'\n",
    "smartspim_image = itk.imread(rf'data\\input\\{SAMPLE_NAME}.mhd', pixel_type=itk.F)\n",
    "\n",
    "if itk.spacing(smartspim_image)[0] > 10.0:\n",
    "    # Convert from um to mm for common units\n",
    "    smartspim_image.SetSpacing(itk.spacing(smartspim_image) * 1e-3)\n",
    "\n",
    "print(type(smartspim_image))\n",
    "print(itk.spacing(smartspim_image))\n",
    "print(itk.size(smartspim_image))"
   ]
  },
  {
   "cell_type": "code",
   "execution_count": 5,
   "id": "7d441a9c",
   "metadata": {
    "scrolled": true
   },
   "outputs": [],
   "source": [
    "#itkwidgets.view(smartspim_image)"
   ]
  },
  {
   "cell_type": "markdown",
   "id": "cb7b87f9",
   "metadata": {},
   "source": [
    "## Validate Data\n",
    "\n",
    "We expect the data to have roughly the same extent."
   ]
  },
  {
   "cell_type": "code",
   "execution_count": 6,
   "id": "8d84ff8b",
   "metadata": {
    "scrolled": true
   },
   "outputs": [
    {
     "name": "stdout",
     "output_type": "stream",
     "text": [
      "CCF extent:\n",
      "itkPointD3 ([0, 0, 0])\n",
      "itkPointD3 ([-11.4, 13.2, -8])\n",
      "SmartSPIM extent:\n",
      "itkPointD3 ([0, 0, 0])\n",
      "itkPointD3 ([-13.3056, -18.5472, -8.384])\n"
     ]
    }
   ],
   "source": [
    "def print_extent(image):\n",
    "    image_size = itk.size(image)\n",
    "    for index in [[0,0,0], image_size]:\n",
    "        print(image.TransformIndexToPhysicalPoint(index))\n",
    "\n",
    "fixed_image_size = itk.size(average_template)\n",
    "print(f'CCF extent:')\n",
    "print_extent(average_template)\n",
    "print(f'SmartSPIM extent:')\n",
    "print_extent(smartspim_image)"
   ]
  },
  {
   "cell_type": "markdown",
   "id": "28b07945",
   "metadata": {},
   "source": [
    "## Initialize Registration with `itk`"
   ]
  },
  {
   "cell_type": "code",
   "execution_count": 7,
   "id": "dc7223d8",
   "metadata": {
    "scrolled": true
   },
   "outputs": [
    {
     "name": "stderr",
     "output_type": "stream",
     "text": [
      "\u001b[2000D\u001b[KLoading ITKMesh... \u001b[2000D\u001b[KLoading ITKMesh... \u001b[2000D\u001b[K\u001b[2000D\u001b[KLoading ITKImageFunction... \u001b[2000D\u001b[KLoading ITKImageFunction... \u001b[2000D\u001b[K\u001b[2000D\u001b[KLoading ITKSpatialObjects... \u001b[2000D\u001b[KLoading ITKSpatialObjects... \u001b[2000D\u001b[K\u001b[2000D\u001b[KLoading ITKImageSources... \u001b[2000D\u001b[KLoading ITKImageSources... \u001b[2000D\u001b[K\u001b[2000D\u001b[KLoading ITKImageGrid... \u001b[2000D\u001b[KLoading ITKImageGrid... \u001b[2000D\u001b[K\u001b[2000D\u001b[KLoading ITKFFT... \u001b[2000D\u001b[KLoading ITKImageCompose... \u001b[2000D\u001b[KLoading ITKImageCompose... \u001b[2000D\u001b[K\u001b[2000D\u001b[KLoading ITKImageStatistics... \u001b[2000D\u001b[KLoading ITKImageStatistics... \u001b[2000D\u001b[K\u001b[2000D\u001b[KLoading ITKPath... \u001b[2000D\u001b[KLoading ITKPath... \u001b[2000D\u001b[K\u001b[2000D\u001b[KLoading ITKImageIntensity... \u001b[2000D\u001b[KLoading ITKImageIntensity... \u001b[2000D\u001b[K\u001b[2000D\u001b[KLoading ITKThresholding... \u001b[2000D\u001b[KLoading ITKThresholding... \u001b[2000D\u001b[K\u001b[2000D\u001b[KLoading ITKConvolution... \u001b[2000D\u001b[KLoading ITKConvolution... \u001b[2000D\u001b[K\u001b[2000D\u001b[KLoading ITKSmoothing... \u001b[2000D\u001b[KLoading ITKSmoothing... \u001b[2000D\u001b[K\u001b[2000D\u001b[KLoading ITKImageGradient... \u001b[2000D\u001b[KLoading ITKImageGradient... \u001b[2000D\u001b[K\u001b[2000D\u001b[KLoading Strain... \u001b[2000D\u001b[KLoading Strain... \u001b[2000D\u001b[K\u001b[2000D\u001b[KLoading SplitComponents... \u001b[2000D\u001b[KLoading SplitComponents... \u001b[2000D\u001b[K\u001b[2000D\u001b[KLoading MeshToPolyData... \u001b[2000D\u001b[KLoading MeshToPolyData... \u001b[2000D\u001b[K\u001b[2000D\u001b[KLoading ITKOptimizers... \u001b[2000D\u001b[KLoading ITKOptimizers... \u001b[2000D\u001b[K\u001b[2000D\u001b[KLoading ITKImageFeature... \u001b[2000D\u001b[KLoading ITKImageFeature... \u001b[2000D\u001b[K\u001b[2000D\u001b[KLoading ITKFiniteDifference... \u001b[2000D\u001b[KLoading ITKFiniteDifference... \u001b[2000D\u001b[K\u001b[2000D\u001b[KLoading ITKDisplacementField... \u001b[2000D\u001b[KLoading ITKDisplacementField... \u001b[2000D\u001b[K\u001b[2000D\u001b[KLoading ITKRegistrationCommon... \u001b[2000D\u001b[KLoading ITKRegistrationCommon... \u001b[2000D\u001b[K\u001b[2000D\u001b[KLoading ITKCurvatureFlow... \u001b[2000D\u001b[KLoading ITKCurvatureFlow... \u001b[2000D\u001b[K\u001b[2000D\u001b[KLoading ITKAnisotropicSmoothing... \u001b[2000D\u001b[KLoading ITKAnisotropicSmoothing... \u001b[2000D\u001b[K\u001b[2000D\u001b[KLoading HigherOrderAccurateGradient... \u001b[2000D\u001b[KLoading HigherOrderAccurateGradient... \u001b[2000D\u001b[K\u001b[2000D\u001b[KLoading BSplineGradient... \u001b[2000D\u001b[KLoading BSplineGradient... \u001b[2000D\u001b[K\u001b[2000D\u001b[KLoading Ultrasound... \u001b[2000D\u001b[KLoading Ultrasound... \u001b[2000D\u001b[K\u001b[2000D\u001b[KLoading VkFFTBackend... \u001b[2000D\u001b[KLoading VkFFTBackend... \u001b[2000D\u001b[K\u001b[2000D\u001b[KLoading ITKFFT... \u001b[2000D\u001b[K"
     ]
    }
   ],
   "source": [
    "itk.auto_progress(1)\n",
    "itk.CenteredTransformInitializer\n",
    "itk.auto_progress(0)"
   ]
  },
  {
   "cell_type": "code",
   "execution_count": 8,
   "id": "025fa012",
   "metadata": {
    "scrolled": true
   },
   "outputs": [
    {
     "name": "stdout",
     "output_type": "stream",
     "text": [
      "VersorRigid3DTransform (000001559C985E50)\n",
      "  RTTI typeinfo:   class itk::VersorRigid3DTransform<double>\n",
      "  Reference Count: 2\n",
      "  Modified Time: 1006\n",
      "  Debug: Off\n",
      "  Object Name: \n",
      "  Observers: \n",
      "    none\n",
      "  Matrix: \n",
      "    1 0 0 \n",
      "    0 1 0 \n",
      "    0 0 1 \n",
      "  Offset: [-0.9509, -15.8466, -0.1885]\n",
      "  Center: [-5.6875, 6.5875, -3.9875]\n",
      "  Translation: [-0.9509, -15.8466, -0.1885]\n",
      "  Inverse: \n",
      "    1 0 0 \n",
      "    0 1 0 \n",
      "    0 0 1 \n",
      "  Singular: 0\n",
      "  Versor: [ 0, 0, 0, 1 ]\n",
      "\n"
     ]
    }
   ],
   "source": [
    "# Use moments-based initialization to get transform roughly positioning\n",
    "# sample data on top of CCF data\n",
    "\n",
    "init_transform = itk.VersorRigid3DTransform[itk.D].New()\n",
    "init_transform.SetIdentity()\n",
    "\n",
    "transform_initializer = itk.CenteredTransformInitializer[init_transform, type(average_template), type(smartspim_image)].New()\n",
    "transform_initializer.SetFixedImage(average_template)\n",
    "transform_initializer.SetMovingImage(smartspim_image)\n",
    "transform_initializer.SetTransform(init_transform)\n",
    "#transform_initializer.MomentsOn()\n",
    "transform_initializer.GeometryOn()\n",
    "\n",
    "transform_initializer.InitializeTransform()\n",
    "print(init_transform)"
   ]
  },
  {
   "cell_type": "code",
   "execution_count": 9,
   "id": "58cfcee8",
   "metadata": {
    "scrolled": true
   },
   "outputs": [],
   "source": [
    "# Resample sample data into estimated CCF space\n",
    "# TODO: Use original image extent, but spatially aligned with CCF\n",
    "\n",
    "# TODO automate transpose via vector-matrix mul\n",
    "# reordering is a consequence of CCF dir matrix\n",
    "def to_output(input_vec:list) -> list:\n",
    "    return [input_vec[1], input_vec[2], input_vec[0]]    \n",
    "\n",
    "    \n",
    "output_size=[el * 2 for el in to_output(itk.size(smartspim_image))]\n",
    "output_spacing=to_output(itk.spacing(smartspim_image))\n",
    "\n",
    "input_side_lengths = to_output(smartspim_image.TransformIndexToPhysicalPoint(itk.size(smartspim_image)) - smartspim_image.TransformIndexToPhysicalPoint([0,0,0]))\n",
    "input_side_lengths[1] *= -1\n",
    "output_origin=[itk.origin(average_template)[dim] - input_side_lengths[dim] * 0.5 for dim in range(3)]\n",
    "\n",
    "smartspim_image_init = itk.resample_image_filter(smartspim_image,\n",
    "                                                 transform=init_transform,\n",
    "                                                 use_reference_image=False,\n",
    "                                                 size=output_size,\n",
    "                                                 output_spacing=output_spacing,\n",
    "                                                 output_direction=average_template.GetDirection(),\n",
    "                                                 output_origin=output_origin\n",
    "                                                 )\n",
    "                                                 #reference_image=average_template)"
   ]
  },
  {
   "cell_type": "code",
   "execution_count": 10,
   "id": "67296afe",
   "metadata": {},
   "outputs": [
    {
     "name": "stdout",
     "output_type": "stream",
     "text": [
      "Orig\n",
      "itkPointD3 ([0, 0, 0])\n",
      "itkPointD3 ([-13.3056, -18.5472, -8.384])\n",
      "Init\n",
      "itkPointD3 ([9.2736, -4.192, 6.6528])\n",
      "itkPointD3 ([-17.3376, 32.9024, -10.1152])\n",
      "Target\n",
      "itkPointD3 ([0, 0, 0])\n",
      "itkPointD3 ([-11.4, 13.2, -8])\n"
     ]
    }
   ],
   "source": [
    "print('Orig')\n",
    "print_extent(smartspim_image)\n",
    "print('Init')\n",
    "print_extent(smartspim_image_init)\n",
    "print('Target')\n",
    "print_extent(average_template)"
   ]
  },
  {
   "cell_type": "code",
   "execution_count": 11,
   "id": "9a85ad40",
   "metadata": {
    "scrolled": false
   },
   "outputs": [
    {
     "data": {
      "application/vnd.jupyter.widget-view+json": {
       "model_id": "367421d3d382468d821c324781a9d228",
       "version_major": 2,
       "version_minor": 0
      },
      "text/plain": [
       "AppLayout(children=(HBox(children=(Label(value='Link:'), Checkbox(value=False, description='cmap'), Checkbox(v…"
      ]
     },
     "metadata": {},
     "output_type": "display_data"
    }
   ],
   "source": [
    "#itkwidgets.view(smartspim_image_init)\n",
    "itkwidgets.compare(smartspim_image_init,average_template)"
   ]
  },
  {
   "cell_type": "code",
   "execution_count": null,
   "id": "c2197499",
   "metadata": {},
   "outputs": [],
   "source": [
    "print('Orig')\n",
    "print_extent(smartspim_image)\n",
    "print('Init')\n",
    "print_extent(smartspim_image_init)\n",
    "print('Target')\n",
    "print_extent(average_template)"
   ]
  },
  {
   "cell_type": "code",
   "execution_count": null,
   "id": "1e9be2d3",
   "metadata": {},
   "outputs": [],
   "source": [
    "if DO_WRITE_TO_DISK:\n",
    "    itk.auto_progress(1)\n",
    "    itk.transformwrite([init_transform], f'data/output/{SAMPLE_NAME}/init_transform.txt', compression=True)\n",
    "    itk.auto_progress(0)"
   ]
  },
  {
   "cell_type": "code",
   "execution_count": null,
   "id": "1283e4a0",
   "metadata": {
    "scrolled": true
   },
   "outputs": [],
   "source": [
    "if DO_WRITE_TO_DISK:\n",
    "    itk.imwrite(smartspim_image_init, f'data/output/{SAMPLE_NAME}/smartspim_init.nii.gz', compression=True)"
   ]
  },
  {
   "cell_type": "markdown",
   "id": "55eabb69",
   "metadata": {},
   "source": [
    "## Register with `itk-elastix`"
   ]
  },
  {
   "cell_type": "code",
   "execution_count": null,
   "id": "c673fd5c",
   "metadata": {
    "scrolled": true
   },
   "outputs": [],
   "source": [
    "itk.auto_progress(1)\n",
    "itk.ElastixRegistrationMethod\n",
    "itk.auto_progress(0)"
   ]
  },
  {
   "cell_type": "code",
   "execution_count": null,
   "id": "e0085db4",
   "metadata": {
    "scrolled": false
   },
   "outputs": [],
   "source": [
    "rigid_parameter_object = itk.ParameterObject.New()\n",
    "rigid_parameter_object.AddParameterMap(rigid_parameter_object.GetDefaultParameterMap('rigid'))\n",
    "rigid_parameter_object.AddParameterMap(rigid_parameter_object.GetDefaultParameterMap('affine'))\n",
    "\n",
    "bspline_map = rigid_parameter_object.GetDefaultParameterMap('bspline')\n",
    "bspline_map['FinalGridSpacingInPhysicalUnits'] = ('0.5000',)\n",
    "rigid_parameter_object.AddParameterMap(bspline_map)\n",
    "\n",
    "print(rigid_parameter_object)"
   ]
  },
  {
   "cell_type": "code",
   "execution_count": 17,
   "id": "95e4506d",
   "metadata": {
    "scrolled": true
   },
   "outputs": [],
   "source": [
    "registration_method = itk.ElastixRegistrationMethod[type(average_template), type(smartspim_image)].New(\n",
    "    fixed_image=average_template,\n",
    "    moving_image=smartspim_image_init,\n",
    "    parameter_object=rigid_parameter_object,\n",
    "    log_to_console=True\n",
    ")"
   ]
  },
  {
   "cell_type": "code",
   "execution_count": null,
   "id": "cfa7a4f1",
   "metadata": {
    "scrolled": true
   },
   "outputs": [],
   "source": [
    "# Run registration with `itk-elastix` (will take a few minutes)\n",
    "registration_method.Update()"
   ]
  },
  {
   "cell_type": "code",
   "execution_count": 12,
   "id": "1647a97b",
   "metadata": {},
   "outputs": [
    {
     "data": {
      "application/vnd.jupyter.widget-view+json": {
       "model_id": "73228bb00b4549a58ad00da34ff97725",
       "version_major": 2,
       "version_minor": 0
      },
      "text/plain": [
       "VBox(children=(Viewer(annotations=False, interpolation=False, rendered_image=<itk.itkImagePython.itkImageF3; p…"
      ]
     },
     "metadata": {},
     "output_type": "display_data"
    }
   ],
   "source": [
    "image = itk.imread(f'data/output/{SAMPLE_NAME}/{SAMPLE_NAME}_registered_grid_density_0_5.nii.gz')\n",
    "itkwidgets.checkerboard(image, average_template)"
   ]
  },
  {
   "cell_type": "code",
   "execution_count": null,
   "id": "f84f5b36",
   "metadata": {},
   "outputs": [],
   "source": [
    "itkwidgets.checkerboard(registration_method.GetOutput(), average_template)"
   ]
  },
  {
   "cell_type": "code",
   "execution_count": 22,
   "id": "431621d2",
   "metadata": {
    "scrolled": true
   },
   "outputs": [],
   "source": [
    "if DO_WRITE_TO_DISK:\n",
    "    itk.imwrite(registration_method.GetOutput(), f'data/output/{SAMPLE_NAME}/{SAMPLE_NAME}_registered_grid_density_0_5.nii.gz', compression=True)\n",
    "\n",
    "    for index in range(rigid_parameter_object.GetNumberOfParameterMaps()):\n",
    "        registration_method.GetTransformParameterObject().WriteParameterFile(\n",
    "            registration_method.GetTransformParameterObject().GetParameterMap(index), f'data/output/{SAMPLE_NAME}/elastix-transform{index}.txt')"
   ]
  }
 ],
 "metadata": {
  "kernelspec": {
   "display_name": "venv-itk",
   "language": "python",
   "name": "venv-itk"
  },
  "language_info": {
   "codemirror_mode": {
    "name": "ipython",
    "version": 3
   },
   "file_extension": ".py",
   "mimetype": "text/x-python",
   "name": "python",
   "nbconvert_exporter": "python",
   "pygments_lexer": "ipython3",
   "version": "3.8.5"
  }
 },
 "nbformat": 4,
 "nbformat_minor": 5
}
