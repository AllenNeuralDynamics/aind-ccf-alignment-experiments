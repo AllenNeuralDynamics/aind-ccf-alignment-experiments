{
 "cells": [
  {
   "cell_type": "markdown",
   "metadata": {},
   "source": [
    "# Evaluate Registration Results Applied to Label Annotations\n",
    "\n",
    "## Overview\n",
    "\n",
    "In this notebook we apply registration results and evaluate resulting label overlap measures.\n",
    "\n",
    "## Inputs\n",
    "\n",
    "1. Expert label segmentations in the input SmartSPIM image domain. Input labels may be supplied in one of two forms:\n",
    "  1. As a single label volume with non-overlapping segmentations.\n",
    "  2. As a series of binary label volumes assumed to each represent a single segmentation region. The series will be composited to create a single label volume.\n",
    "  \n",
    "2. Baseline label regions masked from the Allen Mouse Brain Common Coordinate Framework (CCF) v3.1 label image. Labels and regions of interest are assumed to correspond to SmartSPIM expert segmentations.\n",
    "\n",
    "3D Slicer or a similar application may be used to create the _asymmetric_ baseline label image via the following steps:\n",
    "1. Load the CCF v3.1 label atlas as an image volume.\n",
    "2. Go to the \"Segment Editor\" module and create a new segmentation for the CCF image.\n",
    "3. For each label of interest, use the \"Binary Threshold\" tool to segment the desired label.\n",
    "4. For each label of interest, use the \"Islands\" tool to keep the island most closely matching the corresponding SmartSPIM segmentation by clicking on the island of interest. This step is intended to correct for mirroring that is present in the CCF atlas but not typically present in SmartSPIM annotations.\n",
    "5. Create an additional segment. Use the \"Logical Operators\" tool to \"add\" all of the above segments into a single mask.\n",
    "6. Use the \"Mask Volume\" tool to apply the mask from the previous step to the CCF volume. The result should be a label image that reflects CCF label values with asymmetric islands that roughly match the reference position of each expert annotation.\n",
    "\n",
    "## Outputs\n",
    "\n",
    "1. Dice coefficient metric value for evaluation of overlap agreement between CCF and aligned SmartSPIM label annotations. Dice coefficient is provided for the overall image and for each individual label region overlap.\n",
    "\n",
    "2. (Optional) Composited SmartSPIM input label annotation image.\n"
   ]
  },
  {
   "cell_type": "markdown",
   "metadata": {},
   "source": [
    "## Initialize Notebook"
   ]
  },
  {
   "cell_type": "code",
   "execution_count": 1,
   "metadata": {},
   "outputs": [
    {
     "name": "stderr",
     "output_type": "stream",
     "text": [
      "\u001b[2000D\u001b[KLoading ITKStatistics... \u001b[2000D\u001b[KLoading ITKStatistics... \u001b[2000D\u001b[K\u001b[2000D\u001b[KLoading ITKImageFilterBase... \u001b[2000D\u001b[KLoading ITKImageFilterBase... \u001b[2000D\u001b[K\u001b[2000D\u001b[KLoading ITKTransform... \u001b[2000D\u001b[KLoading ITKTransform... \u001b[2000D\u001b[K\u001b[2000D\u001b[KLoading ITKImageSources... \u001b[2000D\u001b[KLoading ITKImageSources... \u001b[2000D\u001b[K\u001b[2000D\u001b[KLoading ITKImageFunction... \u001b[2000D\u001b[KLoading ITKImageFunction... \u001b[2000D\u001b[K\u001b[2000D\u001b[KLoading ITKImageGrid... \u001b[2000D\u001b[KLoading ITKImageGrid... \u001b[2000D\u001b[K\u001b[2000D\u001b[KLoading ITKFFT... \u001b[2000D\u001b[KLoading ITKFFT... \u001b[2000D\u001b[K\u001b[2000D\u001b[KLoading ITKMesh... \u001b[2000D\u001b[KLoading ITKMesh... \u001b[2000D\u001b[K\u001b[2000D\u001b[KLoading ITKSpatialObjects... \u001b[2000D\u001b[KLoading ITKSpatialObjects... \u001b[2000D\u001b[K\u001b[2000D\u001b[KLoading ITKImageCompose... \u001b[2000D\u001b[KLoading ITKImageCompose... \u001b[2000D\u001b[K\u001b[2000D\u001b[KLoading ITKImageStatistics... \u001b[2000D\u001b[KLoading ITKImageStatistics... \u001b[2000D\u001b[K\u001b[2000D\u001b[KLoading ITKPath... \u001b[2000D\u001b[KLoading ITKPath... \u001b[2000D\u001b[K\u001b[2000D\u001b[KLoading ITKImageIntensity... \u001b[2000D\u001b[KLoading ITKImageIntensity... \u001b[2000D\u001b[K\u001b[2000D\u001b[KLoading ITKThresholding... \u001b[2000D\u001b[KLoading ITKThresholding... \u001b[2000D\u001b[K\u001b[2000D\u001b[KLoading ITKConvolution... \u001b[2000D\u001b[KLoading ITKConvolution... \u001b[2000D\u001b[K\u001b[2000D\u001b[KLoading ITKSmoothing... \u001b[2000D\u001b[KLoading ITKSmoothing... \u001b[2000D\u001b[K\u001b[2000D\u001b[KLoading ITKOptimizers... \u001b[2000D\u001b[KLoading ITKOptimizers... \u001b[2000D\u001b[K\u001b[2000D\u001b[KLoading ITKImageGradient... \u001b[2000D\u001b[KLoading ITKImageGradient... \u001b[2000D\u001b[K\u001b[2000D\u001b[KLoading ITKImageFeature... \u001b[2000D\u001b[KLoading ITKImageFeature... \u001b[2000D\u001b[K\u001b[2000D\u001b[KLoading ITKFiniteDifference... \u001b[2000D\u001b[KLoading ITKFiniteDifference... \u001b[2000D\u001b[K\u001b[2000D\u001b[KLoading ITKDisplacementField... \u001b[2000D\u001b[KLoading ITKDisplacementField... \u001b[2000D\u001b[K\u001b[2000D\u001b[KLoading ITKRegistrationCommon... \u001b[2000D\u001b[KLoading ITKRegistrationCommon... \u001b[2000D\u001b[K\u001b[2000D\u001b[KLoading ITKIOImageBase... \u001b[2000D\u001b[KLoading ITKIOBMP... \u001b[2000D\u001b[KLoading ITKIOBMP... \u001b[2000D\u001b[K\u001b[2000D\u001b[KLoading ITKIOBioRad... \u001b[2000D\u001b[KLoading ITKIOBioRad... \u001b[2000D\u001b[K\u001b[2000D\u001b[KLoading ITKIOBruker... \u001b[2000D\u001b[KLoading ITKIOBruker... \u001b[2000D\u001b[K\u001b[2000D\u001b[KLoading ITKIOGDCM... \u001b[2000D\u001b[KLoading ITKIOGDCM... \u001b[2000D\u001b[K\u001b[2000D\u001b[KLoading ITKIOIPL... \u001b[2000D\u001b[KLoading ITKIOIPL... \u001b[2000D\u001b[K\u001b[2000D\u001b[KLoading ITKIOGE... \u001b[2000D\u001b[KLoading ITKIOGE... \u001b[2000D\u001b[K\u001b[2000D\u001b[KLoading ITKIOGIPL... \u001b[2000D\u001b[KLoading ITKIOGIPL... \u001b[2000D\u001b[K\u001b[2000D\u001b[KLoading ITKIOHDF5... \u001b[2000D\u001b[KLoading ITKIOHDF5... \u001b[2000D\u001b[K\u001b[2000D\u001b[KLoading ITKIOJPEG... \u001b[2000D\u001b[KLoading ITKIOJPEG... \u001b[2000D\u001b[K\u001b[2000D\u001b[KLoading ITKIOJPEG2000... \u001b[2000D\u001b[KLoading ITKIOJPEG2000... \u001b[2000D\u001b[K\u001b[2000D\u001b[KLoading ITKIOTIFF... \u001b[2000D\u001b[KLoading ITKIOTIFF... \u001b[2000D\u001b[K\u001b[2000D\u001b[KLoading ITKIOLSM... \u001b[2000D\u001b[KLoading ITKIOLSM... \u001b[2000D\u001b[K\u001b[2000D\u001b[KLoading ITKIOMINC... \u001b[2000D\u001b[KLoading ITKIOMINC... \u001b[2000D\u001b[K\u001b[2000D\u001b[KLoading ITKIOMRC... \u001b[2000D\u001b[KLoading ITKIOMRC... \u001b[2000D\u001b[K\u001b[2000D\u001b[KLoading ITKIOMeta... \u001b[2000D\u001b[KLoading ITKIOMeta... \u001b[2000D\u001b[K\u001b[2000D\u001b[KLoading ITKIONIFTI... \u001b[2000D\u001b[KLoading ITKIONIFTI... \u001b[2000D\u001b[K\u001b[2000D\u001b[KLoading ITKIONRRD... \u001b[2000D\u001b[KLoading ITKIONRRD... \u001b[2000D\u001b[K\u001b[2000D\u001b[KLoading ITKIOPNG... \u001b[2000D\u001b[KLoading ITKIOPNG... \u001b[2000D\u001b[K\u001b[2000D\u001b[KLoading ITKIOStimulate... \u001b[2000D\u001b[KLoading ITKIOStimulate... \u001b[2000D\u001b[K\u001b[2000D\u001b[KLoading ITKIOVTK... \u001b[2000D\u001b[KLoading ITKIOVTK... \u001b[2000D\u001b[K\u001b[2000D\u001b[KLoading ITKIOImageBase... \u001b[2000D\u001b[K\u001b[2000D\u001b[KLoading ITKVoronoi... \u001b[2000D\u001b[KLoading ITKVoronoi... \u001b[2000D\u001b[K\u001b[2000D\u001b[KLoading ITKQuadEdgeMesh... \u001b[2000D\u001b[KLoading ITKQuadEdgeMesh... \u001b[2000D\u001b[K\u001b[2000D\u001b[KLoading ITKIOMeshBase... \u001b[2000D\u001b[KLoading ITKIOMeshBYU... \u001b[2000D\u001b[KLoading ITKIOMeshBYU... \u001b[2000D\u001b[K\u001b[2000D\u001b[KLoading ITKIOMeshFreeSurfer... \u001b[2000D\u001b[KLoading ITKIOMeshFreeSurfer... \u001b[2000D\u001b[K\u001b[2000D\u001b[KLoading ITKIOMeshGifti... \u001b[2000D\u001b[KLoading ITKIOMeshGifti... \u001b[2000D\u001b[K\u001b[2000D\u001b[KLoading ITKIOMeshOBJ... \u001b[2000D\u001b[KLoading ITKIOMeshOBJ... \u001b[2000D\u001b[K\u001b[2000D\u001b[KLoading ITKIOMeshOFF... \u001b[2000D\u001b[KLoading ITKIOMeshOFF... \u001b[2000D\u001b[K\u001b[2000D\u001b[KLoading ITKIOMeshVTK... \u001b[2000D\u001b[KLoading ITKIOMeshVTK... \u001b[2000D\u001b[K\u001b[2000D\u001b[KLoading ITKIOMeshBase... \u001b[2000D\u001b[K\u001b[2000D\u001b[KLoading Elastix... \u001b[2000D\u001b[KLoading Elastix... \u001b[2000D\u001b[K"
     ]
    }
   ],
   "source": [
    "import os\n",
    "import re\n",
    "\n",
    "import itk\n",
    "import itkwidgets\n",
    "import numpy as np\n",
    "import numpy.typing as npt\n",
    "import pandas as pd\n",
    "\n",
    "itk.auto_progress(1)\n",
    "\n",
    "import sys\n",
    "\n",
    "sys.path.append(\"../src\")\n",
    "import aind_ccf_alignment_experiments.registration_methods\n",
    "from aind_ccf_alignment_experiments.registration_methods import (\n",
    "    resample_label_image,\n",
    "    get_sample_bounds,\n",
    ")\n",
    "from aind_ccf_alignment_experiments.label_methods import (\n",
    "    compose_label_image,\n",
    "    compute_dice_coefficient,\n",
    ")"
   ]
  },
  {
   "cell_type": "code",
   "execution_count": 3,
   "metadata": {},
   "outputs": [],
   "source": [
    "# Reference for what labels to expect in the iamge\n",
    "# and to optionally reconstruct label image from binary annotations\n",
    "labels_info = pd.DataFrame(\n",
    "    [\n",
    "        [\"VIIn\", 788, \"LSh_7n\"],\n",
    "        [\"MH\", 473, \"LSh_MHN\"],\n",
    "        [\"fr\", 585, \"LSh_Fr\"],\n",
    "        [\"aco\", 890, \"LSh_main_part_of_aco\"],\n",
    "    ],\n",
    "    columns=[\"ccf_name\", \"ccf_label_value\", \"seg_name\"],\n",
    ")"
   ]
  },
  {
   "cell_type": "code",
   "execution_count": 4,
   "metadata": {},
   "outputs": [
    {
     "name": "stdout",
     "output_type": "stream",
     "text": [
      "Write results to D:\\repos\\allen-registration\\notebooks\\data\\results\\652506\\BSPLINE\\0.5mm_grid\\2023.06.23\\Ex_488_Em_525/labels\n"
     ]
    }
   ],
   "source": [
    "# Result of intensity registration. See `RegisterWithCCF.ipynb`\n",
    "INPUT_TRANSFORM_FILEPATH = rf\"D:\\repos\\allen-registration\\notebooks\\data\\results\\652506\\BSPLINE\\0.5mm_grid\\2023.06.23\\Ex_488_Em_525\\652506_Ex_488_Em_525_transformresult.h5\"\n",
    "\n",
    "SUBJECT_ID = int(\n",
    "    re.match(\".*results\\\\\\\\([0-9]*).*\", INPUT_TRANSFORM_FILEPATH).group(1)\n",
    ")\n",
    "CHANNEL_NAME = re.match(\n",
    "    \".*(Ex_[0-9]*_Em_[0-9]*).*\", INPUT_TRANSFORM_FILEPATH\n",
    ").group(1)\n",
    "SAMPLE_NAME = f\"{SUBJECT_ID}_{CHANNEL_NAME}\"\n",
    "\n",
    "# See header instructions for constructing CCF baseline with 3D Slicer\n",
    "TARGET_LABEL_IMAGE_FILEPATH = (\n",
    "    rf\"data\\input\\{SUBJECT_ID}\\annotation\\652506_CCF_Baseline.nii.gz\"\n",
    ")\n",
    "\n",
    "# Expect either 1) composed label image has already been generated or\n",
    "# 2) SmartSPIM label annotation image NIFTI files are present in the given directory\n",
    "# with filenames matching the names provided in `labels_info` above\n",
    "INPUT_LABEL_IMAGE_PATH = rf\"data\\input\\{SUBJECT_ID}\\annotation\"\n",
    "INPUT_LABEL_IMAGE_FILEPATH = (\n",
    "    f\"{INPUT_LABEL_IMAGE_PATH}/{SUBJECT_ID}_composed_labels.nii.gz\"\n",
    ")\n",
    "\n",
    "RESULTS_PATH = f\"{os.path.dirname(INPUT_TRANSFORM_FILEPATH)}/labels\"\n",
    "LABEL_IMAGE_RESULT_FILEPATH = rf\"{RESULTS_PATH}\\{SAMPLE_NAME}_labels.nii.gz\"\n",
    "OVERLAP_RESULT_FILEPATH = rf\"{RESULTS_PATH}/{SAMPLE_NAME}_overlap.csv\"\n",
    "\n",
    "print(f\"Write results to {RESULTS_PATH}\")"
   ]
  },
  {
   "cell_type": "code",
   "execution_count": 5,
   "metadata": {},
   "outputs": [],
   "source": [
    "# set to True to view unique label values at each step\n",
    "VERIFY_LABELS = False"
   ]
  },
  {
   "cell_type": "markdown",
   "metadata": {},
   "source": [
    "## Load and Compose Label Image\n",
    "\n",
    "Load the source label image composed of expert annotations. If a single composited label image does not already exist, create it by rescaling provided expert annotations and adding them together.\n",
    "\n",
    "Also load the asymmetrically masked CCF atlas with corresponding label regions."
   ]
  },
  {
   "cell_type": "code",
   "execution_count": 6,
   "metadata": {},
   "outputs": [
    {
     "name": "stderr",
     "output_type": "stream",
     "text": [
      "\u001b[2000D\u001b[KLoading ITKPyUtils... \u001b[2000D\u001b[KLoading ITKPyUtils... \u001b[2000D\u001b[K\u001b[2000D\u001b[KitkImageFileReaderISS3: 0.000000\u001b[2000D\u001b[KitkImageFileReaderISS3: 1.000000\u001b[2000D\u001b[K"
     ]
    }
   ],
   "source": [
    "if os.path.exists(INPUT_LABEL_IMAGE_FILEPATH):\n",
    "    source_label_image = itk.imread(\n",
    "        INPUT_LABEL_IMAGE_FILEPATH, pixel_type=itk.SS\n",
    "    )\n",
    "else:\n",
    "    source_label_image = compose_label_image(\n",
    "        labels_info,\n",
    "        input_labels_path=INPUT_LABEL_IMAGE_PATH,\n",
    "        output_path=INPUT_LABEL_IMAGE_FILEPATH,\n",
    "        verbose=True,\n",
    "    )"
   ]
  },
  {
   "cell_type": "code",
   "execution_count": 7,
   "metadata": {},
   "outputs": [],
   "source": [
    "if VERIFY_LABELS:\n",
    "    unique_vals = np.unique(source_label_image)\n",
    "    print(f\"Source label image has labels {unique_vals}\")\n",
    "    assert (\n",
    "        len(np.unique(source_label_image)) == len(labels_info) + 1\n",
    "    ), f\"Expected {len(labels_info)} labels + 1 background value\""
   ]
  },
  {
   "cell_type": "code",
   "execution_count": 8,
   "metadata": {
    "scrolled": true
   },
   "outputs": [
    {
     "name": "stderr",
     "output_type": "stream",
     "text": [
      "\u001b[2000D\u001b[KitkImageFileReaderISS3: 0.000000\u001b[2000D\u001b[KitkImageFileReaderISS3: 1.000000\u001b[2000D\u001b[K"
     ]
    },
    {
     "name": "stdout",
     "output_type": "stream",
     "text": [
      "Image (0000022A458A1CA0)\n",
      "  RTTI typeinfo:   class itk::Image<short,3>\n",
      "  Reference Count: 2\n",
      "  Modified Time: 879\n",
      "  Debug: Off\n",
      "  Object Name: \n",
      "  Observers: \n",
      "    none\n",
      "  Source: (0000022A41A01030) \n",
      "  Source output name: Primary\n",
      "  Release Data: Off\n",
      "  Data Released: False\n",
      "  Global Release Data: Off\n",
      "  PipelineMTime: 694\n",
      "  UpdateMTime: 880\n",
      "  RealTimeStamp: 0 seconds \n",
      "  LargestPossibleRegion: \n",
      "    Dimension: 3\n",
      "    Index: [0, 0, 0]\n",
      "    Size: [1320, 800, 1140]\n",
      "  BufferedRegion: \n",
      "    Dimension: 3\n",
      "    Index: [0, 0, 0]\n",
      "    Size: [1320, 800, 1140]\n",
      "  RequestedRegion: \n",
      "    Dimension: 3\n",
      "    Index: [0, 0, 0]\n",
      "    Size: [1320, 800, 1140]\n",
      "  Spacing: [0.01, 0.01, 0.01]\n",
      "  Origin: [5.695, -5.35, 5.22]\n",
      "  Direction: \n",
      "0 0 -1\n",
      "1 0 0\n",
      "0 -1 0\n",
      "\n",
      "  IndexToPointMatrix: \n",
      "0 0 -0.01\n",
      "0.01 0 0\n",
      "0 -0.01 0\n",
      "\n",
      "  PointToIndexMatrix: \n",
      "0 100 0\n",
      "0 0 -100\n",
      "-100 0 0\n",
      "\n",
      "  Inverse Direction: \n",
      "0 1 0\n",
      "0 0 -1\n",
      "-1 0 0\n",
      "\n",
      "  PixelContainer: \n",
      "    ImportImageContainer (0000022A4E0063F0)\n",
      "      RTTI typeinfo:   class itk::ImportImageContainer<unsigned __int64,short>\n",
      "      Reference Count: 1\n",
      "      Modified Time: 877\n",
      "      Debug: Off\n",
      "      Object Name: \n",
      "      Observers: \n",
      "        none\n",
      "      Pointer: 0000022BC7784040\n",
      "      Container manages memory: true\n",
      "      Size: 1203840000\n",
      "      Capacity: 1203840000\n",
      "\n"
     ]
    }
   ],
   "source": [
    "target_label_image = itk.imread(TARGET_LABEL_IMAGE_FILEPATH, pixel_type=itk.SS)\n",
    "print(target_label_image)\n",
    "if VERIFY_LABELS:\n",
    "    print(np.unique(target_label_image))"
   ]
  },
  {
   "cell_type": "markdown",
   "metadata": {},
   "source": [
    "## Load Registration Results\n",
    "\n",
    "Get registration results from `RegisterToCCF.ipynb` to direct sampling from the target (CCF) domain to the source (SmartSPIM) domain. Verify that results approximately align with expectations by verifying that the transformed target centerpoint is near the transformed source centerpoint."
   ]
  },
  {
   "cell_type": "code",
   "execution_count": 9,
   "metadata": {
    "scrolled": true
   },
   "outputs": [
    {
     "name": "stdout",
     "output_type": "stream",
     "text": [
      "CompositeTransform (0000022A452E1990)\n",
      "  RTTI typeinfo:   class itk::CompositeTransform<double,3>\n",
      "  Reference Count: 2\n",
      "  Modified Time: 576\n",
      "  Debug: Off\n",
      "  Object Name: \n",
      "  Observers: \n",
      "    none\n",
      "  Transforms in queue, from begin to end:\n",
      "  >>>>>>>>>\n",
      "  TranslationTransform (0000022A5DD4FE60)\n",
      "    RTTI typeinfo:   class itk::TranslationTransform<double,3>\n",
      "    Reference Count: 2\n",
      "    Modified Time: 514\n",
      "    Debug: Off\n",
      "    Object Name: \n",
      "    Observers: \n",
      "      none\n",
      "    Offset: [6.6309, 7.9641, 2.4635]\n",
      "  >>>>>>>>>\n",
      "  BSplineTransform (0000022A4E3DD0D0)\n",
      "    RTTI typeinfo:   class itk::BSplineTransform<double,3,3>\n",
      "    Reference Count: 2\n",
      "    Modified Time: 562\n",
      "    Debug: Off\n",
      "    Object Name: \n",
      "    Observers: \n",
      "      none\n",
      "    CoefficientImage: [ 0000022A458A3B90, 0000022A458A27E0, 0000022A458A0BC0 ]\n",
      "    TransformDomainOrigin: [6.89812, -6.83558, 6.11095]\n",
      "    TransformDomainPhysicalDimensions: [16.0192, 10.4066, 13.1894]\n",
      "    TransformDomainDirection: -0 0 -1\n",
      "1 -0 0\n",
      "0 -1 0\n",
      "\n",
      "    TransformDomainMeshSize: [27, 17, 23]\n",
      "    GridSize: [30, 20, 26]\n",
      "    GridOrigin: [7.47158, -7.42888, 6.7231]\n",
      "    GridSpacing: [0.593304, 0.612151, 0.573454]\n",
      "    GridDirection: -0 0 -1\n",
      "1 -0 0\n",
      "0 -1 0\n",
      "\n",
      "  >>>>>>>>>\n",
      "  AffineTransform (0000022A5DD3BE70)\n",
      "    RTTI typeinfo:   class itk::AffineTransform<double,3>\n",
      "    Reference Count: 2\n",
      "    Modified Time: 567\n",
      "    Debug: Off\n",
      "    Object Name: \n",
      "    Observers: \n",
      "      none\n",
      "    Matrix: \n",
      "      1.073 0.00041174 0.00020459 \n",
      "      -0.00716321 1.05106 0.00826408 \n",
      "      0.00212671 0.019295 0.965402 \n",
      "    Offset: [-0.0444363, -0.21146, -0.0438077]\n",
      "    Center: [0.323485, 1.31285, 0.958621]\n",
      "    Translation: [-0.0200855, -0.138821, -0.0509546]\n",
      "    Inverse: \n",
      "      0.931965 -0.000361517 -0.000194409 \n",
      "      0.00636869 0.951567 -0.008147 \n",
      "      -0.00218034 -0.0190177 1.036 \n",
      "    Singular: 0\n",
      "  >>>>>>>>>\n",
      "  Euler3DTransform (0000022A458E38B0)\n",
      "    RTTI typeinfo:   class itk::Euler3DTransform<double>\n",
      "    Reference Count: 2\n",
      "    Modified Time: 572\n",
      "    Debug: Off\n",
      "    Object Name: \n",
      "    Observers: \n",
      "      none\n",
      "    Matrix: \n",
      "      0.998313 0.057894 -0.00450282 \n",
      "      -0.0579211 0.987247 -0.148285 \n",
      "      -0.00413943 0.148296 0.988934 \n",
      "    Offset: [0.249904, 0.274323, -0.443725]\n",
      "    Center: [0.00750009, 1.2375, 1.2325]\n",
      "    Translation: [0.315985, 0.0753449, -0.273879]\n",
      "    Inverse: \n",
      "      0.998313 -0.0579211 -0.00413943 \n",
      "      0.057894 0.987247 0.148296 \n",
      "      -0.00450282 -0.148285 0.988934 \n",
      "    Singular: 0\n",
      "    Euler's angles: AngleX=0.148845 AngleY=0.00418573 AngleZ=-0.0585748\n",
      "    m_ComputeZYX = 0\n",
      "  End of MultiTransform.\n",
      "<<<<<<<<<<\n",
      "  TransformsToOptimizeFlags, begin() to end(): \n",
      "    1 1 1 1 \n",
      "  TransformsToOptimize in queue, from begin to end:\n",
      "  End of TransformsToOptimizeQueue.\n",
      "<<<<<<<<<<\n",
      "  End of CompositeTransform.\n",
      "<<<<<<<<<<\n",
      "\n"
     ]
    },
    {
     "name": "stderr",
     "output_type": "stream",
     "text": [
      "\u001b[2000D\u001b[KLoading ITKIOTransformBase... \u001b[2000D\u001b[KLoading ITKIOTransformHDF5... \u001b[2000D\u001b[KLoading ITKIOTransformHDF5... \u001b[2000D\u001b[K\u001b[2000D\u001b[KLoading ITKIOTransformInsightLegacy... \u001b[2000D\u001b[KLoading ITKIOTransformInsightLegacy... \u001b[2000D\u001b[K\u001b[2000D\u001b[KLoading ITKIOTransformMatlab... \u001b[2000D\u001b[KLoading ITKIOTransformMatlab... \u001b[2000D\u001b[K\u001b[2000D\u001b[KLoading ITKIOTransformBase... \u001b[2000D\u001b[K"
     ]
    }
   ],
   "source": [
    "source_transform = itk.transformread(INPUT_TRANSFORM_FILEPATH)[0]\n",
    "\n",
    "print(source_transform)"
   ]
  },
  {
   "cell_type": "code",
   "execution_count": 10,
   "metadata": {},
   "outputs": [
    {
     "name": "stdout",
     "output_type": "stream",
     "text": [
      "Target midpoint: [-0.0049997   1.24999995  1.21999988]\n",
      "Transformed target midpoint: [6.9394849  9.16363091 3.25424755]\n",
      "Source midpoint: [6.64560028 9.20160079 3.69599982]\n"
     ]
    }
   ],
   "source": [
    "def get_midpoint(image: itk.Image) -> npt.ArrayLike:\n",
    "    bounds = get_sample_bounds(image)\n",
    "    return (bounds[0] + bounds[1]) / 2\n",
    "\n",
    "\n",
    "print(f\"Target midpoint: {get_midpoint(target_label_image)}\")\n",
    "\n",
    "# Verify transformed target centerpoint is near source centerpoint\n",
    "print(\n",
    "    f\"Transformed target midpoint: {np.array(source_transform.TransformPoint(get_midpoint(target_label_image)))}\"\n",
    ")\n",
    "print(f\"Source midpoint: {get_midpoint(source_label_image)}\")"
   ]
  },
  {
   "cell_type": "markdown",
   "metadata": {},
   "source": [
    "## Map Expert Labels to CCF Space\n",
    "\n",
    "Resample labels from SmartSPIM to CCF space with the given transform mapping. `itk.LabelImageGenericInterpolateImageFunction` is used to avoid artifacts from label interpolation."
   ]
  },
  {
   "cell_type": "code",
   "execution_count": 11,
   "metadata": {
    "scrolled": true
   },
   "outputs": [
    {
     "name": "stderr",
     "output_type": "stream",
     "text": [
      "\u001b[2000D\u001b[KLoading GenericLabelInterpolator... Warning: Unknown parameter 'itk::LinearInterpolateImageFunction' in template 'itk::LabelImageGenericInterpolateImageFunction'\n",
      "Warning: Unknown parameter 'itk::NearestNeighborInterpolateImageFunction' in template 'itk::LabelImageGenericInterpolateImageFunction'\n",
      "Warning: template already defined 'itk::LabelImageGenericInterpolateImageFunction<itk::Image<signedshort,2>,itk::NearestNeighborInterpolateImageFunction>'\n",
      "Warning: template already defined 'itk::LabelImageGenericInterpolateImageFunction<itk::Image<unsignedchar,2>,itk::NearestNeighborInterpolateImageFunction>'\n",
      "Warning: template already defined 'itk::LabelImageGenericInterpolateImageFunction<itk::Image<unsignedshort,2>,itk::NearestNeighborInterpolateImageFunction>'\n",
      "Warning: template already defined 'itk::LabelImageGenericInterpolateImageFunction<itk::Image<float,2>,itk::NearestNeighborInterpolateImageFunction>'\n",
      "Warning: template already defined 'itk::LabelImageGenericInterpolateImageFunction<itk::Image<double,2>,itk::NearestNeighborInterpolateImageFunction>'\n",
      "Warning: template already defined 'itk::LabelImageGenericInterpolateImageFunction<itk::Image<itk::RGBPixel<unsignedchar>,2>,itk::NearestNeighborInterpolateImageFunction>'\n",
      "Warning: template already defined 'itk::LabelImageGenericInterpolateImageFunction<itk::Image<itk::RGBAPixel<unsignedchar>,2>,itk::NearestNeighborInterpolateImageFunction>'\n",
      "Warning: template already defined 'itk::LabelImageGenericInterpolateImageFunction<itk::Image<signedshort,3>,itk::NearestNeighborInterpolateImageFunction>'\n",
      "Warning: template already defined 'itk::LabelImageGenericInterpolateImageFunction<itk::Image<unsignedchar,3>,itk::NearestNeighborInterpolateImageFunction>'\n",
      "Warning: template already defined 'itk::LabelImageGenericInterpolateImageFunction<itk::Image<unsignedshort,3>,itk::NearestNeighborInterpolateImageFunction>'\n",
      "Warning: template already defined 'itk::LabelImageGenericInterpolateImageFunction<itk::Image<float,3>,itk::NearestNeighborInterpolateImageFunction>'\n",
      "Warning: template already defined 'itk::LabelImageGenericInterpolateImageFunction<itk::Image<double,3>,itk::NearestNeighborInterpolateImageFunction>'\n",
      "Warning: template already defined 'itk::LabelImageGenericInterpolateImageFunction<itk::Image<itk::RGBPixel<unsignedchar>,3>,itk::NearestNeighborInterpolateImageFunction>'\n",
      "Warning: template already defined 'itk::LabelImageGenericInterpolateImageFunction<itk::Image<itk::RGBAPixel<unsignedchar>,3>,itk::NearestNeighborInterpolateImageFunction>'\n",
      "Warning: template already defined 'itk::LabelImageGenericInterpolateImageFunction<itk::Image<signedshort,4>,itk::NearestNeighborInterpolateImageFunction>'\n",
      "Warning: template already defined 'itk::LabelImageGenericInterpolateImageFunction<itk::Image<unsignedchar,4>,itk::NearestNeighborInterpolateImageFunction>'\n",
      "Warning: template already defined 'itk::LabelImageGenericInterpolateImageFunction<itk::Image<unsignedshort,4>,itk::NearestNeighborInterpolateImageFunction>'\n",
      "Warning: template already defined 'itk::LabelImageGenericInterpolateImageFunction<itk::Image<float,4>,itk::NearestNeighborInterpolateImageFunction>'\n",
      "Warning: template already defined 'itk::LabelImageGenericInterpolateImageFunction<itk::Image<double,4>,itk::NearestNeighborInterpolateImageFunction>'\n",
      "Warning: template already defined 'itk::LabelImageGenericInterpolateImageFunction<itk::Image<itk::RGBPixel<unsignedchar>,4>,itk::NearestNeighborInterpolateImageFunction>'\n",
      "Warning: template already defined 'itk::LabelImageGenericInterpolateImageFunction<itk::Image<itk::RGBAPixel<unsignedchar>,4>,itk::NearestNeighborInterpolateImageFunction>'\n"
     ]
    },
    {
     "name": "stderr",
     "output_type": "stream",
     "text": [
      "\u001b[2000D\u001b[KLoading GenericLabelInterpolator... \u001b[2000D\u001b[K\u001b[2000D\u001b[KitkResampleImageFilterISS3ISS3: 0.000000\u001b[2000D\u001b[KitkResampleImageFilterISS3ISS3: 0.061294\u001b[2000D\u001b[KitkResampleImageFilterISS3ISS3: 0.063048\u001b[2000D\u001b[KitkResampleImageFilterISS3ISS3: 0.116667\u001b[2000D\u001b[KitkResampleImageFilterISS3ISS3: 0.117544\u001b[2000D\u001b[KitkResampleImageFilterISS3ISS3: 0.160526\u001b[2000D\u001b[KitkResampleImageFilterISS3ISS3: 0.161403\u001b[2000D\u001b[KitkResampleImageFilterISS3ISS3: 0.201316\u001b[2000D\u001b[KitkResampleImageFilterISS3ISS3: 0.202193\u001b[2000D\u001b[KitkResampleImageFilterISS3ISS3: 0.237500\u001b[2000D\u001b[KitkResampleImageFilterISS3ISS3: 0.238377\u001b[2000D\u001b[KitkResampleImageFilterISS3ISS3: 0.279605\u001b[2000D\u001b[KitkResampleImageFilterISS3ISS3: 0.280482\u001b[2000D\u001b[KitkResampleImageFilterISS3ISS3: 0.321710\u001b[2000D\u001b[KitkResampleImageFilterISS3ISS3: 0.322588\u001b[2000D\u001b[KitkResampleImageFilterISS3ISS3: 0.366228\u001b[2000D\u001b[KitkResampleImageFilterISS3ISS3: 0.367105\u001b[2000D\u001b[KitkResampleImageFilterISS3ISS3: 0.445395\u001b[2000D\u001b[KitkResampleImageFilterISS3ISS3: 0.447149\u001b[2000D\u001b[KitkResampleImageFilterISS3ISS3: 0.497807\u001b[2000D\u001b[KitkResampleImageFilterISS3ISS3: 0.498684\u001b[2000D\u001b[KitkResampleImageFilterISS3ISS3: 0.539035\u001b[2000D\u001b[KitkResampleImageFilterISS3ISS3: 0.539912\u001b[2000D\u001b[KitkResampleImageFilterISS3ISS3: 0.581579\u001b[2000D\u001b[KitkResampleImageFilterISS3ISS3: 0.582456\u001b[2000D\u001b[KitkResampleImageFilterISS3ISS3: 0.621930\u001b[2000D\u001b[KitkResampleImageFilterISS3ISS3: 0.622807\u001b[2000D\u001b[KitkResampleImageFilterISS3ISS3: 0.666667\u001b[2000D\u001b[KitkResampleImageFilterISS3ISS3: 0.667544\u001b[2000D\u001b[KitkResampleImageFilterISS3ISS3: 0.706140\u001b[2000D\u001b[KitkResampleImageFilterISS3ISS3: 0.707017\u001b[2000D\u001b[KitkResampleImageFilterISS3ISS3: 0.749561\u001b[2000D\u001b[KitkResampleImageFilterISS3ISS3: 0.750438\u001b[2000D\u001b[KitkResampleImageFilterISS3ISS3: 0.823245\u001b[2000D\u001b[KitkResampleImageFilterISS3ISS3: 0.825000\u001b[2000D\u001b[KitkResampleImageFilterISS3ISS3: 0.848684\u001b[2000D\u001b[KitkResampleImageFilterISS3ISS3: 0.849123\u001b[2000D\u001b[KitkResampleImageFilterISS3ISS3: 0.873245\u001b[2000D\u001b[KitkResampleImageFilterISS3ISS3: 0.873684\u001b[2000D\u001b[KitkResampleImageFilterISS3ISS3: 0.891666\u001b[2000D\u001b[KitkResampleImageFilterISS3ISS3: 0.892105\u001b[2000D\u001b[KitkResampleImageFilterISS3ISS3: 0.915351\u001b[2000D\u001b[KitkResampleImageFilterISS3ISS3: 0.915789\u001b[2000D\u001b[KitkResampleImageFilterISS3ISS3: 0.934649\u001b[2000D\u001b[KitkResampleImageFilterISS3ISS3: 0.935087\u001b[2000D\u001b[KitkResampleImageFilterISS3ISS3: 0.957456\u001b[2000D\u001b[KitkResampleImageFilterISS3ISS3: 0.957894\u001b[2000D\u001b[KitkResampleImageFilterISS3ISS3: 0.976096\u001b[2000D\u001b[KitkResampleImageFilterISS3ISS3: 0.976535\u001b[2000D\u001b[KitkResampleImageFilterISS3ISS3: 1.000000\u001b[2000D\u001b[K\u001b[2000D\u001b[KitkResampleImageFilterISS3ISS3: 1.000000\u001b[2000D\u001b[K\u001b[2000D\u001b[KitkResampleImageFilterISS3ISS3: 1.000000\u001b[2000D\u001b[K\u001b[2000D\u001b[KitkResampleImageFilterISS3ISS3: 1.000000\u001b[2000D\u001b[K\u001b[2000D\u001b[KitkResampleImageFilterISS3ISS3: 1.000000\u001b[2000D\u001b[K\u001b[2000D\u001b[KitkResampleImageFilterISS3ISS3: 1.000000\u001b[2000D\u001b[K\u001b[2000D\u001b[KitkResampleImageFilterISS3ISS3: 1.000000\u001b[2000D\u001b[K\u001b[2000D\u001b[KitkResampleImageFilterISS3ISS3: 1.000000\u001b[2000D\u001b[K\u001b[2000D\u001b[KitkResampleImageFilterISS3ISS3: 1.000000\u001b[2000D\u001b[K\u001b[2000D\u001b[KitkResampleImageFilterISS3ISS3: 1.000000\u001b[2000D\u001b[K\u001b[2000D\u001b[KitkResampleImageFilterISS3ISS3: 1.000000\u001b[2000D\u001b[K\u001b[2000D\u001b[KitkResampleImageFilterISS3ISS3: 1.000000\u001b[2000D\u001b[K\u001b[2000D\u001b[KitkResampleImageFilterISS3ISS3: 1.000000\u001b[2000D\u001b[K\u001b[2000D\u001b[KitkResampleImageFilterISS3ISS3: 1.000000\u001b[2000D\u001b[K\u001b[2000D\u001b[KitkResampleImageFilterISS3ISS3: 1.000000\u001b[2000D\u001b[K\u001b[2000D\u001b[KitkResampleImageFilterISS3ISS3: 1.000000\u001b[2000D\u001b[K\u001b[2000D\u001b[KitkResampleImageFilterISS3ISS3: 1.000000\u001b[2000D\u001b[K\u001b[2000D\u001b[KitkResampleImageFilterISS3ISS3: 1.000000\u001b[2000D\u001b[K\u001b[2000D\u001b[KitkResampleImageFilterISS3ISS3: 1.000000\u001b[2000D\u001b[K\u001b[2000D\u001b[KitkResampleImageFilterISS3ISS3: 1.000000\u001b[2000D\u001b[K\u001b[2000D\u001b[KitkResampleImageFilterISS3ISS3: 1.000000\u001b[2000D\u001b[K\u001b[2000D\u001b[KitkResampleImageFilterISS3ISS3: 1.000000\u001b[2000D\u001b[K\u001b[2000D\u001b[KitkResampleImageFilterISS3ISS3: 1.000000\u001b[2000D\u001b[K\u001b[2000D\u001b[KitkResampleImageFilterISS3ISS3: 1.000000\u001b[2000D\u001b[K\u001b[2000D\u001b[KitkResampleImageFilterISS3ISS3: 1.000000\u001b[2000D\u001b[K\u001b[2000D\u001b[KitkResampleImageFilterISS3ISS3: 1.000000\u001b[2000D\u001b[K\u001b[2000D\u001b[KitkResampleImageFilterISS3ISS3: 1.000000\u001b[2000D\u001b[K\u001b[2000D\u001b[KitkResampleImageFilterISS3ISS3: 1.000000\u001b[2000D\u001b[K\u001b[2000D\u001b[KitkResampleImageFilterISS3ISS3: 1.000000\u001b[2000D\u001b[K\u001b[2000D\u001b[KitkResampleImageFilterISS3ISS3: 1.000000\u001b[2000D\u001b[K\u001b[2000D\u001b[KitkResampleImageFilterISS3ISS3: 1.000000\u001b[2000D\u001b[K\u001b[2000D\u001b[KitkResampleImageFilterISS3ISS3: 1.000000\u001b[2000D\u001b[K\u001b[2000D\u001b[KitkResampleImageFilterISS3ISS3: 1.000000\u001b[2000D\u001b[K\u001b[2000D\u001b[KitkResampleImageFilterISS3ISS3: 1.000000\u001b[2000D\u001b[K\u001b[2000D\u001b[KitkResampleImageFilterISS3ISS3: 1.000000\u001b[2000D\u001b[K\u001b[2000D\u001b[KitkResampleImageFilterISS3ISS3: 1.000000\u001b[2000D\u001b[K\u001b[2000D\u001b[KitkResampleImageFilterISS3ISS3: 1.000000\u001b[2000D\u001b[K\u001b[2000D\u001b[KitkResampleImageFilterISS3ISS3: 1.000000\u001b[2000D\u001b[K\u001b[2000D\u001b[KitkResampleImageFilterISS3ISS3: 1.000000\u001b[2000D\u001b[K\u001b[2000D\u001b[KitkResampleImageFilterISS3ISS3: 1.000000\u001b[2000D\u001b[K\u001b[2000D\u001b[KitkResampleImageFilterISS3ISS3: 1.000000\u001b[2000D\u001b[K\u001b[2000D\u001b[KitkResampleImageFilterISS3ISS3: 1.000000\u001b[2000D\u001b[K\u001b[2000D\u001b[KitkResampleImageFilterISS3ISS3: 1.000000\u001b[2000D\u001b[K\u001b[2000D\u001b[KitkResampleImageFilterISS3ISS3: 1.000000\u001b[2000D\u001b[K\u001b[2000D\u001b[KitkResampleImageFilterISS3ISS3: 1.000000\u001b[2000D\u001b[K\u001b[2000D\u001b[KitkResampleImageFilterISS3ISS3: 1.000000\u001b[2000D\u001b[K\u001b[2000D\u001b[KitkResampleImageFilterISS3ISS3: 1.000000\u001b[2000D\u001b[K\u001b[2000D\u001b[KitkResampleImageFilterISS3ISS3: 1.000000\u001b[2000D\u001b[K\u001b[2000D\u001b[KitkResampleImageFilterISS3ISS3: 1.000000\u001b[2000D\u001b[K\u001b[2000D\u001b[KitkResampleImageFilterISS3ISS3: 1.000000\u001b[2000D\u001b[K\u001b[2000D\u001b[KitkResampleImageFilterISS3ISS3: 1.000000\u001b[2000D\u001b[K\u001b[2000D\u001b[KitkResampleImageFilterISS3ISS3: 1.000000\u001b[2000D\u001b[K\u001b[2000D\u001b[KitkResampleImageFilterISS3ISS3: 1.000000\u001b[2000D\u001b[K\u001b[2000D\u001b[KitkResampleImageFilterISS3ISS3: 1.000000\u001b[2000D\u001b[K\u001b[2000D\u001b[KitkResampleImageFilterISS3ISS3: 1.000000\u001b[2000D\u001b[K\u001b[2000D\u001b[KitkResampleImageFilterISS3ISS3: 1.000000\u001b[2000D\u001b[K\u001b[2000D\u001b[KitkResampleImageFilterISS3ISS3: 1.000000\u001b[2000D\u001b[K\u001b[2000D\u001b[KitkResampleImageFilterISS3ISS3: 1.000000\u001b[2000D\u001b[K\u001b[2000D\u001b[KitkResampleImageFilterISS3ISS3: 1.000000\u001b[2000D\u001b[K\u001b[2000D\u001b[KitkResampleImageFilterISS3ISS3: 1.000000\u001b[2000D\u001b[K\u001b[2000D\u001b[KitkResampleImageFilterISS3ISS3: 1.000000\u001b[2000D\u001b[K\u001b[2000D\u001b[KitkResampleImageFilterISS3ISS3: 1.000000\u001b[2000D\u001b[K\u001b[2000D\u001b[KitkResampleImageFilterISS3ISS3: 1.000000\u001b[2000D\u001b[K\u001b[2000D\u001b[KitkResampleImageFilterISS3ISS3: 1.000000\u001b[2000D\u001b[K\u001b[2000D\u001b[KitkResampleImageFilterISS3ISS3: 1.000000\u001b[2000D\u001b[K\u001b[2000D\u001b[KitkResampleImageFilterISS3ISS3: 1.000000\u001b[2000D\u001b[K\u001b[2000D\u001b[KitkResampleImageFilterISS3ISS3: 1.000000\u001b[2000D\u001b[K\u001b[2000D\u001b[KitkResampleImageFilterISS3ISS3: 1.000000\u001b[2000D\u001b[K\u001b[2000D\u001b[KitkResampleImageFilterISS3ISS3: 1.000000\u001b[2000D\u001b[K\u001b[2000D\u001b[KitkResampleImageFilterISS3ISS3: 1.000000\u001b[2000D\u001b[K\u001b[2000D\u001b[KitkResampleImageFilterISS3ISS3: 1.000000\u001b[2000D\u001b[K\u001b[2000D\u001b[KitkResampleImageFilterISS3ISS3: 1.000000\u001b[2000D\u001b[K\u001b[2000D\u001b[KitkResampleImageFilterISS3ISS3: 1.000000\u001b[2000D\u001b[K\u001b[2000D\u001b[KitkResampleImageFilterISS3ISS3: 1.000000\u001b[2000D\u001b[K\u001b[2000D\u001b[KitkResampleImageFilterISS3ISS3: 1.000000\u001b[2000D\u001b[K\u001b[2000D\u001b[KitkResampleImageFilterISS3ISS3: 1.000000\u001b[2000D\u001b[K\u001b[2000D\u001b[KitkResampleImageFilterISS3ISS3: 1.000000\u001b[2000D\u001b[K\u001b[2000D\u001b[KitkResampleImageFilterISS3ISS3: 1.000000\u001b[2000D\u001b[K\u001b[2000D\u001b[KitkResampleImageFilterISS3ISS3: 1.000000\u001b[2000D\u001b[K\u001b[2000D\u001b[KitkResampleImageFilterISS3ISS3: 1.000000\u001b[2000D\u001b[K\u001b[2000D\u001b[KitkResampleImageFilterISS3ISS3: 1.000000\u001b[2000D\u001b[K\u001b[2000D\u001b[KitkResampleImageFilterISS3ISS3: 1.000000\u001b[2000D\u001b[K\u001b[2000D\u001b[KitkResampleImageFilterISS3ISS3: 1.000000\u001b[2000D\u001b[K\u001b[2000D\u001b[KitkResampleImageFilterISS3ISS3: 1.000000\u001b[2000D\u001b[K\u001b[2000D\u001b[KitkResampleImageFilterISS3ISS3: 1.000000\u001b[2000D\u001b[K\u001b[2000D\u001b[KitkResampleImageFilterISS3ISS3: 1.000000\u001b[2000D\u001b[K\u001b[2000D\u001b[KitkResampleImageFilterISS3ISS3: 1.000000\u001b[2000D\u001b[K\u001b[2000D\u001b[KitkResampleImageFilterISS3ISS3: 1.000000\u001b[2000D\u001b[K\u001b[2000D\u001b[KitkResampleImageFilterISS3ISS3: 1.000000\u001b[2000D\u001b[K\u001b[2000D\u001b[KitkResampleImageFilterISS3ISS3: 1.000000\u001b[2000D\u001b[K\u001b[2000D\u001b[KitkResampleImageFilterISS3ISS3: 1.000000\u001b[2000D\u001b[K\u001b[2000D\u001b[KitkResampleImageFilterISS3ISS3: 1.000000\u001b[2000D\u001b[K\u001b[2000D\u001b[KitkResampleImageFilterISS3ISS3: 1.000000\u001b[2000D\u001b[K\u001b[2000D\u001b[KitkResampleImageFilterISS3ISS3: 1.000000\u001b[2000D\u001b[K\u001b[2000D\u001b[KitkResampleImageFilterISS3ISS3: 1.000000\u001b[2000D\u001b[K\u001b[2000D\u001b[KitkResampleImageFilterISS3ISS3: 1.000000\u001b[2000D\u001b[K\u001b[2000D\u001b[KitkResampleImageFilterISS3ISS3: 1.000000\u001b[2000D\u001b[K\u001b[2000D\u001b[KitkResampleImageFilterISS3ISS3: 1.000000\u001b[2000D\u001b[K\u001b[2000D\u001b[KitkResampleImageFilterISS3ISS3: 1.000000\u001b[2000D\u001b[K\u001b[2000D\u001b[KitkResampleImageFilterISS3ISS3: 1.000000\u001b[2000D\u001b[K\u001b[2000D\u001b[KitkResampleImageFilterISS3ISS3: 1.000000\u001b[2000D\u001b[K\u001b[2000D\u001b[KitkResampleImageFilterISS3ISS3: 1.000000\u001b[2000D\u001b[K\u001b[2000D\u001b[KitkResampleImageFilterISS3ISS3: 1.000000\u001b[2000D\u001b[K\u001b[2000D\u001b[KitkResampleImageFilterISS3ISS3: 1.000000\u001b[2000D\u001b[K\u001b[2000D\u001b[KitkResampleImageFilterISS3ISS3: 1.000000\u001b[2000D\u001b[K\u001b[2000D\u001b[KitkResampleImageFilterISS3ISS3: 1.000000\u001b[2000D\u001b[K\u001b[2000D\u001b[KitkResampleImageFilterISS3ISS3: 1.000000\u001b[2000D\u001b[K\u001b[2000D\u001b[KitkResampleImageFilterISS3ISS3: 1.000000\u001b[2000D\u001b[K\u001b[2000D\u001b[KitkResampleImageFilterISS3ISS3: 1.000000\u001b[2000D\u001b[K\u001b[2000D\u001b[KitkResampleImageFilterISS3ISS3: 1.000000\u001b[2000D\u001b[K\u001b[2000D\u001b[KitkResampleImageFilterISS3ISS3: 1.000000\u001b[2000D\u001b[K\u001b[2000D\u001b[KitkResampleImageFilterISS3ISS3: 1.000000\u001b[2000D\u001b[K\u001b[2000D\u001b[KitkResampleImageFilterISS3ISS3: 1.000000\u001b[2000D\u001b[K\u001b[2000D\u001b[KitkResampleImageFilterISS3ISS3: 1.000000\u001b[2000D\u001b[K\u001b[2000D\u001b[KitkResampleImageFilterISS3ISS3: 1.000000\u001b[2000D\u001b[K\u001b[2000D\u001b[KitkResampleImageFilterISS3ISS3: 1.000000\u001b[2000D\u001b[K\u001b[2000D\u001b[KitkResampleImageFilterISS3ISS3: 1.000000\u001b[2000D\u001b[K\u001b[2000D\u001b[KitkResampleImageFilterISS3ISS3: 1.000000\u001b[2000D\u001b[K\u001b[2000D\u001b[KitkResampleImageFilterISS3ISS3: 1.000000\u001b[2000D\u001b[K\u001b[2000D\u001b[KitkResampleImageFilterISS3ISS3: 1.000000\u001b[2000D\u001b[K\u001b[2000D\u001b[KitkResampleImageFilterISS3ISS3: 1.000000\u001b[2000D\u001b[K\u001b[2000D\u001b[KitkResampleImageFilterISS3ISS3: 1.000000\u001b[2000D\u001b[K\u001b[2000D\u001b[KitkResampleImageFilterISS3ISS3: 1.000000\u001b[2000D\u001b[K\u001b[2000D\u001b[KitkResampleImageFilterISS3ISS3: 1.000000\u001b[2000D\u001b[K\u001b[2000D\u001b[KitkResampleImageFilterISS3ISS3: 1.000000\u001b[2000D\u001b[K\u001b[2000D\u001b[KitkResampleImageFilterISS3ISS3: 1.000000\u001b[2000D\u001b[K\u001b[2000D\u001b[KitkResampleImageFilterISS3ISS3: 1.000000\u001b[2000D\u001b[K\u001b[2000D\u001b[KitkResampleImageFilterISS3ISS3: 1.000000\u001b[2000D\u001b[K\u001b[2000D\u001b[KitkResampleImageFilterISS3ISS3: 1.000000\u001b[2000D\u001b[K\u001b[2000D\u001b[KitkResampleImageFilterISS3ISS3: 1.000000\u001b[2000D\u001b[K\u001b[2000D\u001b[KitkResampleImageFilterISS3ISS3: 1.000000\u001b[2000D\u001b[K\u001b[2000D\u001b[KitkResampleImageFilterISS3ISS3: 1.000000\u001b[2000D\u001b[K\u001b[2000D\u001b[KitkResampleImageFilterISS3ISS3: 1.000000\u001b[2000D\u001b[K\u001b[2000D\u001b[KitkResampleImageFilterISS3ISS3: 1.000000\u001b[2000D\u001b[K\u001b[2000D\u001b[KitkResampleImageFilterISS3ISS3: 1.000000\u001b[2000D\u001b[K\u001b[2000D\u001b[KitkResampleImageFilterISS3ISS3: 1.000000\u001b[2000D\u001b[K\u001b[2000D\u001b[KitkResampleImageFilterISS3ISS3: 1.000000\u001b[2000D\u001b[K\u001b[2000D\u001b[KitkResampleImageFilterISS3ISS3: 1.000000\u001b[2000D\u001b[K\u001b[2000D\u001b[KitkResampleImageFilterISS3ISS3: 1.000000\u001b[2000D\u001b[K\u001b[2000D\u001b[KitkResampleImageFilterISS3ISS3: 1.000000\u001b[2000D\u001b[K\u001b[2000D\u001b[KitkResampleImageFilterISS3ISS3: 1.000000\u001b[2000D\u001b[K\u001b[2000D\u001b[KitkResampleImageFilterISS3ISS3: 1.000000\u001b[2000D\u001b[K\u001b[2000D\u001b[KitkResampleImageFilterISS3ISS3: 1.000000\u001b[2000D\u001b[K\u001b[2000D\u001b[KitkResampleImageFilterISS3ISS3: 1.000000\u001b[2000D\u001b[K\u001b[2000D\u001b[KitkResampleImageFilterISS3ISS3: 1.000000\u001b[2000D\u001b[K\u001b[2000D\u001b[KitkResampleImageFilterISS3ISS3: 1.000000\u001b[2000D\u001b[K\u001b[2000D\u001b[KitkResampleImageFilterISS3ISS3: 1.000000\u001b[2000D\u001b[K\u001b[2000D\u001b[KitkResampleImageFilterISS3ISS3: 1.000000\u001b[2000D\u001b[K\u001b[2000D\u001b[KitkResampleImageFilterISS3ISS3: 1.000000\u001b[2000D\u001b[K\u001b[2000D\u001b[KitkResampleImageFilterISS3ISS3: 1.000000\u001b[2000D\u001b[K\u001b[2000D\u001b[KitkResampleImageFilterISS3ISS3: 1.000000\u001b[2000D\u001b[K\u001b[2000D\u001b[KitkResampleImageFilterISS3ISS3: 1.000000\u001b[2000D\u001b[K\u001b[2000D\u001b[KitkResampleImageFilterISS3ISS3: 1.000000\u001b[2000D\u001b[K\u001b[2000D\u001b[KitkResampleImageFilterISS3ISS3: 1.000000\u001b[2000D\u001b[K\u001b[2000D\u001b[KitkResampleImageFilterISS3ISS3: 1.000000\u001b[2000D\u001b[K\u001b[2000D\u001b[KitkResampleImageFilterISS3ISS3: 1.000000\u001b[2000D\u001b[K\u001b[2000D\u001b[KitkResampleImageFilterISS3ISS3: 1.000000\u001b[2000D\u001b[K\u001b[2000D\u001b[KitkResampleImageFilterISS3ISS3: 1.000000\u001b[2000D\u001b[K\u001b[2000D\u001b[KitkResampleImageFilterISS3ISS3: 1.000000\u001b[2000D\u001b[K\u001b[2000D\u001b[KitkResampleImageFilterISS3ISS3: 1.000000\u001b[2000D\u001b[K\u001b[2000D\u001b[KitkResampleImageFilterISS3ISS3: 1.000000\u001b[2000D\u001b[K\u001b[2000D\u001b[KitkResampleImageFilterISS3ISS3: 1.000000\u001b[2000D\u001b[K\u001b[2000D\u001b[KitkResampleImageFilterISS3ISS3: 1.000000\u001b[2000D\u001b[K\u001b[2000D\u001b[KitkResampleImageFilterISS3ISS3: 1.000000\u001b[2000D\u001b[K\u001b[2000D\u001b[KitkResampleImageFilterISS3ISS3: 1.000000\u001b[2000D\u001b[K\u001b[2000D\u001b[KitkResampleImageFilterISS3ISS3: 1.000000\u001b[2000D\u001b[K\u001b[2000D\u001b[KitkResampleImageFilterISS3ISS3: 1.000000\u001b[2000D\u001b[K\u001b[2000D\u001b[KitkResampleImageFilterISS3ISS3: 1.000000\u001b[2000D\u001b[K\u001b[2000D\u001b[KitkResampleImageFilterISS3ISS3: 1.000000\u001b[2000D\u001b[K\u001b[2000D\u001b[KitkResampleImageFilterISS3ISS3: 1.000000\u001b[2000D\u001b[K\u001b[2000D\u001b[KitkResampleImageFilterISS3ISS3: 1.000000\u001b[2000D\u001b[K\u001b[2000D\u001b[KitkResampleImageFilterISS3ISS3: 1.000000\u001b[2000D\u001b[K\u001b[2000D\u001b[KitkResampleImageFilterISS3ISS3: 1.000000\u001b[2000D\u001b[K\u001b[2000D\u001b[KitkResampleImageFilterISS3ISS3: 1.000000\u001b[2000D\u001b[K\u001b[2000D\u001b[KitkResampleImageFilterISS3ISS3: 1.000000\u001b[2000D\u001b[K\u001b[2000D\u001b[KitkResampleImageFilterISS3ISS3: 1.000000\u001b[2000D\u001b[K\u001b[2000D\u001b[KitkResampleImageFilterISS3ISS3: 1.000000\u001b[2000D\u001b[K\u001b[2000D\u001b[KitkResampleImageFilterISS3ISS3: 1.000000\u001b[2000D\u001b[K\u001b[2000D\u001b[KitkResampleImageFilterISS3ISS3: 1.000000\u001b[2000D\u001b[K\u001b[2000D\u001b[KitkResampleImageFilterISS3ISS3: 1.000000\u001b[2000D\u001b[K\u001b[2000D\u001b[KitkResampleImageFilterISS3ISS3: 1.000000\u001b[2000D\u001b[K\u001b[2000D\u001b[KitkResampleImageFilterISS3ISS3: 1.000000\u001b[2000D\u001b[K\u001b[2000D\u001b[KitkResampleImageFilterISS3ISS3: 1.000000\u001b[2000D\u001b[K\u001b[2000D\u001b[KitkResampleImageFilterISS3ISS3: 1.000000\u001b[2000D\u001b[K\u001b[2000D\u001b[KitkResampleImageFilterISS3ISS3: 1.000000\u001b[2000D\u001b[K\u001b[2000D\u001b[KitkResampleImageFilterISS3ISS3: 1.000000\u001b[2000D\u001b[K\u001b[2000D\u001b[KitkResampleImageFilterISS3ISS3: 1.000000\u001b[2000D\u001b[K\u001b[2000D\u001b[KitkResampleImageFilterISS3ISS3: 1.000000\u001b[2000D\u001b[K\u001b[2000D\u001b[KitkResampleImageFilterISS3ISS3: 1.000000\u001b[2000D\u001b[K\u001b[2000D\u001b[KitkResampleImageFilterISS3ISS3: 1.000000\u001b[2000D\u001b[K\u001b[2000D\u001b[KitkResampleImageFilterISS3ISS3: 1.000000\u001b[2000D\u001b[K\u001b[2000D\u001b[KitkResampleImageFilterISS3ISS3: 1.000000\u001b[2000D\u001b[K\u001b[2000D\u001b[KitkResampleImageFilterISS3ISS3: 1.000000\u001b[2000D\u001b[K\u001b[2000D\u001b[KitkResampleImageFilterISS3ISS3: 1.000000\u001b[2000D\u001b[K\u001b[2000D\u001b[KitkResampleImageFilterISS3ISS3: 1.000000\u001b[2000D\u001b[K\u001b[2000D\u001b[KitkResampleImageFilterISS3ISS3: 1.000000\u001b[2000D\u001b[K\u001b[2000D\u001b[KitkResampleImageFilterISS3ISS3: 1.000000\u001b[2000D\u001b[K\u001b[2000D\u001b[KitkResampleImageFilterISS3ISS3: 1.000000\u001b[2000D\u001b[K\u001b[2000D\u001b[KitkResampleImageFilterISS3ISS3: 1.000000\u001b[2000D\u001b[K\u001b[2000D\u001b[KitkResampleImageFilterISS3ISS3: 1.000000\u001b[2000D\u001b[K\u001b[2000D\u001b[KitkResampleImageFilterISS3ISS3: 1.000000\u001b[2000D\u001b[K\u001b[2000D\u001b[KitkResampleImageFilterISS3ISS3: 1.000000\u001b[2000D\u001b[K\u001b[2000D\u001b[KitkResampleImageFilterISS3ISS3: 1.000000\u001b[2000D\u001b[K\u001b[2000D\u001b[KitkResampleImageFilterISS3ISS3: 1.000000\u001b[2000D\u001b[K\u001b[2000D\u001b[KitkResampleImageFilterISS3ISS3: 1.000000\u001b[2000D\u001b[K\u001b[2000D\u001b[KitkResampleImageFilterISS3ISS3: 1.000000\u001b[2000D\u001b[K\u001b[2000D\u001b[KitkResampleImageFilterISS3ISS3: 1.000000\u001b[2000D\u001b[K\u001b[2000D\u001b[KitkResampleImageFilterISS3ISS3: 1.000000\u001b[2000D\u001b[K\u001b[2000D\u001b[KitkResampleImageFilterISS3ISS3: 1.000000\u001b[2000D\u001b[K\u001b[2000D\u001b[KitkResampleImageFilterISS3ISS3: 1.000000\u001b[2000D\u001b[K\u001b[2000D\u001b[KitkResampleImageFilterISS3ISS3: 1.000000\u001b[2000D\u001b[K\u001b[2000D\u001b[KitkResampleImageFilterISS3ISS3: 1.000000\u001b[2000D\u001b[K\u001b[2000D\u001b[KitkResampleImageFilterISS3ISS3: 1.000000\u001b[2000D\u001b[K\u001b[2000D\u001b[KitkResampleImageFilterISS3ISS3: 1.000000\u001b[2000D\u001b[K\u001b[2000D\u001b[KitkResampleImageFilterISS3ISS3: 1.000000\u001b[2000D\u001b[K\u001b[2000D\u001b[KitkResampleImageFilterISS3ISS3: 1.000000\u001b[2000D\u001b[K\u001b[2000D\u001b[KitkResampleImageFilterISS3ISS3: 1.000000\u001b[2000D\u001b[K\u001b[2000D\u001b[KitkResampleImageFilterISS3ISS3: 1.000000\u001b[2000D\u001b[K\u001b[2000D\u001b[KitkResampleImageFilterISS3ISS3: 1.000000\u001b[2000D\u001b[K\u001b[2000D\u001b[KitkResampleImageFilterISS3ISS3: 1.000000\u001b[2000D\u001b[K\u001b[2000D\u001b[KitkResampleImageFilterISS3ISS3: 1.000000\u001b[2000D\u001b[K\u001b[2000D\u001b[KitkResampleImageFilterISS3ISS3: 1.000000\u001b[2000D\u001b[K\u001b[2000D\u001b[KitkResampleImageFilterISS3ISS3: 1.000000\u001b[2000D\u001b[K\u001b[2000D\u001b[KitkResampleImageFilterISS3ISS3: 1.000000\u001b[2000D\u001b[K\u001b[2000D\u001b[KitkResampleImageFilterISS3ISS3: 1.000000\u001b[2000D\u001b[K\u001b[2000D\u001b[KitkResampleImageFilterISS3ISS3: 1.000000\u001b[2000D\u001b[K\u001b[2000D\u001b[KitkResampleImageFilterISS3ISS3: 1.000000\u001b[2000D\u001b[K\u001b[2000D\u001b[KitkResampleImageFilterISS3ISS3: 1.000000\u001b[2000D\u001b[K\u001b[2000D\u001b[KitkResampleImageFilterISS3ISS3: 1.000000\u001b[2000D\u001b[K\u001b[2000D\u001b[KitkResampleImageFilterISS3ISS3: 1.000000\u001b[2000D\u001b[K\u001b[2000D\u001b[KitkResampleImageFilterISS3ISS3: 1.000000\u001b[2000D\u001b[K\u001b[2000D\u001b[KitkResampleImageFilterISS3ISS3: 1.000000\u001b[2000D\u001b[K\u001b[2000D\u001b[KitkResampleImageFilterISS3ISS3: 1.000000\u001b[2000D\u001b[K\u001b[2000D\u001b[KitkResampleImageFilterISS3ISS3: 1.000000\u001b[2000D\u001b[K\u001b[2000D\u001b[KitkResampleImageFilterISS3ISS3: 1.000000\u001b[2000D\u001b[K\u001b[2000D\u001b[KitkResampleImageFilterISS3ISS3: 1.000000\u001b[2000D\u001b[K\u001b[2000D\u001b[KitkResampleImageFilterISS3ISS3: 1.000000\u001b[2000D\u001b[K\u001b[2000D\u001b[KitkResampleImageFilterISS3ISS3: 1.000000\u001b[2000D\u001b[K\u001b[2000D\u001b[KitkResampleImageFilterISS3ISS3: 1.000000\u001b[2000D\u001b[K\u001b[2000D\u001b[KitkResampleImageFilterISS3ISS3: 1.000000\u001b[2000D\u001b[K\u001b[2000D\u001b[KitkResampleImageFilterISS3ISS3: 1.000000\u001b[2000D\u001b[K\u001b[2000D\u001b[KitkResampleImageFilterISS3ISS3: 1.000000\u001b[2000D\u001b[K\u001b[2000D\u001b[KitkResampleImageFilterISS3ISS3: 1.000000\u001b[2000D\u001b[K\u001b[2000D\u001b[KitkResampleImageFilterISS3ISS3: 1.000000\u001b[2000D\u001b[K\u001b[2000D\u001b[KitkResampleImageFilterISS3ISS3: 1.000000\u001b[2000D\u001b[K\u001b[2000D\u001b[KitkResampleImageFilterISS3ISS3: 1.000000\u001b[2000D\u001b[K"
     ]
    },
    {
     "name": "stderr",
     "output_type": "stream",
     "text": [
      "\u001b[2000D\u001b[KitkResampleImageFilterISS3ISS3: 1.000000\u001b[2000D\u001b[K\u001b[2000D\u001b[KitkResampleImageFilterISS3ISS3: 1.000000\u001b[2000D\u001b[K\u001b[2000D\u001b[KitkResampleImageFilterISS3ISS3: 1.000000\u001b[2000D\u001b[K\u001b[2000D\u001b[KitkResampleImageFilterISS3ISS3: 1.000000\u001b[2000D\u001b[K\u001b[2000D\u001b[KitkResampleImageFilterISS3ISS3: 1.000000\u001b[2000D\u001b[K\u001b[2000D\u001b[KitkResampleImageFilterISS3ISS3: 1.000000\u001b[2000D\u001b[K\u001b[2000D\u001b[KitkResampleImageFilterISS3ISS3: 1.000000\u001b[2000D\u001b[K\u001b[2000D\u001b[KitkResampleImageFilterISS3ISS3: 1.000000\u001b[2000D\u001b[K\u001b[2000D\u001b[KitkResampleImageFilterISS3ISS3: 1.000000\u001b[2000D\u001b[K\u001b[2000D\u001b[KitkResampleImageFilterISS3ISS3: 1.000000\u001b[2000D\u001b[K\u001b[2000D\u001b[KitkResampleImageFilterISS3ISS3: 1.000000\u001b[2000D\u001b[K\u001b[2000D\u001b[KitkResampleImageFilterISS3ISS3: 1.000000\u001b[2000D\u001b[K\u001b[2000D\u001b[KitkResampleImageFilterISS3ISS3: 1.000000\u001b[2000D\u001b[K\u001b[2000D\u001b[KitkResampleImageFilterISS3ISS3: 1.000000\u001b[2000D\u001b[K\u001b[2000D\u001b[KitkResampleImageFilterISS3ISS3: 1.000000\u001b[2000D\u001b[K\u001b[2000D\u001b[KitkResampleImageFilterISS3ISS3: 1.000000\u001b[2000D\u001b[K\u001b[2000D\u001b[KitkResampleImageFilterISS3ISS3: 1.000000\u001b[2000D\u001b[K\u001b[2000D\u001b[KitkResampleImageFilterISS3ISS3: 1.000000\u001b[2000D\u001b[K\u001b[2000D\u001b[KitkResampleImageFilterISS3ISS3: 1.000000\u001b[2000D\u001b[K\u001b[2000D\u001b[KitkResampleImageFilterISS3ISS3: 1.000000\u001b[2000D\u001b[K\u001b[2000D\u001b[KitkResampleImageFilterISS3ISS3: 1.000000\u001b[2000D\u001b[K\u001b[2000D\u001b[KitkResampleImageFilterISS3ISS3: 1.000000\u001b[2000D\u001b[K\u001b[2000D\u001b[KitkResampleImageFilterISS3ISS3: 1.000000\u001b[2000D\u001b[K\u001b[2000D\u001b[KitkResampleImageFilterISS3ISS3: 1.000000\u001b[2000D\u001b[K\u001b[2000D\u001b[KitkResampleImageFilterISS3ISS3: 1.000000\u001b[2000D\u001b[K\u001b[2000D\u001b[KitkResampleImageFilterISS3ISS3: 1.000000\u001b[2000D\u001b[K\u001b[2000D\u001b[KitkResampleImageFilterISS3ISS3: 1.000000\u001b[2000D\u001b[K\u001b[2000D\u001b[KitkResampleImageFilterISS3ISS3: 1.000000\u001b[2000D\u001b[K\u001b[2000D\u001b[KitkResampleImageFilterISS3ISS3: 1.000000\u001b[2000D\u001b[K\u001b[2000D\u001b[KitkResampleImageFilterISS3ISS3: 1.000000\u001b[2000D\u001b[K\u001b[2000D\u001b[KitkResampleImageFilterISS3ISS3: 1.000000\u001b[2000D\u001b[K\u001b[2000D\u001b[KitkResampleImageFilterISS3ISS3: 1.000000\u001b[2000D\u001b[K\u001b[2000D\u001b[KitkResampleImageFilterISS3ISS3: 1.000000\u001b[2000D\u001b[K\u001b[2000D\u001b[KitkResampleImageFilterISS3ISS3: 1.000000\u001b[2000D\u001b[K\u001b[2000D\u001b[KitkResampleImageFilterISS3ISS3: 1.000000\u001b[2000D\u001b[K\u001b[2000D\u001b[KitkResampleImageFilterISS3ISS3: 1.000000\u001b[2000D\u001b[K\u001b[2000D\u001b[KitkResampleImageFilterISS3ISS3: 1.000000\u001b[2000D\u001b[K\u001b[2000D\u001b[KitkResampleImageFilterISS3ISS3: 1.000000\u001b[2000D\u001b[K\u001b[2000D\u001b[KitkResampleImageFilterISS3ISS3: 1.000000\u001b[2000D\u001b[K\u001b[2000D\u001b[KitkResampleImageFilterISS3ISS3: 1.000000\u001b[2000D\u001b[K\u001b[2000D\u001b[KitkResampleImageFilterISS3ISS3: 1.000000\u001b[2000D\u001b[K\u001b[2000D\u001b[KitkResampleImageFilterISS3ISS3: 1.000000\u001b[2000D\u001b[K\u001b[2000D\u001b[KitkResampleImageFilterISS3ISS3: 1.000000\u001b[2000D\u001b[K\u001b[2000D\u001b[KitkResampleImageFilterISS3ISS3: 1.000000\u001b[2000D\u001b[K\u001b[2000D\u001b[KitkResampleImageFilterISS3ISS3: 1.000000\u001b[2000D\u001b[K\u001b[2000D\u001b[KitkResampleImageFilterISS3ISS3: 1.000000\u001b[2000D\u001b[K\u001b[2000D\u001b[KitkResampleImageFilterISS3ISS3: 1.000000\u001b[2000D\u001b[K\u001b[2000D\u001b[KitkResampleImageFilterISS3ISS3: 1.000000\u001b[2000D\u001b[K\u001b[2000D\u001b[KitkResampleImageFilterISS3ISS3: 1.000000\u001b[2000D\u001b[K\u001b[2000D\u001b[KitkResampleImageFilterISS3ISS3: 1.000000\u001b[2000D\u001b[K\u001b[2000D\u001b[KitkResampleImageFilterISS3ISS3: 1.000000\u001b[2000D\u001b[K\u001b[2000D\u001b[KitkResampleImageFilterISS3ISS3: 1.000000\u001b[2000D\u001b[K\u001b[2000D\u001b[KitkResampleImageFilterISS3ISS3: 1.000000\u001b[2000D\u001b[K\u001b[2000D\u001b[KitkResampleImageFilterISS3ISS3: 1.000000\u001b[2000D\u001b[K\u001b[2000D\u001b[KitkResampleImageFilterISS3ISS3: 1.000000\u001b[2000D\u001b[K\u001b[2000D\u001b[KitkResampleImageFilterISS3ISS3: 1.000000\u001b[2000D\u001b[K\u001b[2000D\u001b[KitkResampleImageFilterISS3ISS3: 1.000000\u001b[2000D\u001b[K\u001b[2000D\u001b[KitkResampleImageFilterISS3ISS3: 1.000000\u001b[2000D\u001b[K\u001b[2000D\u001b[KitkResampleImageFilterISS3ISS3: 1.000000\u001b[2000D\u001b[K\u001b[2000D\u001b[KitkResampleImageFilterISS3ISS3: 1.000000\u001b[2000D\u001b[K\u001b[2000D\u001b[KitkResampleImageFilterISS3ISS3: 1.000000\u001b[2000D\u001b[K\u001b[2000D\u001b[KitkResampleImageFilterISS3ISS3: 1.000000\u001b[2000D\u001b[K\u001b[2000D\u001b[KitkResampleImageFilterISS3ISS3: 1.000000\u001b[2000D\u001b[K\u001b[2000D\u001b[KitkResampleImageFilterISS3ISS3: 1.000000\u001b[2000D\u001b[K\u001b[2000D\u001b[KitkResampleImageFilterISS3ISS3: 1.000000\u001b[2000D\u001b[K\u001b[2000D\u001b[KitkResampleImageFilterISS3ISS3: 1.000000\u001b[2000D\u001b[K\u001b[2000D\u001b[KitkResampleImageFilterISS3ISS3: 1.000000\u001b[2000D\u001b[K\u001b[2000D\u001b[KitkResampleImageFilterISS3ISS3: 1.000000\u001b[2000D\u001b[K\u001b[2000D\u001b[KitkResampleImageFilterISS3ISS3: 1.000000\u001b[2000D\u001b[K\u001b[2000D\u001b[KitkResampleImageFilterISS3ISS3: 1.000000\u001b[2000D\u001b[K\u001b[2000D\u001b[KitkResampleImageFilterISS3ISS3: 1.000000\u001b[2000D\u001b[K\u001b[2000D\u001b[KitkResampleImageFilterISS3ISS3: 1.000000\u001b[2000D\u001b[K\u001b[2000D\u001b[KitkResampleImageFilterISS3ISS3: 1.000000\u001b[2000D\u001b[K\u001b[2000D\u001b[KitkResampleImageFilterISS3ISS3: 1.000000\u001b[2000D\u001b[K\u001b[2000D\u001b[KitkResampleImageFilterISS3ISS3: 1.000000\u001b[2000D\u001b[K\u001b[2000D\u001b[KitkResampleImageFilterISS3ISS3: 1.000000\u001b[2000D\u001b[K\u001b[2000D\u001b[KitkResampleImageFilterISS3ISS3: 1.000000\u001b[2000D\u001b[K\u001b[2000D\u001b[KitkResampleImageFilterISS3ISS3: 1.000000\u001b[2000D\u001b[K\u001b[2000D\u001b[KitkResampleImageFilterISS3ISS3: 1.000000\u001b[2000D\u001b[K\u001b[2000D\u001b[KitkResampleImageFilterISS3ISS3: 1.000000\u001b[2000D\u001b[K\u001b[2000D\u001b[KitkResampleImageFilterISS3ISS3: 1.000000\u001b[2000D\u001b[K\u001b[2000D\u001b[KitkResampleImageFilterISS3ISS3: 1.000000\u001b[2000D\u001b[K\u001b[2000D\u001b[KitkResampleImageFilterISS3ISS3: 1.000000\u001b[2000D\u001b[K\u001b[2000D\u001b[KitkResampleImageFilterISS3ISS3: 1.000000\u001b[2000D\u001b[K\u001b[2000D\u001b[KitkResampleImageFilterISS3ISS3: 1.000000\u001b[2000D\u001b[K\u001b[2000D\u001b[KitkResampleImageFilterISS3ISS3: 1.000000\u001b[2000D\u001b[K\u001b[2000D\u001b[KitkResampleImageFilterISS3ISS3: 1.000000\u001b[2000D\u001b[K\u001b[2000D\u001b[KitkResampleImageFilterISS3ISS3: 1.000000\u001b[2000D\u001b[K\u001b[2000D\u001b[KitkResampleImageFilterISS3ISS3: 1.000000\u001b[2000D\u001b[K\u001b[2000D\u001b[KitkResampleImageFilterISS3ISS3: 1.000000\u001b[2000D\u001b[K\u001b[2000D\u001b[KitkResampleImageFilterISS3ISS3: 1.000000\u001b[2000D\u001b[K\u001b[2000D\u001b[KitkResampleImageFilterISS3ISS3: 1.000000\u001b[2000D\u001b[K\u001b[2000D\u001b[KitkResampleImageFilterISS3ISS3: 1.000000\u001b[2000D\u001b[K\u001b[2000D\u001b[KitkResampleImageFilterISS3ISS3: 1.000000\u001b[2000D\u001b[K\u001b[2000D\u001b[KitkResampleImageFilterISS3ISS3: 1.000000\u001b[2000D\u001b[K\u001b[2000D\u001b[KitkResampleImageFilterISS3ISS3: 1.000000\u001b[2000D\u001b[K\u001b[2000D\u001b[KitkResampleImageFilterISS3ISS3: 1.000000\u001b[2000D\u001b[K\u001b[2000D\u001b[KitkResampleImageFilterISS3ISS3: 1.000000\u001b[2000D\u001b[K\u001b[2000D\u001b[KitkResampleImageFilterISS3ISS3: 1.000000\u001b[2000D\u001b[K\u001b[2000D\u001b[KitkResampleImageFilterISS3ISS3: 1.000000\u001b[2000D\u001b[K\u001b[2000D\u001b[KitkResampleImageFilterISS3ISS3: 1.000000\u001b[2000D\u001b[K\u001b[2000D\u001b[KitkResampleImageFilterISS3ISS3: 1.000000\u001b[2000D\u001b[K\u001b[2000D\u001b[KitkResampleImageFilterISS3ISS3: 1.000000\u001b[2000D\u001b[K\u001b[2000D\u001b[KitkResampleImageFilterISS3ISS3: 1.000000\u001b[2000D\u001b[K\u001b[2000D\u001b[KitkResampleImageFilterISS3ISS3: 1.000000\u001b[2000D\u001b[K\u001b[2000D\u001b[KitkResampleImageFilterISS3ISS3: 1.000000\u001b[2000D\u001b[K\u001b[2000D\u001b[KitkResampleImageFilterISS3ISS3: 1.000000\u001b[2000D\u001b[K\u001b[2000D\u001b[KitkResampleImageFilterISS3ISS3: 1.000000\u001b[2000D\u001b[K\u001b[2000D\u001b[KitkResampleImageFilterISS3ISS3: 1.000000\u001b[2000D\u001b[K\u001b[2000D\u001b[KitkResampleImageFilterISS3ISS3: 1.000000\u001b[2000D\u001b[K\u001b[2000D\u001b[KitkResampleImageFilterISS3ISS3: 1.000000\u001b[2000D\u001b[K\u001b[2000D\u001b[KitkResampleImageFilterISS3ISS3: 1.000000\u001b[2000D\u001b[K\u001b[2000D\u001b[KitkResampleImageFilterISS3ISS3: 1.000000\u001b[2000D\u001b[K\u001b[2000D\u001b[KitkResampleImageFilterISS3ISS3: 1.000000\u001b[2000D\u001b[K\u001b[2000D\u001b[KitkResampleImageFilterISS3ISS3: 1.000000\u001b[2000D\u001b[K\u001b[2000D\u001b[KitkResampleImageFilterISS3ISS3: 1.000000\u001b[2000D\u001b[K\u001b[2000D\u001b[KitkResampleImageFilterISS3ISS3: 1.000000\u001b[2000D\u001b[K\u001b[2000D\u001b[KitkResampleImageFilterISS3ISS3: 1.000000\u001b[2000D\u001b[K\u001b[2000D\u001b[KitkResampleImageFilterISS3ISS3: 1.000000\u001b[2000D\u001b[K\u001b[2000D\u001b[KitkResampleImageFilterISS3ISS3: 1.000000\u001b[2000D\u001b[K\u001b[2000D\u001b[KitkResampleImageFilterISS3ISS3: 1.000000\u001b[2000D\u001b[K\u001b[2000D\u001b[KitkResampleImageFilterISS3ISS3: 1.000000\u001b[2000D\u001b[K\u001b[2000D\u001b[KitkResampleImageFilterISS3ISS3: 1.000000\u001b[2000D\u001b[K\u001b[2000D\u001b[KitkResampleImageFilterISS3ISS3: 1.000000\u001b[2000D\u001b[K\u001b[2000D\u001b[KitkResampleImageFilterISS3ISS3: 1.000000\u001b[2000D\u001b[K\u001b[2000D\u001b[KitkResampleImageFilterISS3ISS3: 1.000000\u001b[2000D\u001b[K\u001b[2000D\u001b[KitkResampleImageFilterISS3ISS3: 1.000000\u001b[2000D\u001b[K\u001b[2000D\u001b[KitkResampleImageFilterISS3ISS3: 1.000000\u001b[2000D\u001b[K\u001b[2000D\u001b[KitkResampleImageFilterISS3ISS3: 1.000000\u001b[2000D\u001b[K\u001b[2000D\u001b[KitkResampleImageFilterISS3ISS3: 1.000000\u001b[2000D\u001b[K\u001b[2000D\u001b[KitkResampleImageFilterISS3ISS3: 1.000000\u001b[2000D\u001b[K\u001b[2000D\u001b[KitkResampleImageFilterISS3ISS3: 1.000000\u001b[2000D\u001b[K\u001b[2000D\u001b[KitkResampleImageFilterISS3ISS3: 1.000000\u001b[2000D\u001b[K\u001b[2000D\u001b[KitkResampleImageFilterISS3ISS3: 1.000000\u001b[2000D\u001b[K\u001b[2000D\u001b[KitkResampleImageFilterISS3ISS3: 1.000000\u001b[2000D\u001b[K\u001b[2000D\u001b[KitkResampleImageFilterISS3ISS3: 1.000000\u001b[2000D\u001b[K\u001b[2000D\u001b[KitkResampleImageFilterISS3ISS3: 1.000000\u001b[2000D\u001b[K\u001b[2000D\u001b[KitkResampleImageFilterISS3ISS3: 1.000000\u001b[2000D\u001b[K\u001b[2000D\u001b[KitkResampleImageFilterISS3ISS3: 1.000000\u001b[2000D\u001b[K\u001b[2000D\u001b[KitkResampleImageFilterISS3ISS3: 1.000000\u001b[2000D\u001b[K\u001b[2000D\u001b[KitkResampleImageFilterISS3ISS3: 1.000000\u001b[2000D\u001b[K\u001b[2000D\u001b[KitkResampleImageFilterISS3ISS3: 1.000000\u001b[2000D\u001b[K\u001b[2000D\u001b[KitkResampleImageFilterISS3ISS3: 1.000000\u001b[2000D\u001b[K\u001b[2000D\u001b[KitkResampleImageFilterISS3ISS3: 1.000000\u001b[2000D\u001b[K\u001b[2000D\u001b[KitkResampleImageFilterISS3ISS3: 1.000000\u001b[2000D\u001b[K\u001b[2000D\u001b[KitkResampleImageFilterISS3ISS3: 1.000000\u001b[2000D\u001b[K\u001b[2000D\u001b[KitkResampleImageFilterISS3ISS3: 1.000000\u001b[2000D\u001b[K\u001b[2000D\u001b[KitkResampleImageFilterISS3ISS3: 1.000000\u001b[2000D\u001b[K\u001b[2000D\u001b[KitkResampleImageFilterISS3ISS3: 1.000000\u001b[2000D\u001b[K\u001b[2000D\u001b[KitkResampleImageFilterISS3ISS3: 1.000000\u001b[2000D\u001b[K\u001b[2000D\u001b[KitkResampleImageFilterISS3ISS3: 1.000000\u001b[2000D\u001b[K\u001b[2000D\u001b[KitkResampleImageFilterISS3ISS3: 1.000000\u001b[2000D\u001b[K\u001b[2000D\u001b[KitkResampleImageFilterISS3ISS3: 1.000000\u001b[2000D\u001b[K\u001b[2000D\u001b[KitkResampleImageFilterISS3ISS3: 1.000000\u001b[2000D\u001b[K\u001b[2000D\u001b[KitkResampleImageFilterISS3ISS3: 1.000000\u001b[2000D\u001b[K\u001b[2000D\u001b[KitkResampleImageFilterISS3ISS3: 1.000000\u001b[2000D\u001b[K\u001b[2000D\u001b[KitkResampleImageFilterISS3ISS3: 1.000000\u001b[2000D\u001b[K\u001b[2000D\u001b[KitkResampleImageFilterISS3ISS3: 1.000000\u001b[2000D\u001b[K\u001b[2000D\u001b[KitkResampleImageFilterISS3ISS3: 1.000000\u001b[2000D\u001b[K\u001b[2000D\u001b[KitkResampleImageFilterISS3ISS3: 1.000000\u001b[2000D\u001b[K\u001b[2000D\u001b[KitkResampleImageFilterISS3ISS3: 1.000000\u001b[2000D\u001b[K\u001b[2000D\u001b[KitkResampleImageFilterISS3ISS3: 1.000000\u001b[2000D\u001b[K\u001b[2000D\u001b[KitkResampleImageFilterISS3ISS3: 1.000000\u001b[2000D\u001b[K\u001b[2000D\u001b[KitkResampleImageFilterISS3ISS3: 1.000000\u001b[2000D\u001b[K\u001b[2000D\u001b[KitkResampleImageFilterISS3ISS3: 1.000000\u001b[2000D\u001b[K\u001b[2000D\u001b[KitkResampleImageFilterISS3ISS3: 1.000000\u001b[2000D\u001b[K\u001b[2000D\u001b[KitkResampleImageFilterISS3ISS3: 1.000000\u001b[2000D\u001b[K\u001b[2000D\u001b[KitkResampleImageFilterISS3ISS3: 1.000000\u001b[2000D\u001b[K\u001b[2000D\u001b[KitkResampleImageFilterISS3ISS3: 1.000000\u001b[2000D\u001b[K\u001b[2000D\u001b[KitkResampleImageFilterISS3ISS3: 1.000000\u001b[2000D\u001b[K\u001b[2000D\u001b[KitkResampleImageFilterISS3ISS3: 1.000000\u001b[2000D\u001b[K\u001b[2000D\u001b[KitkResampleImageFilterISS3ISS3: 1.000000\u001b[2000D\u001b[K\u001b[2000D\u001b[KitkResampleImageFilterISS3ISS3: 1.000000\u001b[2000D\u001b[K\u001b[2000D\u001b[KitkResampleImageFilterISS3ISS3: 1.000000\u001b[2000D\u001b[K\u001b[2000D\u001b[KitkResampleImageFilterISS3ISS3: 1.000000\u001b[2000D\u001b[K\u001b[2000D\u001b[KitkResampleImageFilterISS3ISS3: 1.000000\u001b[2000D\u001b[K\u001b[2000D\u001b[KitkResampleImageFilterISS3ISS3: 1.000000\u001b[2000D\u001b[K\u001b[2000D\u001b[KitkResampleImageFilterISS3ISS3: 1.000000\u001b[2000D\u001b[K\u001b[2000D\u001b[KitkResampleImageFilterISS3ISS3: 1.000000\u001b[2000D\u001b[K\u001b[2000D\u001b[KitkResampleImageFilterISS3ISS3: 1.000000\u001b[2000D\u001b[K\u001b[2000D\u001b[KitkResampleImageFilterISS3ISS3: 1.000000\u001b[2000D\u001b[K\u001b[2000D\u001b[KitkResampleImageFilterISS3ISS3: 1.000000\u001b[2000D\u001b[K\u001b[2000D\u001b[KitkResampleImageFilterISS3ISS3: 1.000000\u001b[2000D\u001b[K\u001b[2000D\u001b[KitkResampleImageFilterISS3ISS3: 1.000000\u001b[2000D\u001b[K\u001b[2000D\u001b[KitkResampleImageFilterISS3ISS3: 1.000000\u001b[2000D\u001b[K\u001b[2000D\u001b[KitkResampleImageFilterISS3ISS3: 1.000000\u001b[2000D\u001b[K\u001b[2000D\u001b[KitkResampleImageFilterISS3ISS3: 1.000000\u001b[2000D\u001b[K\u001b[2000D\u001b[KitkResampleImageFilterISS3ISS3: 1.000000\u001b[2000D\u001b[K\u001b[2000D\u001b[KitkResampleImageFilterISS3ISS3: 1.000000\u001b[2000D\u001b[K\u001b[2000D\u001b[KitkResampleImageFilterISS3ISS3: 1.000000\u001b[2000D\u001b[K\u001b[2000D\u001b[KitkResampleImageFilterISS3ISS3: 1.000000\u001b[2000D\u001b[K\u001b[2000D\u001b[KitkResampleImageFilterISS3ISS3: 1.000000\u001b[2000D\u001b[K\u001b[2000D\u001b[KitkResampleImageFilterISS3ISS3: 1.000000\u001b[2000D\u001b[K\u001b[2000D\u001b[KitkResampleImageFilterISS3ISS3: 1.000000\u001b[2000D\u001b[K\u001b[2000D\u001b[KitkResampleImageFilterISS3ISS3: 1.000000\u001b[2000D\u001b[K\u001b[2000D\u001b[KitkResampleImageFilterISS3ISS3: 1.000000\u001b[2000D\u001b[K\u001b[2000D\u001b[KitkResampleImageFilterISS3ISS3: 1.000000\u001b[2000D\u001b[K\u001b[2000D\u001b[KitkResampleImageFilterISS3ISS3: 1.000000\u001b[2000D\u001b[K\u001b[2000D\u001b[KitkResampleImageFilterISS3ISS3: 1.000000\u001b[2000D\u001b[K\u001b[2000D\u001b[KitkResampleImageFilterISS3ISS3: 1.000000\u001b[2000D\u001b[K\u001b[2000D\u001b[KitkResampleImageFilterISS3ISS3: 1.000000\u001b[2000D\u001b[K\u001b[2000D\u001b[KitkResampleImageFilterISS3ISS3: 1.000000\u001b[2000D\u001b[K\u001b[2000D\u001b[KitkResampleImageFilterISS3ISS3: 1.000000\u001b[2000D\u001b[K\u001b[2000D\u001b[KitkResampleImageFilterISS3ISS3: 1.000000\u001b[2000D\u001b[K\u001b[2000D\u001b[KitkResampleImageFilterISS3ISS3: 1.000000\u001b[2000D\u001b[K\u001b[2000D\u001b[KitkResampleImageFilterISS3ISS3: 1.000000\u001b[2000D\u001b[K\u001b[2000D\u001b[KitkResampleImageFilterISS3ISS3: 1.000000\u001b[2000D\u001b[K\u001b[2000D\u001b[KitkResampleImageFilterISS3ISS3: 1.000000\u001b[2000D\u001b[K\u001b[2000D\u001b[KitkResampleImageFilterISS3ISS3: 1.000000\u001b[2000D\u001b[K\u001b[2000D\u001b[KitkResampleImageFilterISS3ISS3: 1.000000\u001b[2000D\u001b[K\u001b[2000D\u001b[KitkResampleImageFilterISS3ISS3: 1.000000\u001b[2000D\u001b[K\u001b[2000D\u001b[KitkResampleImageFilterISS3ISS3: 1.000000\u001b[2000D\u001b[K\u001b[2000D\u001b[KitkResampleImageFilterISS3ISS3: 1.000000\u001b[2000D\u001b[K\u001b[2000D\u001b[KitkResampleImageFilterISS3ISS3: 1.000000\u001b[2000D\u001b[K\u001b[2000D\u001b[KitkResampleImageFilterISS3ISS3: 1.000000\u001b[2000D\u001b[K\u001b[2000D\u001b[KitkResampleImageFilterISS3ISS3: 1.000000\u001b[2000D\u001b[K\u001b[2000D\u001b[KitkResampleImageFilterISS3ISS3: 1.000000\u001b[2000D\u001b[K\u001b[2000D\u001b[KitkResampleImageFilterISS3ISS3: 1.000000\u001b[2000D\u001b[K\u001b[2000D\u001b[KitkResampleImageFilterISS3ISS3: 1.000000\u001b[2000D\u001b[K\u001b[2000D\u001b[KitkResampleImageFilterISS3ISS3: 1.000000\u001b[2000D\u001b[K\u001b[2000D\u001b[KitkResampleImageFilterISS3ISS3: 1.000000\u001b[2000D\u001b[K\u001b[2000D\u001b[KitkResampleImageFilterISS3ISS3: 1.000000\u001b[2000D\u001b[K\u001b[2000D\u001b[KitkResampleImageFilterISS3ISS3: 1.000000\u001b[2000D\u001b[K\u001b[2000D\u001b[KitkResampleImageFilterISS3ISS3: 1.000000\u001b[2000D\u001b[K\u001b[2000D\u001b[KitkResampleImageFilterISS3ISS3: 1.000000\u001b[2000D\u001b[K\u001b[2000D\u001b[KitkResampleImageFilterISS3ISS3: 1.000000\u001b[2000D\u001b[K\u001b[2000D\u001b[KitkResampleImageFilterISS3ISS3: 1.000000\u001b[2000D\u001b[K\u001b[2000D\u001b[KitkResampleImageFilterISS3ISS3: 1.000000\u001b[2000D\u001b[K\u001b[2000D\u001b[KitkResampleImageFilterISS3ISS3: 1.000000\u001b[2000D\u001b[K\u001b[2000D\u001b[KitkResampleImageFilterISS3ISS3: 1.000000\u001b[2000D\u001b[K\u001b[2000D\u001b[KitkResampleImageFilterISS3ISS3: 1.000000\u001b[2000D\u001b[K\u001b[2000D\u001b[KitkResampleImageFilterISS3ISS3: 1.000000\u001b[2000D\u001b[K\u001b[2000D\u001b[KitkResampleImageFilterISS3ISS3: 1.000000\u001b[2000D\u001b[K\u001b[2000D\u001b[KitkResampleImageFilterISS3ISS3: 1.000000\u001b[2000D\u001b[K\u001b[2000D\u001b[KitkResampleImageFilterISS3ISS3: 1.000000\u001b[2000D\u001b[K\u001b[2000D\u001b[KitkResampleImageFilterISS3ISS3: 1.000000\u001b[2000D\u001b[K\u001b[2000D\u001b[KitkResampleImageFilterISS3ISS3: 1.000000\u001b[2000D\u001b[K\u001b[2000D\u001b[KitkResampleImageFilterISS3ISS3: 1.000000\u001b[2000D\u001b[K\u001b[2000D\u001b[KitkResampleImageFilterISS3ISS3: 1.000000\u001b[2000D\u001b[K\u001b[2000D\u001b[KitkResampleImageFilterISS3ISS3: 1.000000\u001b[2000D\u001b[K\u001b[2000D\u001b[KitkResampleImageFilterISS3ISS3: 1.000000\u001b[2000D\u001b[K\u001b[2000D\u001b[KitkResampleImageFilterISS3ISS3: 1.000000\u001b[2000D\u001b[K\u001b[2000D\u001b[KitkResampleImageFilterISS3ISS3: 1.000000\u001b[2000D\u001b[K\u001b[2000D\u001b[KitkResampleImageFilterISS3ISS3: 1.000000\u001b[2000D\u001b[K\u001b[2000D\u001b[KitkResampleImageFilterISS3ISS3: 1.000000\u001b[2000D\u001b[K\u001b[2000D\u001b[KitkResampleImageFilterISS3ISS3: 1.000000\u001b[2000D\u001b[K\u001b[2000D\u001b[KitkResampleImageFilterISS3ISS3: 1.000000\u001b[2000D\u001b[K\u001b[2000D\u001b[KitkResampleImageFilterISS3ISS3: 1.000000\u001b[2000D\u001b[K\u001b[2000D\u001b[KitkResampleImageFilterISS3ISS3: 1.000000\u001b[2000D\u001b[K\u001b[2000D\u001b[KitkResampleImageFilterISS3ISS3: 1.000000\u001b[2000D\u001b[K\u001b[2000D\u001b[KitkResampleImageFilterISS3ISS3: 1.000000\u001b[2000D\u001b[K\u001b[2000D\u001b[KitkResampleImageFilterISS3ISS3: 1.000000\u001b[2000D\u001b[K\u001b[2000D\u001b[KitkResampleImageFilterISS3ISS3: 1.000000\u001b[2000D\u001b[K\u001b[2000D\u001b[KitkResampleImageFilterISS3ISS3: 1.000000\u001b[2000D\u001b[K\u001b[2000D\u001b[KitkResampleImageFilterISS3ISS3: 1.000000\u001b[2000D\u001b[K\u001b[2000D\u001b[KitkResampleImageFilterISS3ISS3: 1.000000\u001b[2000D\u001b[K\u001b[2000D\u001b[KitkResampleImageFilterISS3ISS3: 1.000000\u001b[2000D\u001b[K\u001b[2000D\u001b[KitkResampleImageFilterISS3ISS3: 1.000000\u001b[2000D\u001b[K\u001b[2000D\u001b[KitkResampleImageFilterISS3ISS3: 1.000000\u001b[2000D\u001b[K\u001b[2000D\u001b[KitkResampleImageFilterISS3ISS3: 1.000000\u001b[2000D\u001b[K\u001b[2000D\u001b[KitkResampleImageFilterISS3ISS3: 1.000000\u001b[2000D\u001b[K\u001b[2000D\u001b[KitkResampleImageFilterISS3ISS3: 1.000000\u001b[2000D\u001b[K"
     ]
    },
    {
     "name": "stderr",
     "output_type": "stream",
     "text": [
      "\u001b[2000D\u001b[KitkResampleImageFilterISS3ISS3: 1.000000\u001b[2000D\u001b[K\u001b[2000D\u001b[KitkResampleImageFilterISS3ISS3: 1.000000\u001b[2000D\u001b[K\u001b[2000D\u001b[KitkResampleImageFilterISS3ISS3: 1.000000\u001b[2000D\u001b[K\u001b[2000D\u001b[KitkResampleImageFilterISS3ISS3: 1.000000\u001b[2000D\u001b[K\u001b[2000D\u001b[KitkResampleImageFilterISS3ISS3: 1.000000\u001b[2000D\u001b[K\u001b[2000D\u001b[KitkResampleImageFilterISS3ISS3: 1.000000\u001b[2000D\u001b[K\u001b[2000D\u001b[KitkResampleImageFilterISS3ISS3: 1.000000\u001b[2000D\u001b[K\u001b[2000D\u001b[KitkResampleImageFilterISS3ISS3: 1.000000\u001b[2000D\u001b[K\u001b[2000D\u001b[KitkResampleImageFilterISS3ISS3: 1.000000\u001b[2000D\u001b[K\u001b[2000D\u001b[KitkResampleImageFilterISS3ISS3: 1.000000\u001b[2000D\u001b[K\u001b[2000D\u001b[KitkResampleImageFilterISS3ISS3: 1.000000\u001b[2000D\u001b[K\u001b[2000D\u001b[KitkResampleImageFilterISS3ISS3: 1.000000\u001b[2000D\u001b[K\u001b[2000D\u001b[KitkResampleImageFilterISS3ISS3: 1.000000\u001b[2000D\u001b[K\u001b[2000D\u001b[KitkResampleImageFilterISS3ISS3: 1.000000\u001b[2000D\u001b[K\u001b[2000D\u001b[KitkResampleImageFilterISS3ISS3: 1.000000\u001b[2000D\u001b[K\u001b[2000D\u001b[KitkResampleImageFilterISS3ISS3: 1.000000\u001b[2000D\u001b[K\u001b[2000D\u001b[KitkResampleImageFilterISS3ISS3: 1.000000\u001b[2000D\u001b[K\u001b[2000D\u001b[KitkResampleImageFilterISS3ISS3: 1.000000\u001b[2000D\u001b[K\u001b[2000D\u001b[KitkResampleImageFilterISS3ISS3: 1.000000\u001b[2000D\u001b[K\u001b[2000D\u001b[KitkResampleImageFilterISS3ISS3: 1.000000\u001b[2000D\u001b[K\u001b[2000D\u001b[KitkResampleImageFilterISS3ISS3: 1.000000\u001b[2000D\u001b[K\u001b[2000D\u001b[KitkResampleImageFilterISS3ISS3: 1.000000\u001b[2000D\u001b[K\u001b[2000D\u001b[KitkResampleImageFilterISS3ISS3: 1.000000\u001b[2000D\u001b[K\u001b[2000D\u001b[KitkResampleImageFilterISS3ISS3: 1.000000\u001b[2000D\u001b[K\u001b[2000D\u001b[KitkResampleImageFilterISS3ISS3: 1.000000\u001b[2000D\u001b[K\u001b[2000D\u001b[KitkResampleImageFilterISS3ISS3: 1.000000\u001b[2000D\u001b[K\u001b[2000D\u001b[KitkResampleImageFilterISS3ISS3: 1.000000\u001b[2000D\u001b[K\u001b[2000D\u001b[KitkResampleImageFilterISS3ISS3: 1.000000\u001b[2000D\u001b[K\u001b[2000D\u001b[KitkResampleImageFilterISS3ISS3: 1.000000\u001b[2000D\u001b[K\u001b[2000D\u001b[KitkResampleImageFilterISS3ISS3: 1.000000\u001b[2000D\u001b[K\u001b[2000D\u001b[KitkResampleImageFilterISS3ISS3: 1.000000\u001b[2000D\u001b[K\u001b[2000D\u001b[KitkResampleImageFilterISS3ISS3: 1.000000\u001b[2000D\u001b[K\u001b[2000D\u001b[KitkResampleImageFilterISS3ISS3: 1.000000\u001b[2000D\u001b[K\u001b[2000D\u001b[KitkResampleImageFilterISS3ISS3: 1.000000\u001b[2000D\u001b[K\u001b[2000D\u001b[KitkResampleImageFilterISS3ISS3: 1.000000\u001b[2000D\u001b[K\u001b[2000D\u001b[KitkResampleImageFilterISS3ISS3: 1.000000\u001b[2000D\u001b[K\u001b[2000D\u001b[KitkResampleImageFilterISS3ISS3: 1.000000\u001b[2000D\u001b[K\u001b[2000D\u001b[KitkResampleImageFilterISS3ISS3: 1.000000\u001b[2000D\u001b[K\u001b[2000D\u001b[KitkResampleImageFilterISS3ISS3: 1.000000\u001b[2000D\u001b[K\u001b[2000D\u001b[KitkResampleImageFilterISS3ISS3: 1.000000\u001b[2000D\u001b[K\u001b[2000D\u001b[KitkResampleImageFilterISS3ISS3: 1.000000\u001b[2000D\u001b[K\u001b[2000D\u001b[KitkResampleImageFilterISS3ISS3: 1.000000\u001b[2000D\u001b[K\u001b[2000D\u001b[KitkResampleImageFilterISS3ISS3: 1.000000\u001b[2000D\u001b[K\u001b[2000D\u001b[KitkResampleImageFilterISS3ISS3: 1.000000\u001b[2000D\u001b[K\u001b[2000D\u001b[KitkResampleImageFilterISS3ISS3: 1.000000\u001b[2000D\u001b[K\u001b[2000D\u001b[KitkResampleImageFilterISS3ISS3: 1.000000\u001b[2000D\u001b[K\u001b[2000D\u001b[KitkResampleImageFilterISS3ISS3: 1.000000\u001b[2000D\u001b[K\u001b[2000D\u001b[KitkResampleImageFilterISS3ISS3: 1.000000\u001b[2000D\u001b[K\u001b[2000D\u001b[KitkResampleImageFilterISS3ISS3: 1.000000\u001b[2000D\u001b[K\u001b[2000D\u001b[KitkResampleImageFilterISS3ISS3: 1.000000\u001b[2000D\u001b[K\u001b[2000D\u001b[KitkResampleImageFilterISS3ISS3: 1.000000\u001b[2000D\u001b[K\u001b[2000D\u001b[KitkResampleImageFilterISS3ISS3: 1.000000\u001b[2000D\u001b[K\u001b[2000D\u001b[KitkResampleImageFilterISS3ISS3: 1.000000\u001b[2000D\u001b[K\u001b[2000D\u001b[KitkResampleImageFilterISS3ISS3: 1.000000\u001b[2000D\u001b[K\u001b[2000D\u001b[KitkResampleImageFilterISS3ISS3: 1.000000\u001b[2000D\u001b[K\u001b[2000D\u001b[KitkResampleImageFilterISS3ISS3: 1.000000\u001b[2000D\u001b[K\u001b[2000D\u001b[KitkResampleImageFilterISS3ISS3: 1.000000\u001b[2000D\u001b[K\u001b[2000D\u001b[KitkResampleImageFilterISS3ISS3: 1.000000\u001b[2000D\u001b[K\u001b[2000D\u001b[KitkResampleImageFilterISS3ISS3: 1.000000\u001b[2000D\u001b[K\u001b[2000D\u001b[KitkResampleImageFilterISS3ISS3: 1.000000\u001b[2000D\u001b[K\u001b[2000D\u001b[KitkResampleImageFilterISS3ISS3: 1.000000\u001b[2000D\u001b[K\u001b[2000D\u001b[KitkResampleImageFilterISS3ISS3: 1.000000\u001b[2000D\u001b[K\u001b[2000D\u001b[KitkResampleImageFilterISS3ISS3: 1.000000\u001b[2000D\u001b[K\u001b[2000D\u001b[KitkResampleImageFilterISS3ISS3: 1.000000\u001b[2000D\u001b[K\u001b[2000D\u001b[KitkResampleImageFilterISS3ISS3: 1.000000\u001b[2000D\u001b[K\u001b[2000D\u001b[KitkResampleImageFilterISS3ISS3: 1.000000\u001b[2000D\u001b[K\u001b[2000D\u001b[KitkResampleImageFilterISS3ISS3: 1.000000\u001b[2000D\u001b[K\u001b[2000D\u001b[KitkResampleImageFilterISS3ISS3: 1.000000\u001b[2000D\u001b[K\u001b[2000D\u001b[KitkResampleImageFilterISS3ISS3: 1.000000\u001b[2000D\u001b[K\u001b[2000D\u001b[KitkResampleImageFilterISS3ISS3: 1.000000\u001b[2000D\u001b[K\u001b[2000D\u001b[KitkResampleImageFilterISS3ISS3: 1.000000\u001b[2000D\u001b[K\u001b[2000D\u001b[KitkResampleImageFilterISS3ISS3: 1.000000\u001b[2000D\u001b[K\u001b[2000D\u001b[KitkResampleImageFilterISS3ISS3: 1.000000\u001b[2000D\u001b[K\u001b[2000D\u001b[KitkResampleImageFilterISS3ISS3: 1.000000\u001b[2000D\u001b[K\u001b[2000D\u001b[KitkResampleImageFilterISS3ISS3: 1.000000\u001b[2000D\u001b[K\u001b[2000D\u001b[KitkResampleImageFilterISS3ISS3: 1.000000\u001b[2000D\u001b[K\u001b[2000D\u001b[KitkResampleImageFilterISS3ISS3: 1.000000\u001b[2000D\u001b[K\u001b[2000D\u001b[KitkResampleImageFilterISS3ISS3: 1.000000\u001b[2000D\u001b[K\u001b[2000D\u001b[KitkResampleImageFilterISS3ISS3: 1.000000\u001b[2000D\u001b[K\u001b[2000D\u001b[KitkResampleImageFilterISS3ISS3: 1.000000\u001b[2000D\u001b[K\u001b[2000D\u001b[KitkResampleImageFilterISS3ISS3: 1.000000\u001b[2000D\u001b[K\u001b[2000D\u001b[KitkResampleImageFilterISS3ISS3: 1.000000\u001b[2000D\u001b[K\u001b[2000D\u001b[KitkResampleImageFilterISS3ISS3: 1.000000\u001b[2000D\u001b[K\u001b[2000D\u001b[KitkResampleImageFilterISS3ISS3: 1.000000\u001b[2000D\u001b[K\u001b[2000D\u001b[KitkResampleImageFilterISS3ISS3: 1.000000\u001b[2000D\u001b[K\u001b[2000D\u001b[KitkResampleImageFilterISS3ISS3: 1.000000\u001b[2000D\u001b[K\u001b[2000D\u001b[KitkResampleImageFilterISS3ISS3: 1.000000\u001b[2000D\u001b[K\u001b[2000D\u001b[KitkResampleImageFilterISS3ISS3: 1.000000\u001b[2000D\u001b[K\u001b[2000D\u001b[KitkResampleImageFilterISS3ISS3: 1.000000\u001b[2000D\u001b[K\u001b[2000D\u001b[KitkResampleImageFilterISS3ISS3: 1.000000\u001b[2000D\u001b[K\u001b[2000D\u001b[KitkResampleImageFilterISS3ISS3: 1.000000\u001b[2000D\u001b[K\u001b[2000D\u001b[KitkResampleImageFilterISS3ISS3: 1.000000\u001b[2000D\u001b[K\u001b[2000D\u001b[KitkResampleImageFilterISS3ISS3: 1.000000\u001b[2000D\u001b[K\u001b[2000D\u001b[KitkResampleImageFilterISS3ISS3: 1.000000\u001b[2000D\u001b[K\u001b[2000D\u001b[KitkResampleImageFilterISS3ISS3: 1.000000\u001b[2000D\u001b[K\u001b[2000D\u001b[KitkResampleImageFilterISS3ISS3: 1.000000\u001b[2000D\u001b[K\u001b[2000D\u001b[KitkResampleImageFilterISS3ISS3: 1.000000\u001b[2000D\u001b[K\u001b[2000D\u001b[KitkResampleImageFilterISS3ISS3: 1.000000\u001b[2000D\u001b[K\u001b[2000D\u001b[KitkResampleImageFilterISS3ISS3: 1.000000\u001b[2000D\u001b[K\u001b[2000D\u001b[KitkResampleImageFilterISS3ISS3: 1.000000\u001b[2000D\u001b[K\u001b[2000D\u001b[KitkResampleImageFilterISS3ISS3: 1.000000\u001b[2000D\u001b[K\u001b[2000D\u001b[KitkResampleImageFilterISS3ISS3: 1.000000\u001b[2000D\u001b[K\u001b[2000D\u001b[KitkResampleImageFilterISS3ISS3: 1.000000\u001b[2000D\u001b[K\u001b[2000D\u001b[KitkResampleImageFilterISS3ISS3: 1.000000\u001b[2000D\u001b[K\u001b[2000D\u001b[KitkResampleImageFilterISS3ISS3: 1.000000\u001b[2000D\u001b[K\u001b[2000D\u001b[KitkResampleImageFilterISS3ISS3: 1.000000\u001b[2000D\u001b[K\u001b[2000D\u001b[KitkResampleImageFilterISS3ISS3: 1.000000\u001b[2000D\u001b[K\u001b[2000D\u001b[KitkResampleImageFilterISS3ISS3: 1.000000\u001b[2000D\u001b[K\u001b[2000D\u001b[KitkResampleImageFilterISS3ISS3: 1.000000\u001b[2000D\u001b[K\u001b[2000D\u001b[KitkResampleImageFilterISS3ISS3: 1.000000\u001b[2000D\u001b[K\u001b[2000D\u001b[KitkResampleImageFilterISS3ISS3: 1.000000\u001b[2000D\u001b[K\u001b[2000D\u001b[KitkResampleImageFilterISS3ISS3: 1.000000\u001b[2000D\u001b[K\u001b[2000D\u001b[KitkResampleImageFilterISS3ISS3: 1.000000\u001b[2000D\u001b[K\u001b[2000D\u001b[KitkResampleImageFilterISS3ISS3: 1.000000\u001b[2000D\u001b[K\u001b[2000D\u001b[KitkResampleImageFilterISS3ISS3: 1.000000\u001b[2000D\u001b[K\u001b[2000D\u001b[KitkResampleImageFilterISS3ISS3: 1.000000\u001b[2000D\u001b[K\u001b[2000D\u001b[KitkResampleImageFilterISS3ISS3: 1.000000\u001b[2000D\u001b[K\u001b[2000D\u001b[KitkResampleImageFilterISS3ISS3: 1.000000\u001b[2000D\u001b[K\u001b[2000D\u001b[KitkResampleImageFilterISS3ISS3: 1.000000\u001b[2000D\u001b[K\u001b[2000D\u001b[KitkResampleImageFilterISS3ISS3: 1.000000\u001b[2000D\u001b[K\u001b[2000D\u001b[KitkResampleImageFilterISS3ISS3: 1.000000\u001b[2000D\u001b[K\u001b[2000D\u001b[KitkResampleImageFilterISS3ISS3: 1.000000\u001b[2000D\u001b[K\u001b[2000D\u001b[KitkResampleImageFilterISS3ISS3: 1.000000\u001b[2000D\u001b[K\u001b[2000D\u001b[KitkResampleImageFilterISS3ISS3: 1.000000\u001b[2000D\u001b[K\u001b[2000D\u001b[KitkResampleImageFilterISS3ISS3: 1.000000\u001b[2000D\u001b[K\u001b[2000D\u001b[KitkResampleImageFilterISS3ISS3: 1.000000\u001b[2000D\u001b[K\u001b[2000D\u001b[KitkResampleImageFilterISS3ISS3: 1.000000\u001b[2000D\u001b[K\u001b[2000D\u001b[KitkResampleImageFilterISS3ISS3: 1.000000\u001b[2000D\u001b[K\u001b[2000D\u001b[KitkResampleImageFilterISS3ISS3: 1.000000\u001b[2000D\u001b[K\u001b[2000D\u001b[KitkResampleImageFilterISS3ISS3: 1.000000\u001b[2000D\u001b[K\u001b[2000D\u001b[KitkResampleImageFilterISS3ISS3: 1.000000\u001b[2000D\u001b[K\u001b[2000D\u001b[KitkResampleImageFilterISS3ISS3: 1.000000\u001b[2000D\u001b[K\u001b[2000D\u001b[KitkResampleImageFilterISS3ISS3: 1.000000\u001b[2000D\u001b[K\u001b[2000D\u001b[KitkResampleImageFilterISS3ISS3: 1.000000\u001b[2000D\u001b[K\u001b[2000D\u001b[KitkResampleImageFilterISS3ISS3: 1.000000\u001b[2000D\u001b[K\u001b[2000D\u001b[KitkResampleImageFilterISS3ISS3: 1.000000\u001b[2000D\u001b[K\u001b[2000D\u001b[KitkResampleImageFilterISS3ISS3: 1.000000\u001b[2000D\u001b[K\u001b[2000D\u001b[KitkResampleImageFilterISS3ISS3: 1.000000\u001b[2000D\u001b[K\u001b[2000D\u001b[KitkResampleImageFilterISS3ISS3: 1.000000\u001b[2000D\u001b[K\u001b[2000D\u001b[KitkResampleImageFilterISS3ISS3: 1.000000\u001b[2000D\u001b[K\u001b[2000D\u001b[KitkResampleImageFilterISS3ISS3: 1.000000\u001b[2000D\u001b[K\u001b[2000D\u001b[KitkResampleImageFilterISS3ISS3: 1.000000\u001b[2000D\u001b[K\u001b[2000D\u001b[KitkResampleImageFilterISS3ISS3: 1.000000\u001b[2000D\u001b[K\u001b[2000D\u001b[KitkResampleImageFilterISS3ISS3: 1.000000\u001b[2000D\u001b[K\u001b[2000D\u001b[KitkResampleImageFilterISS3ISS3: 1.000000\u001b[2000D\u001b[K\u001b[2000D\u001b[KitkResampleImageFilterISS3ISS3: 1.000000\u001b[2000D\u001b[K\u001b[2000D\u001b[KitkResampleImageFilterISS3ISS3: 1.000000\u001b[2000D\u001b[K\u001b[2000D\u001b[KitkResampleImageFilterISS3ISS3: 1.000000\u001b[2000D\u001b[K\u001b[2000D\u001b[KitkResampleImageFilterISS3ISS3: 1.000000\u001b[2000D\u001b[K\u001b[2000D\u001b[KitkResampleImageFilterISS3ISS3: 1.000000\u001b[2000D\u001b[K\u001b[2000D\u001b[KitkResampleImageFilterISS3ISS3: 1.000000\u001b[2000D\u001b[K\u001b[2000D\u001b[KitkResampleImageFilterISS3ISS3: 1.000000\u001b[2000D\u001b[K\u001b[2000D\u001b[KitkResampleImageFilterISS3ISS3: 1.000000\u001b[2000D\u001b[K\u001b[2000D\u001b[KitkResampleImageFilterISS3ISS3: 1.000000\u001b[2000D\u001b[K\u001b[2000D\u001b[KitkResampleImageFilterISS3ISS3: 1.000000\u001b[2000D\u001b[K\u001b[2000D\u001b[KitkResampleImageFilterISS3ISS3: 1.000000\u001b[2000D\u001b[K\u001b[2000D\u001b[KitkResampleImageFilterISS3ISS3: 1.000000\u001b[2000D\u001b[K\u001b[2000D\u001b[KitkResampleImageFilterISS3ISS3: 1.000000\u001b[2000D\u001b[K\u001b[2000D\u001b[KitkResampleImageFilterISS3ISS3: 1.000000\u001b[2000D\u001b[K\u001b[2000D\u001b[KitkResampleImageFilterISS3ISS3: 1.000000\u001b[2000D\u001b[K\u001b[2000D\u001b[KitkResampleImageFilterISS3ISS3: 1.000000\u001b[2000D\u001b[K\u001b[2000D\u001b[KitkResampleImageFilterISS3ISS3: 1.000000\u001b[2000D\u001b[K\u001b[2000D\u001b[KitkResampleImageFilterISS3ISS3: 1.000000\u001b[2000D\u001b[K\u001b[2000D\u001b[KitkResampleImageFilterISS3ISS3: 1.000000\u001b[2000D\u001b[K\u001b[2000D\u001b[KitkResampleImageFilterISS3ISS3: 1.000000\u001b[2000D\u001b[K\u001b[2000D\u001b[KitkResampleImageFilterISS3ISS3: 1.000000\u001b[2000D\u001b[K\u001b[2000D\u001b[KitkResampleImageFilterISS3ISS3: 1.000000\u001b[2000D\u001b[K\u001b[2000D\u001b[KitkResampleImageFilterISS3ISS3: 1.000000\u001b[2000D\u001b[K\u001b[2000D\u001b[KitkResampleImageFilterISS3ISS3: 1.000000\u001b[2000D\u001b[K\u001b[2000D\u001b[KitkResampleImageFilterISS3ISS3: 1.000000\u001b[2000D\u001b[K\u001b[2000D\u001b[KitkResampleImageFilterISS3ISS3: 1.000000\u001b[2000D\u001b[K\u001b[2000D\u001b[KitkResampleImageFilterISS3ISS3: 1.000000\u001b[2000D\u001b[K\u001b[2000D\u001b[KitkResampleImageFilterISS3ISS3: 1.000000\u001b[2000D\u001b[K\u001b[2000D\u001b[KitkResampleImageFilterISS3ISS3: 1.000000\u001b[2000D\u001b[K\u001b[2000D\u001b[KitkResampleImageFilterISS3ISS3: 1.000000\u001b[2000D\u001b[K\u001b[2000D\u001b[KitkResampleImageFilterISS3ISS3: 1.000000\u001b[2000D\u001b[K\u001b[2000D\u001b[KitkResampleImageFilterISS3ISS3: 1.000000\u001b[2000D\u001b[K\u001b[2000D\u001b[KitkResampleImageFilterISS3ISS3: 1.000000\u001b[2000D\u001b[K\u001b[2000D\u001b[KitkResampleImageFilterISS3ISS3: 1.000000\u001b[2000D\u001b[K\u001b[2000D\u001b[KitkResampleImageFilterISS3ISS3: 1.000000\u001b[2000D\u001b[K\u001b[2000D\u001b[KitkResampleImageFilterISS3ISS3: 1.000000\u001b[2000D\u001b[K\u001b[2000D\u001b[KitkResampleImageFilterISS3ISS3: 1.000000\u001b[2000D\u001b[K\u001b[2000D\u001b[KitkResampleImageFilterISS3ISS3: 1.000000\u001b[2000D\u001b[K\u001b[2000D\u001b[KitkResampleImageFilterISS3ISS3: 1.000000\u001b[2000D\u001b[K\u001b[2000D\u001b[KitkResampleImageFilterISS3ISS3: 1.000000\u001b[2000D\u001b[K\u001b[2000D\u001b[KitkResampleImageFilterISS3ISS3: 1.000000\u001b[2000D\u001b[K\u001b[2000D\u001b[KitkResampleImageFilterISS3ISS3: 1.000000\u001b[2000D\u001b[K\u001b[2000D\u001b[KitkResampleImageFilterISS3ISS3: 1.000000\u001b[2000D\u001b[K\u001b[2000D\u001b[KitkResampleImageFilterISS3ISS3: 1.000000\u001b[2000D\u001b[K\u001b[2000D\u001b[KitkResampleImageFilterISS3ISS3: 1.000000\u001b[2000D\u001b[K\u001b[2000D\u001b[KitkResampleImageFilterISS3ISS3: 1.000000\u001b[2000D\u001b[K\u001b[2000D\u001b[KitkResampleImageFilterISS3ISS3: 1.000000\u001b[2000D\u001b[K\u001b[2000D\u001b[KitkResampleImageFilterISS3ISS3: 1.000000\u001b[2000D\u001b[K\u001b[2000D\u001b[KitkResampleImageFilterISS3ISS3: 1.000000\u001b[2000D\u001b[K\u001b[2000D\u001b[KitkResampleImageFilterISS3ISS3: 1.000000\u001b[2000D\u001b[K\u001b[2000D\u001b[KitkResampleImageFilterISS3ISS3: 1.000000\u001b[2000D\u001b[K\u001b[2000D\u001b[KitkResampleImageFilterISS3ISS3: 1.000000\u001b[2000D\u001b[K\u001b[2000D\u001b[KitkResampleImageFilterISS3ISS3: 1.000000\u001b[2000D\u001b[K\u001b[2000D\u001b[KitkResampleImageFilterISS3ISS3: 0.000000\u001b[2000D\u001b[KitkResampleImageFilterISS3ISS3: 1.000000\u001b[2000D\u001b[K\u001b[2000D\u001b[KitkResampleImageFilterISS3ISS3: 1.000000\u001b[2000D\u001b[K\u001b[2000D\u001b[KitkResampleImageFilterISS3ISS3: 1.000000\u001b[2000D\u001b[K\u001b[2000D\u001b[KitkResampleImageFilterISS3ISS3: 1.000000\u001b[2000D\u001b[K\u001b[2000D\u001b[KitkResampleImageFilterISS3ISS3: 1.000000\u001b[2000D\u001b[K\u001b[2000D\u001b[KitkResampleImageFilterISS3ISS3: 1.000000\u001b[2000D\u001b[K\u001b[2000D\u001b[KitkResampleImageFilterISS3ISS3: 1.000000\u001b[2000D\u001b[K\u001b[2000D\u001b[KitkResampleImageFilterISS3ISS3: 1.000000\u001b[2000D\u001b[K\u001b[2000D\u001b[KitkResampleImageFilterISS3ISS3: 1.000000\u001b[2000D\u001b[K\u001b[2000D\u001b[KitkResampleImageFilterISS3ISS3: 1.000000\u001b[2000D\u001b[K\u001b[2000D\u001b[KitkResampleImageFilterISS3ISS3: 1.000000\u001b[2000D\u001b[K\u001b[2000D\u001b[KitkResampleImageFilterISS3ISS3: 1.000000\u001b[2000D\u001b[K\u001b[2000D\u001b[KitkResampleImageFilterISS3ISS3: 1.000000\u001b[2000D\u001b[K\u001b[2000D\u001b[KitkResampleImageFilterISS3ISS3: 1.000000\u001b[2000D\u001b[K\u001b[2000D\u001b[KitkResampleImageFilterISS3ISS3: 1.000000\u001b[2000D\u001b[K\u001b[2000D\u001b[KitkResampleImageFilterISS3ISS3: 1.000000\u001b[2000D\u001b[K\u001b[2000D\u001b[KitkResampleImageFilterISS3ISS3: 1.000000\u001b[2000D\u001b[K\u001b[2000D\u001b[KitkResampleImageFilterISS3ISS3: 1.000000\u001b[2000D\u001b[K\u001b[2000D\u001b[KitkResampleImageFilterISS3ISS3: 1.000000\u001b[2000D\u001b[K\u001b[2000D\u001b[KitkResampleImageFilterISS3ISS3: 1.000000\u001b[2000D\u001b[K\u001b[2000D\u001b[KitkResampleImageFilterISS3ISS3: 1.000000\u001b[2000D\u001b[K\u001b[2000D\u001b[KitkResampleImageFilterISS3ISS3: 1.000000\u001b[2000D\u001b[K\u001b[2000D\u001b[KitkResampleImageFilterISS3ISS3: 1.000000\u001b[2000D\u001b[K\u001b[2000D\u001b[KitkResampleImageFilterISS3ISS3: 1.000000\u001b[2000D\u001b[K\u001b[2000D\u001b[KitkResampleImageFilterISS3ISS3: 1.000000\u001b[2000D\u001b[K\u001b[2000D\u001b[KitkResampleImageFilterISS3ISS3: 1.000000\u001b[2000D\u001b[K\u001b[2000D\u001b[KitkResampleImageFilterISS3ISS3: 1.000000\u001b[2000D\u001b[K\u001b[2000D\u001b[KitkResampleImageFilterISS3ISS3: 1.000000\u001b[2000D\u001b[K\u001b[2000D\u001b[KitkResampleImageFilterISS3ISS3: 1.000000\u001b[2000D\u001b[K\u001b[2000D\u001b[KitkResampleImageFilterISS3ISS3: 1.000000\u001b[2000D\u001b[K\u001b[2000D\u001b[KitkResampleImageFilterISS3ISS3: 1.000000\u001b[2000D\u001b[K\u001b[2000D\u001b[KitkResampleImageFilterISS3ISS3: 1.000000\u001b[2000D\u001b[K\u001b[2000D\u001b[KitkResampleImageFilterISS3ISS3: 1.000000\u001b[2000D\u001b[K\u001b[2000D\u001b[KitkResampleImageFilterISS3ISS3: 1.000000\u001b[2000D\u001b[K\u001b[2000D\u001b[KitkResampleImageFilterISS3ISS3: 1.000000\u001b[2000D\u001b[K\u001b[2000D\u001b[KitkResampleImageFilterISS3ISS3: 1.000000\u001b[2000D\u001b[K\u001b[2000D\u001b[KitkResampleImageFilterISS3ISS3: 0.000000\u001b[2000D\u001b[KitkResampleImageFilterISS3ISS3: 1.000000\u001b[2000D\u001b[K\u001b[2000D\u001b[KitkResampleImageFilterISS3ISS3: 1.000000\u001b[2000D\u001b[K\u001b[2000D\u001b[KitkResampleImageFilterISS3ISS3: 1.000000\u001b[2000D\u001b[K\u001b[2000D\u001b[KitkResampleImageFilterISS3ISS3: 1.000000\u001b[2000D\u001b[K\u001b[2000D\u001b[KitkResampleImageFilterISS3ISS3: 0.000000\u001b[2000D\u001b[KitkResampleImageFilterISS3ISS3: 1.000000\u001b[2000D\u001b[K\u001b[2000D\u001b[KitkResampleImageFilterISS3ISS3: 0.000000\u001b[2000D\u001b[KitkResampleImageFilterISS3ISS3: 1.000000\u001b[2000D\u001b[K\u001b[2000D\u001b[KitkResampleImageFilterISS3ISS3: 1.000000\u001b[2000D\u001b[K\u001b[2000D\u001b[KitkResampleImageFilterISS3ISS3: 0.000000\u001b[2000D\u001b[KitkResampleImageFilterISS3ISS3: 0.000000\u001b[2000D\u001b[KitkResampleImageFilterISS3ISS3: 1.000000\u001b[2000D\u001b[K\u001b[2000D\u001b[KitkResampleImageFilterISS3ISS3: 1.000000\u001b[2000D\u001b[K\u001b[2000D\u001b[KitkResampleImageFilterISS3ISS3: 0.000000\u001b[2000D\u001b[KitkResampleImageFilterISS3ISS3: 1.000000\u001b[2000D\u001b[K\u001b[2000D\u001b[KitkResampleImageFilterISS3ISS3: 1.000000\u001b[2000D\u001b[K\u001b[2000D\u001b[KitkResampleImageFilterISS3ISS3: 1.000000\u001b[2000D\u001b[K\u001b[2000D\u001b[KitkResampleImageFilterISS3ISS3: 1.000000\u001b[2000D\u001b[K\u001b[2000D\u001b[KitkResampleImageFilterISS3ISS3: 0.000000\u001b[2000D\u001b[KitkResampleImageFilterISS3ISS3: 0.000000\u001b[2000D\u001b[KitkResampleImageFilterISS3ISS3: 1.000000\u001b[2000D\u001b[K\u001b[2000D\u001b[KitkResampleImageFilterISS3ISS3: 1.000000\u001b[2000D\u001b[K\u001b[2000D\u001b[KitkResampleImageFilterISS3ISS3: 0.000000\u001b[2000D\u001b[KitkResampleImageFilterISS3ISS3: 1.000000\u001b[2000D\u001b[K\u001b[2000D\u001b[KitkResampleImageFilterISS3ISS3: 1.000000\u001b[2000D\u001b[K\u001b[2000D\u001b[KitkResampleImageFilterISS3ISS3: 0.000000\u001b[2000D\u001b[KitkResampleImageFilterISS3ISS3: 1.000000\u001b[2000D\u001b[K\u001b[2000D\u001b[KitkResampleImageFilterISS3ISS3: 1.000000\u001b[2000D\u001b[K\u001b[2000D\u001b[KitkResampleImageFilterISS3ISS3: 1.000000\u001b[2000D\u001b[K\u001b[2000D\u001b[KitkResampleImageFilterISS3ISS3: 1.000000\u001b[2000D\u001b[K\u001b[2000D\u001b[KitkResampleImageFilterISS3ISS3: 1.000000\u001b[2000D\u001b[K\u001b[2000D\u001b[KitkResampleImageFilterISS3ISS3: 1.000000\u001b[2000D\u001b[K\u001b[2000D\u001b[KitkResampleImageFilterISS3ISS3: 0.000000\u001b[2000D\u001b[KitkResampleImageFilterISS3ISS3: 1.000000\u001b[2000D\u001b[K\u001b[2000D\u001b[KitkResampleImageFilterISS3ISS3: 1.000000\u001b[2000D\u001b[K\u001b[2000D\u001b[KitkResampleImageFilterISS3ISS3: 0.000000\u001b[2000D\u001b[KitkResampleImageFilterISS3ISS3: 0.000000\u001b[2000D\u001b[KitkResampleImageFilterISS3ISS3: 0.000000\u001b[2000D\u001b[KitkResampleImageFilterISS3ISS3: 1.000000\u001b[2000D\u001b[K\u001b[2000D\u001b[KitkResampleImageFilterISS3ISS3: 1.000000\u001b[2000D\u001b[K\u001b[2000D\u001b[KitkResampleImageFilterISS3ISS3: 1.000000\u001b[2000D\u001b[K\u001b[2000D\u001b[KitkResampleImageFilterISS3ISS3: 1.000000\u001b[2000D\u001b[K\u001b[2000D\u001b[KitkResampleImageFilterISS3ISS3: 1.000000\u001b[2000D\u001b[K\u001b[2000D\u001b[KitkResampleImageFilterISS3ISS3: 1.000000\u001b[2000D\u001b[K\u001b[2000D\u001b[KitkResampleImageFilterISS3ISS3: 1.000000\u001b[2000D\u001b[K\u001b[2000D\u001b[KitkResampleImageFilterISS3ISS3: 1.000000\u001b[2000D\u001b[K\u001b[2000D\u001b[KitkResampleImageFilterISS3ISS3: 1.000000\u001b[2000D\u001b[K\u001b[2000D\u001b[KitkResampleImageFilterISS3ISS3: 1.000000\u001b[2000D\u001b[K\u001b[2000D\u001b[KitkResampleImageFilterISS3ISS3: 1.000000\u001b[2000D\u001b[K\u001b[2000D\u001b[KitkResampleImageFilterISS3ISS3: 0.000000\u001b[2000D\u001b[KitkResampleImageFilterISS3ISS3: 1.000000\u001b[2000D\u001b[K\u001b[2000D\u001b[KitkResampleImageFilterISS3ISS3: 1.000000\u001b[2000D\u001b[K\u001b[2000D\u001b[KitkResampleImageFilterISS3ISS3: 1.000000\u001b[2000D\u001b[K\u001b[2000D\u001b[KitkResampleImageFilterISS3ISS3: 1.000000\u001b[2000D\u001b[K\u001b[2000D\u001b[KitkResampleImageFilterISS3ISS3: 1.000000\u001b[2000D\u001b[K\u001b[2000D\u001b[KitkResampleImageFilterISS3ISS3: 0.000000\u001b[2000D\u001b[KitkResampleImageFilterISS3ISS3: 1.000000\u001b[2000D\u001b[K\u001b[2000D\u001b[KitkResampleImageFilterISS3ISS3: 0.000000\u001b[2000D\u001b[KitkResampleImageFilterISS3ISS3: 0.000000\u001b[2000D\u001b[KitkResampleImageFilterISS3ISS3: 1.000000\u001b[2000D\u001b[K\u001b[2000D\u001b[KitkResampleImageFilterISS3ISS3: 1.000000\u001b[2000D\u001b[K\u001b[2000D\u001b[KitkResampleImageFilterISS3ISS3: 1.000000\u001b[2000D\u001b[K\u001b[2000D\u001b[KitkResampleImageFilterISS3ISS3: 1.000000\u001b[2000D\u001b[K\u001b[2000D\u001b[KitkResampleImageFilterISS3ISS3: 0.000000\u001b[2000D\u001b[KitkResampleImageFilterISS3ISS3: 1.000000\u001b[2000D\u001b[K\u001b[2000D\u001b[KitkResampleImageFilterISS3ISS3: 1.000000\u001b[2000D\u001b[K\u001b[2000D\u001b[KitkResampleImageFilterISS3ISS3: 1.000000\u001b[2000D\u001b[K\u001b[2000D\u001b[KitkResampleImageFilterISS3ISS3: 1.000000\u001b[2000D\u001b[K\u001b[2000D\u001b[KitkResampleImageFilterISS3ISS3: 1.000000\u001b[2000D\u001b[K\u001b[2000D\u001b[KitkResampleImageFilterISS3ISS3: 1.000000\u001b[2000D\u001b[K\u001b[2000D\u001b[KitkResampleImageFilterISS3ISS3: 1.000000\u001b[2000D\u001b[K\u001b[2000D\u001b[KitkResampleImageFilterISS3ISS3: 1.000000\u001b[2000D\u001b[K\u001b[2000D\u001b[KitkResampleImageFilterISS3ISS3: 1.000000\u001b[2000D\u001b[K\u001b[2000D\u001b[KitkResampleImageFilterISS3ISS3: 1.000000\u001b[2000D\u001b[K\u001b[2000D\u001b[KitkResampleImageFilterISS3ISS3: 0.000000\u001b[2000D\u001b[KitkResampleImageFilterISS3ISS3: 1.000000\u001b[2000D\u001b[K\u001b[2000D\u001b[KitkResampleImageFilterISS3ISS3: 0.000000\u001b[2000D\u001b[KitkResampleImageFilterISS3ISS3: 0.000000\u001b[2000D\u001b[KitkResampleImageFilterISS3ISS3: 0.000000\u001b[2000D\u001b[KitkResampleImageFilterISS3ISS3: 1.000000\u001b[2000D\u001b[K\u001b[2000D\u001b[KitkResampleImageFilterISS3ISS3: 1.000000\u001b[2000D\u001b[K\u001b[2000D\u001b[KitkResampleImageFilterISS3ISS3: 1.000000\u001b[2000D\u001b[K\u001b[2000D\u001b[KitkResampleImageFilterISS3ISS3: 1.000000\u001b[2000D\u001b[K\u001b[2000D\u001b[KitkResampleImageFilterISS3ISS3: 1.000000\u001b[2000D\u001b[K\u001b[2000D\u001b[KitkResampleImageFilterISS3ISS3: 1.000000\u001b[2000D\u001b[K\u001b[2000D\u001b[KitkResampleImageFilterISS3ISS3: 1.000000\u001b[2000D\u001b[K\u001b[2000D\u001b[KitkResampleImageFilterISS3ISS3: 1.000000\u001b[2000D\u001b[K\u001b[2000D\u001b[KitkResampleImageFilterISS3ISS3: 0.000000\u001b[2000D\u001b[KitkResampleImageFilterISS3ISS3: 1.000000\u001b[2000D\u001b[K\u001b[2000D\u001b[KitkResampleImageFilterISS3ISS3: 1.000000\u001b[2000D\u001b[K\u001b[2000D\u001b[KitkResampleImageFilterISS3ISS3: 0.000000\u001b[2000D\u001b[KitkResampleImageFilterISS3ISS3: 1.000000\u001b[2000D\u001b[K\u001b[2000D\u001b[KitkResampleImageFilterISS3ISS3: 0.000000\u001b[2000D\u001b[KitkResampleImageFilterISS3ISS3: 0.000000\u001b[2000D\u001b[KitkResampleImageFilterISS3ISS3: 1.000000\u001b[2000D\u001b[K\u001b[2000D\u001b[KitkResampleImageFilterISS3ISS3: 1.000000\u001b[2000D\u001b[K\u001b[2000D\u001b[KitkResampleImageFilterISS3ISS3: 1.000000\u001b[2000D\u001b[K\u001b[2000D\u001b[KitkResampleImageFilterISS3ISS3: 1.000000\u001b[2000D\u001b[K\u001b[2000D\u001b[KitkResampleImageFilterISS3ISS3: 1.000000\u001b[2000D\u001b[K\u001b[2000D\u001b[KitkResampleImageFilterISS3ISS3: 0.000000\u001b[2000D\u001b[KitkResampleImageFilterISS3ISS3: 0.000000\u001b[2000D\u001b[KitkResampleImageFilterISS3ISS3: 1.000000\u001b[2000D\u001b[K\u001b[2000D\u001b[KitkResampleImageFilterISS3ISS3: 1.000000\u001b[2000D\u001b[K\u001b[2000D\u001b[KitkResampleImageFilterISS3ISS3: 1.000000\u001b[2000D\u001b[K\u001b[2000D\u001b[KitkResampleImageFilterISS3ISS3: 1.000000\u001b[2000D\u001b[K\u001b[2000D\u001b[KitkResampleImageFilterISS3ISS3: 1.000000\u001b[2000D\u001b[K\u001b[2000D\u001b[KitkResampleImageFilterISS3ISS3: 1.000000\u001b[2000D\u001b[K\u001b[2000D\u001b[KitkResampleImageFilterISS3ISS3: 1.000000\u001b[2000D\u001b[K\u001b[2000D\u001b[KitkResampleImageFilterISS3ISS3: 1.000000\u001b[2000D\u001b[K\u001b[2000D\u001b[KitkResampleImageFilterISS3ISS3: 1.000000\u001b[2000D\u001b[K\u001b[2000D\u001b[KitkResampleImageFilterISS3ISS3: 1.000000\u001b[2000D\u001b[K\u001b[2000D\u001b[KitkResampleImageFilterISS3ISS3: 1.000000\u001b[2000D\u001b[K\u001b[2000D\u001b[KitkResampleImageFilterISS3ISS3: 1.000000\u001b[2000D\u001b[K\u001b[2000D\u001b[KitkResampleImageFilterISS3ISS3: 1.000000\u001b[2000D\u001b[K\u001b[2000D\u001b[KitkResampleImageFilterISS3ISS3: 1.000000\u001b[2000D\u001b[K\u001b[2000D\u001b[KitkResampleImageFilterISS3ISS3: 1.000000\u001b[2000D\u001b[K\u001b[2000D\u001b[KitkResampleImageFilterISS3ISS3: 1.000000\u001b[2000D\u001b[K\u001b[2000D\u001b[KitkResampleImageFilterISS3ISS3: 1.000000\u001b[2000D\u001b[K\u001b[2000D\u001b[KitkResampleImageFilterISS3ISS3: 1.000000\u001b[2000D\u001b[K\u001b[2000D\u001b[KitkResampleImageFilterISS3ISS3: 1.000000\u001b[2000D\u001b[K\u001b[2000D\u001b[KitkResampleImageFilterISS3ISS3: 1.000000\u001b[2000D\u001b[K\u001b[2000D\u001b[KitkResampleImageFilterISS3ISS3: 1.000000\u001b[2000D\u001b[K\u001b[2000D\u001b[KitkResampleImageFilterISS3ISS3: 1.000000\u001b[2000D\u001b[K\u001b[2000D\u001b[KitkResampleImageFilterISS3ISS3: 1.000000\u001b[2000D\u001b[K\u001b[2000D\u001b[KitkResampleImageFilterISS3ISS3: 1.000000\u001b[2000D\u001b[K\u001b[2000D\u001b[KitkResampleImageFilterISS3ISS3: 1.000000\u001b[2000D\u001b[K\u001b[2000D\u001b[KitkResampleImageFilterISS3ISS3: 1.000000\u001b[2000D\u001b[K\u001b[2000D\u001b[KitkResampleImageFilterISS3ISS3: 1.000000\u001b[2000D\u001b[K\u001b[2000D\u001b[KitkResampleImageFilterISS3ISS3: 1.000000\u001b[2000D\u001b[K\u001b[2000D\u001b[KitkResampleImageFilterISS3ISS3: 1.000000\u001b[2000D\u001b[K\u001b[2000D\u001b[KitkResampleImageFilterISS3ISS3: 1.000000\u001b[2000D\u001b[K\u001b[2000D\u001b[KitkResampleImageFilterISS3ISS3: 1.000000\u001b[2000D\u001b[K\u001b[2000D\u001b[KitkResampleImageFilterISS3ISS3: 1.000000\u001b[2000D\u001b[K\u001b[2000D\u001b[KitkResampleImageFilterISS3ISS3: 1.000000\u001b[2000D\u001b[K\u001b[2000D\u001b[KitkResampleImageFilterISS3ISS3: 1.000000\u001b[2000D\u001b[K\u001b[2000D\u001b[KitkResampleImageFilterISS3ISS3: 1.000000\u001b[2000D\u001b[K\u001b[2000D\u001b[KitkResampleImageFilterISS3ISS3: 1.000000\u001b[2000D\u001b[K\u001b[2000D\u001b[KitkResampleImageFilterISS3ISS3: 1.000000\u001b[2000D\u001b[K\u001b[2000D\u001b[KitkResampleImageFilterISS3ISS3: 1.000000\u001b[2000D\u001b[K\u001b[2000D\u001b[KitkResampleImageFilterISS3ISS3: 1.000000\u001b[2000D\u001b[K\u001b[2000D\u001b[KitkResampleImageFilterISS3ISS3: 1.000000\u001b[2000D\u001b[K\u001b[2000D\u001b[KitkResampleImageFilterISS3ISS3: 1.000000\u001b[2000D\u001b[K\u001b[2000D\u001b[KitkResampleImageFilterISS3ISS3: 1.000000\u001b[2000D\u001b[K\u001b[2000D\u001b[KitkResampleImageFilterISS3ISS3: 1.000000\u001b[2000D\u001b[K\u001b[2000D\u001b[KitkResampleImageFilterISS3ISS3: 1.000000\u001b[2000D\u001b[K\u001b[2000D\u001b[KitkResampleImageFilterISS3ISS3: 1.000000\u001b[2000D\u001b[K\u001b[2000D\u001b[KitkResampleImageFilterISS3ISS3: 1.000000\u001b[2000D\u001b[K\u001b[2000D\u001b[KitkResampleImageFilterISS3ISS3: 1.000000\u001b[2000D\u001b[K\u001b[2000D\u001b[KitkResampleImageFilterISS3ISS3: 1.000000\u001b[2000D\u001b[K\u001b[2000D\u001b[KitkResampleImageFilterISS3ISS3: 1.000000\u001b[2000D\u001b[K\u001b[2000D\u001b[KitkResampleImageFilterISS3ISS3: 1.000000\u001b[2000D\u001b[K\u001b[2000D\u001b[KitkResampleImageFilterISS3ISS3: 1.000000\u001b[2000D\u001b[K\u001b[2000D\u001b[KitkResampleImageFilterISS3ISS3: 1.000000\u001b[2000D\u001b[K\u001b[2000D\u001b[KitkResampleImageFilterISS3ISS3: 1.000000\u001b[2000D\u001b[K\u001b[2000D\u001b[KitkResampleImageFilterISS3ISS3: 1.000000\u001b[2000D\u001b[K\u001b[2000D\u001b[KitkResampleImageFilterISS3ISS3: 1.000000\u001b[2000D\u001b[K\u001b[2000D\u001b[KitkResampleImageFilterISS3ISS3: 1.000000\u001b[2000D\u001b[K\u001b[2000D\u001b[KitkResampleImageFilterISS3ISS3: 1.000000\u001b[2000D\u001b[K\u001b[2000D\u001b[KitkResampleImageFilterISS3ISS3: 1.000000\u001b[2000D\u001b[K\u001b[2000D\u001b[KitkResampleImageFilterISS3ISS3: 1.000000\u001b[2000D\u001b[K\u001b[2000D\u001b[KitkResampleImageFilterISS3ISS3: 1.000000\u001b[2000D\u001b[K\u001b[2000D\u001b[KitkResampleImageFilterISS3ISS3: 1.000000\u001b[2000D\u001b[K\u001b[2000D\u001b[KitkResampleImageFilterISS3ISS3: 1.000000\u001b[2000D\u001b[K\u001b[2000D\u001b[KitkResampleImageFilterISS3ISS3: 1.000000\u001b[2000D\u001b[K\u001b[2000D\u001b[KitkResampleImageFilterISS3ISS3: 1.000000\u001b[2000D\u001b[K\u001b[2000D\u001b[KitkResampleImageFilterISS3ISS3: 1.000000\u001b[2000D\u001b[K\u001b[2000D\u001b[KitkResampleImageFilterISS3ISS3: 1.000000\u001b[2000D\u001b[K\u001b[2000D\u001b[KitkResampleImageFilterISS3ISS3: 1.000000\u001b[2000D\u001b[K\u001b[2000D\u001b[KitkResampleImageFilterISS3ISS3: 1.000000\u001b[2000D\u001b[K\u001b[2000D\u001b[KitkResampleImageFilterISS3ISS3: 1.000000\u001b[2000D\u001b[K\u001b[2000D\u001b[KitkResampleImageFilterISS3ISS3: 1.000000\u001b[2000D\u001b[K\u001b[2000D\u001b[KitkResampleImageFilterISS3ISS3: 1.000000\u001b[2000D\u001b[K\u001b[2000D\u001b[KitkResampleImageFilterISS3ISS3: 1.000000\u001b[2000D\u001b[K\u001b[2000D\u001b[KitkResampleImageFilterISS3ISS3: 1.000000\u001b[2000D\u001b[K\u001b[2000D\u001b[KitkResampleImageFilterISS3ISS3: 1.000000\u001b[2000D\u001b[K\u001b[2000D\u001b[KitkResampleImageFilterISS3ISS3: 1.000000\u001b[2000D\u001b[K\u001b[2000D\u001b[KitkResampleImageFilterISS3ISS3: 1.000000\u001b[2000D\u001b[K\u001b[2000D\u001b[KitkResampleImageFilterISS3ISS3: 1.000000\u001b[2000D\u001b[K\u001b[2000D\u001b[KitkResampleImageFilterISS3ISS3: 1.000000\u001b[2000D\u001b[K\u001b[2000D\u001b[KitkResampleImageFilterISS3ISS3: 1.000000\u001b[2000D\u001b[K\u001b[2000D\u001b[KitkResampleImageFilterISS3ISS3: 1.000000\u001b[2000D\u001b[K\u001b[2000D\u001b[KitkResampleImageFilterISS3ISS3: 0.000000\u001b[2000D\u001b[KitkResampleImageFilterISS3ISS3: 1.000000\u001b[2000D\u001b[K\u001b[2000D\u001b[KitkResampleImageFilterISS3ISS3: 1.000000\u001b[2000D\u001b[K\u001b[2000D\u001b[KitkResampleImageFilterISS3ISS3: 1.000000\u001b[2000D\u001b[K\u001b[2000D\u001b[KitkResampleImageFilterISS3ISS3: 1.000000\u001b[2000D\u001b[K\u001b[2000D\u001b[KitkResampleImageFilterISS3ISS3: 1.000000\u001b[2000D\u001b[K\u001b[2000D\u001b[KitkResampleImageFilterISS3ISS3: 1.000000\u001b[2000D\u001b[K\u001b[2000D\u001b[KitkResampleImageFilterISS3ISS3: 1.000000\u001b[2000D\u001b[K\u001b[2000D\u001b[KitkResampleImageFilterISS3ISS3: 1.000000\u001b[2000D\u001b[K\u001b[2000D\u001b[KitkResampleImageFilterISS3ISS3: 1.000000\u001b[2000D\u001b[K\u001b[2000D\u001b[KitkResampleImageFilterISS3ISS3: 1.000000\u001b[2000D\u001b[K\u001b[2000D\u001b[KitkResampleImageFilterISS3ISS3: 1.000000\u001b[2000D\u001b[K\u001b[2000D\u001b[KitkResampleImageFilterISS3ISS3: 1.000000\u001b[2000D\u001b[K\u001b[2000D\u001b[KitkResampleImageFilterISS3ISS3: 1.000000\u001b[2000D\u001b[K\u001b[2000D\u001b[KitkResampleImageFilterISS3ISS3: 1.000000\u001b[2000D\u001b[K\u001b[2000D\u001b[KitkResampleImageFilterISS3ISS3: 1.000000\u001b[2000D\u001b[K\u001b[2000D\u001b[KitkResampleImageFilterISS3ISS3: 1.000000\u001b[2000D\u001b[K\u001b[2000D\u001b[KitkResampleImageFilterISS3ISS3: 1.000000\u001b[2000D\u001b[K\u001b[2000D\u001b[KitkResampleImageFilterISS3ISS3: 1.000000\u001b[2000D\u001b[K\u001b[2000D\u001b[KitkResampleImageFilterISS3ISS3: 1.000000\u001b[2000D\u001b[K\u001b[2000D\u001b[KitkResampleImageFilterISS3ISS3: 1.000000\u001b[2000D\u001b[K\u001b[2000D\u001b[KitkResampleImageFilterISS3ISS3: 1.000000\u001b[2000D\u001b[K\u001b[2000D\u001b[KitkResampleImageFilterISS3ISS3: 1.000000\u001b[2000D\u001b[K\u001b[2000D\u001b[KitkResampleImageFilterISS3ISS3: 1.000000\u001b[2000D\u001b[K\u001b[2000D\u001b[KitkResampleImageFilterISS3ISS3: 1.000000\u001b[2000D\u001b[K\u001b[2000D\u001b[KitkResampleImageFilterISS3ISS3: 1.000000\u001b[2000D\u001b[K\u001b[2000D\u001b[KitkResampleImageFilterISS3ISS3: 1.000000\u001b[2000D\u001b[K\u001b[2000D\u001b[KitkResampleImageFilterISS3ISS3: 1.000000\u001b[2000D\u001b[K\u001b[2000D\u001b[KitkResampleImageFilterISS3ISS3: 1.000000\u001b[2000D\u001b[K\u001b[2000D\u001b[KitkResampleImageFilterISS3ISS3: 1.000000\u001b[2000D\u001b[K\u001b[2000D\u001b[KitkResampleImageFilterISS3ISS3: 1.000000\u001b[2000D\u001b[K\u001b[2000D\u001b[KitkResampleImageFilterISS3ISS3: 1.000000\u001b[2000D\u001b[K\u001b[2000D\u001b[KitkResampleImageFilterISS3ISS3: 1.000000\u001b[2000D\u001b[K\u001b[2000D\u001b[KitkResampleImageFilterISS3ISS3: 1.000000\u001b[2000D\u001b[K\u001b[2000D\u001b[KitkResampleImageFilterISS3ISS3: 1.000000\u001b[2000D\u001b[K\u001b[2000D\u001b[KitkResampleImageFilterISS3ISS3: 1.000000\u001b[2000D\u001b[K\u001b[2000D\u001b[KitkResampleImageFilterISS3ISS3: 1.000000\u001b[2000D\u001b[K\u001b[2000D\u001b[KitkResampleImageFilterISS3ISS3: 1.000000\u001b[2000D\u001b[K\u001b[2000D\u001b[KitkResampleImageFilterISS3ISS3: 1.000000\u001b[2000D\u001b[K\u001b[2000D\u001b[KitkResampleImageFilterISS3ISS3: 1.000000\u001b[2000D\u001b[K\u001b[2000D\u001b[KitkResampleImageFilterISS3ISS3: 1.000000\u001b[2000D\u001b[K\u001b[2000D\u001b[KitkResampleImageFilterISS3ISS3: 1.000000\u001b[2000D\u001b[K\u001b[2000D\u001b[KitkResampleImageFilterISS3ISS3: 1.000000\u001b[2000D\u001b[K\u001b[2000D\u001b[KitkResampleImageFilterISS3ISS3: 1.000000\u001b[2000D\u001b[K\u001b[2000D\u001b[KitkResampleImageFilterISS3ISS3: 1.000000\u001b[2000D\u001b[K\u001b[2000D\u001b[KitkResampleImageFilterISS3ISS3: 1.000000\u001b[2000D\u001b[K\u001b[2000D\u001b[KitkResampleImageFilterISS3ISS3: 1.000000\u001b[2000D\u001b[K\u001b[2000D\u001b[KitkResampleImageFilterISS3ISS3: 1.000000\u001b[2000D\u001b[K\u001b[2000D\u001b[KitkResampleImageFilterISS3ISS3: 1.000000\u001b[2000D\u001b[K\u001b[2000D\u001b[KitkResampleImageFilterISS3ISS3: 1.000000\u001b[2000D\u001b[K\u001b[2000D\u001b[KitkResampleImageFilterISS3ISS3: 1.000000\u001b[2000D\u001b[K\u001b[2000D\u001b[KitkResampleImageFilterISS3ISS3: 1.000000\u001b[2000D\u001b[K\u001b[2000D\u001b[KitkResampleImageFilterISS3ISS3: 1.000000\u001b[2000D\u001b[K\u001b[2000D\u001b[KitkResampleImageFilterISS3ISS3: 1.000000\u001b[2000D\u001b[K\u001b[2000D\u001b[KitkResampleImageFilterISS3ISS3: 1.000000\u001b[2000D\u001b[K\u001b[2000D\u001b[KitkResampleImageFilterISS3ISS3: 1.000000\u001b[2000D\u001b[K\u001b[2000D\u001b[KitkResampleImageFilterISS3ISS3: 1.000000\u001b[2000D\u001b[K\u001b[2000D\u001b[KitkResampleImageFilterISS3ISS3: 1.000000\u001b[2000D\u001b[K\u001b[2000D\u001b[KitkResampleImageFilterISS3ISS3: 1.000000\u001b[2000D\u001b[K\u001b[2000D\u001b[KitkResampleImageFilterISS3ISS3: 1.000000\u001b[2000D\u001b[K\u001b[2000D\u001b[KitkResampleImageFilterISS3ISS3: 1.000000\u001b[2000D\u001b[K\u001b[2000D\u001b[KitkResampleImageFilterISS3ISS3: 1.000000\u001b[2000D\u001b[K\u001b[2000D\u001b[KitkResampleImageFilterISS3ISS3: 1.000000\u001b[2000D\u001b[K\u001b[2000D\u001b[KitkResampleImageFilterISS3ISS3: 1.000000\u001b[2000D\u001b[K\u001b[2000D\u001b[KitkResampleImageFilterISS3ISS3: 1.000000\u001b[2000D\u001b[K\u001b[2000D\u001b[KitkResampleImageFilterISS3ISS3: 1.000000\u001b[2000D\u001b[K\u001b[2000D\u001b[KitkResampleImageFilterISS3ISS3: 1.000000\u001b[2000D\u001b[K\u001b[2000D\u001b[KitkResampleImageFilterISS3ISS3: 1.000000\u001b[2000D\u001b[K\u001b[2000D\u001b[KitkResampleImageFilterISS3ISS3: 1.000000\u001b[2000D\u001b[K\u001b[2000D\u001b[KitkResampleImageFilterISS3ISS3: 1.000000\u001b[2000D\u001b[K\u001b[2000D\u001b[KitkResampleImageFilterISS3ISS3: 1.000000\u001b[2000D\u001b[K\u001b[2000D\u001b[KitkResampleImageFilterISS3ISS3: 1.000000\u001b[2000D\u001b[K\u001b[2000D\u001b[KitkResampleImageFilterISS3ISS3: 1.000000\u001b[2000D\u001b[K\u001b[2000D\u001b[KitkResampleImageFilterISS3ISS3: 1.000000\u001b[2000D\u001b[K\u001b[2000D\u001b[KitkResampleImageFilterISS3ISS3: 1.000000\u001b[2000D\u001b[K\u001b[2000D\u001b[KitkResampleImageFilterISS3ISS3: 1.000000\u001b[2000D\u001b[K\u001b[2000D\u001b[KitkResampleImageFilterISS3ISS3: 1.000000\u001b[2000D\u001b[K\u001b[2000D\u001b[KitkResampleImageFilterISS3ISS3: 1.000000\u001b[2000D\u001b[K\u001b[2000D\u001b[KitkResampleImageFilterISS3ISS3: 1.000000\u001b[2000D\u001b[K\u001b[2000D\u001b[KitkResampleImageFilterISS3ISS3: 1.000000\u001b[2000D\u001b[K\u001b[2000D\u001b[KitkResampleImageFilterISS3ISS3: 1.000000\u001b[2000D\u001b[K\u001b[2000D\u001b[KitkResampleImageFilterISS3ISS3: 1.000000\u001b[2000D\u001b[K\u001b[2000D\u001b[KitkResampleImageFilterISS3ISS3: 1.000000\u001b[2000D\u001b[K\u001b[2000D\u001b[KitkResampleImageFilterISS3ISS3: 1.000000\u001b[2000D\u001b[K\u001b[2000D\u001b[KitkResampleImageFilterISS3ISS3: 1.000000\u001b[2000D\u001b[K\u001b[2000D\u001b[KitkResampleImageFilterISS3ISS3: 1.000000\u001b[2000D\u001b[K\u001b[2000D\u001b[KitkResampleImageFilterISS3ISS3: 1.000000\u001b[2000D\u001b[K\u001b[2000D\u001b[KitkResampleImageFilterISS3ISS3: 1.000000\u001b[2000D\u001b[K\u001b[2000D\u001b[KitkResampleImageFilterISS3ISS3: 1.000000\u001b[2000D\u001b[K\u001b[2000D\u001b[KitkResampleImageFilterISS3ISS3: 1.000000\u001b[2000D\u001b[K\u001b[2000D\u001b[KitkResampleImageFilterISS3ISS3: 1.000000\u001b[2000D\u001b[K\u001b[2000D\u001b[KitkResampleImageFilterISS3ISS3: 1.000000\u001b[2000D\u001b[K\u001b[2000D\u001b[KitkResampleImageFilterISS3ISS3: 1.000000\u001b[2000D\u001b[K\u001b[2000D\u001b[KitkResampleImageFilterISS3ISS3: 1.000000\u001b[2000D\u001b[K\u001b[2000D\u001b[KitkResampleImageFilterISS3ISS3: 1.000000\u001b[2000D\u001b[K\u001b[2000D\u001b[KitkResampleImageFilterISS3ISS3: 1.000000\u001b[2000D\u001b[K\u001b[2000D\u001b[KitkResampleImageFilterISS3ISS3: 1.000000\u001b[2000D\u001b[K\u001b[2000D\u001b[KitkResampleImageFilterISS3ISS3: 1.000000\u001b[2000D\u001b[K\u001b[2000D\u001b[KitkResampleImageFilterISS3ISS3: 1.000000\u001b[2000D\u001b[K\u001b[2000D\u001b[KitkResampleImageFilterISS3ISS3: 1.000000\u001b[2000D\u001b[K\u001b[2000D\u001b[KitkResampleImageFilterISS3ISS3: 1.000000\u001b[2000D\u001b[K\u001b[2000D\u001b[KitkResampleImageFilterISS3ISS3: 1.000000\u001b[2000D\u001b[K\u001b[2000D\u001b[KitkResampleImageFilterISS3ISS3: 1.000000\u001b[2000D\u001b[K\u001b[2000D\u001b[KitkResampleImageFilterISS3ISS3: 1.000000\u001b[2000D\u001b[K\u001b[2000D\u001b[KitkResampleImageFilterISS3ISS3: 1.000000\u001b[2000D\u001b[K\u001b[2000D\u001b[KitkResampleImageFilterISS3ISS3: 1.000000\u001b[2000D\u001b[K\u001b[2000D\u001b[KitkResampleImageFilterISS3ISS3: 1.000000\u001b[2000D\u001b[K\u001b[2000D\u001b[KitkResampleImageFilterISS3ISS3: 1.000000\u001b[2000D\u001b[K\u001b[2000D\u001b[KitkResampleImageFilterISS3ISS3: 1.000000\u001b[2000D\u001b[K\u001b[2000D\u001b[KitkResampleImageFilterISS3ISS3: 1.000000\u001b[2000D\u001b[K\u001b[2000D\u001b[KitkResampleImageFilterISS3ISS3: 1.000000\u001b[2000D\u001b[K\u001b[2000D\u001b[KitkResampleImageFilterISS3ISS3: 1.000000\u001b[2000D\u001b[K\u001b[2000D\u001b[KitkResampleImageFilterISS3ISS3: 1.000000\u001b[2000D\u001b[K\u001b[2000D\u001b[KitkResampleImageFilterISS3ISS3: 1.000000\u001b[2000D\u001b[K\u001b[2000D\u001b[KitkResampleImageFilterISS3ISS3: 1.000000\u001b[2000D\u001b[K\u001b[2000D\u001b[KitkResampleImageFilterISS3ISS3: 1.000000\u001b[2000D\u001b[K\u001b[2000D\u001b[KitkResampleImageFilterISS3ISS3: 1.000000\u001b[2000D\u001b[K\u001b[2000D\u001b[KitkResampleImageFilterISS3ISS3: 1.000000\u001b[2000D\u001b[K\u001b[2000D\u001b[KitkResampleImageFilterISS3ISS3: 0.000000\u001b[2000D\u001b[KitkResampleImageFilterISS3ISS3: 1.000000\u001b[2000D\u001b[K\u001b[2000D\u001b[KitkResampleImageFilterISS3ISS3: 1.000000\u001b[2000D\u001b[K\u001b[2000D\u001b[KitkResampleImageFilterISS3ISS3: 1.000000\u001b[2000D\u001b[K\u001b[2000D\u001b[KitkResampleImageFilterISS3ISS3: 1.000000\u001b[2000D\u001b[K\u001b[2000D\u001b[KitkResampleImageFilterISS3ISS3: 1.000000\u001b[2000D\u001b[K\u001b[2000D\u001b[KitkResampleImageFilterISS3ISS3: 1.000000\u001b[2000D\u001b[K\u001b[2000D\u001b[KitkResampleImageFilterISS3ISS3: 0.000000\u001b[2000D\u001b[KitkResampleImageFilterISS3ISS3: 1.000000\u001b[2000D\u001b[K\u001b[2000D\u001b[KitkResampleImageFilterISS3ISS3: 1.000000\u001b[2000D\u001b[K\u001b[2000D\u001b[KitkResampleImageFilterISS3ISS3: 1.000000\u001b[2000D\u001b[K\u001b[2000D\u001b[KitkResampleImageFilterISS3ISS3: 1.000000\u001b[2000D\u001b[K\u001b[2000D\u001b[KitkResampleImageFilterISS3ISS3: 1.000000\u001b[2000D\u001b[K\u001b[2000D\u001b[KitkResampleImageFilterISS3ISS3: 1.000000\u001b[2000D\u001b[K\u001b[2000D\u001b[KitkResampleImageFilterISS3ISS3: 1.000000\u001b[2000D\u001b[K\u001b[2000D\u001b[KitkResampleImageFilterISS3ISS3: 1.000000\u001b[2000D\u001b[K\u001b[2000D\u001b[KitkResampleImageFilterISS3ISS3: 1.000000\u001b[2000D\u001b[K\u001b[2000D\u001b[KitkResampleImageFilterISS3ISS3: 1.000000\u001b[2000D\u001b[K\u001b[2000D\u001b[KitkResampleImageFilterISS3ISS3: 1.000000\u001b[2000D\u001b[K\u001b[2000D\u001b[KitkResampleImageFilterISS3ISS3: 1.000000\u001b[2000D\u001b[K\u001b[2000D\u001b[KitkResampleImageFilterISS3ISS3: 1.000000\u001b[2000D\u001b[K\u001b[2000D\u001b[KitkResampleImageFilterISS3ISS3: 1.000000\u001b[2000D\u001b[K\u001b[2000D\u001b[KitkResampleImageFilterISS3ISS3: 1.000000\u001b[2000D\u001b[K\u001b[2000D\u001b[KitkResampleImageFilterISS3ISS3: 1.000000\u001b[2000D\u001b[K\u001b[2000D\u001b[KitkResampleImageFilterISS3ISS3: 1.000000\u001b[2000D\u001b[K\u001b[2000D\u001b[KitkResampleImageFilterISS3ISS3: 0.000000\u001b[2000D\u001b[KitkResampleImageFilterISS3ISS3: 1.000000\u001b[2000D\u001b[K\u001b[2000D\u001b[KitkResampleImageFilterISS3ISS3: 1.000000\u001b[2000D\u001b[K\u001b[2000D\u001b[KitkResampleImageFilterISS3ISS3: 1.000000\u001b[2000D\u001b[K\u001b[2000D\u001b[KitkResampleImageFilterISS3ISS3: 1.000000\u001b[2000D\u001b[K\u001b[2000D\u001b[KitkResampleImageFilterISS3ISS3: 1.000000\u001b[2000D\u001b[K\u001b[2000D\u001b[KitkResampleImageFilterISS3ISS3: 1.000000\u001b[2000D\u001b[K\u001b[2000D\u001b[KitkResampleImageFilterISS3ISS3: 1.000000\u001b[2000D\u001b[K\u001b[2000D\u001b[KitkResampleImageFilterISS3ISS3: 1.000000\u001b[2000D\u001b[K\u001b[2000D\u001b[KitkResampleImageFilterISS3ISS3: 0.000000\u001b[2000D\u001b[KitkResampleImageFilterISS3ISS3: 1.000000\u001b[2000D\u001b[K\u001b[2000D\u001b[KitkResampleImageFilterISS3ISS3: 1.000000\u001b[2000D\u001b[K\u001b[2000D\u001b[KitkResampleImageFilterISS3ISS3: 1.000000\u001b[2000D\u001b[K\u001b[2000D\u001b[KitkResampleImageFilterISS3ISS3: 1.000000\u001b[2000D\u001b[K\u001b[2000D\u001b[KitkResampleImageFilterISS3ISS3: 1.000000\u001b[2000D\u001b[K\u001b[2000D\u001b[KitkResampleImageFilterISS3ISS3: 1.000000\u001b[2000D\u001b[K\u001b[2000D\u001b[KitkResampleImageFilterISS3ISS3: 1.000000\u001b[2000D\u001b[K\u001b[2000D\u001b[KitkResampleImageFilterISS3ISS3: 1.000000\u001b[2000D\u001b[K\u001b[2000D\u001b[KitkResampleImageFilterISS3ISS3: 1.000000\u001b[2000D\u001b[K\u001b[2000D\u001b[KitkResampleImageFilterISS3ISS3: 1.000000\u001b[2000D\u001b[K\u001b[2000D\u001b[KitkResampleImageFilterISS3ISS3: 1.000000\u001b[2000D\u001b[K\u001b[2000D\u001b[KitkResampleImageFilterISS3ISS3: 1.000000\u001b[2000D\u001b[K\u001b[2000D\u001b[KitkResampleImageFilterISS3ISS3: 1.000000\u001b[2000D\u001b[K\u001b[2000D\u001b[KitkResampleImageFilterISS3ISS3: 1.000000\u001b[2000D\u001b[K\u001b[2000D\u001b[KitkResampleImageFilterISS3ISS3: 1.000000\u001b[2000D\u001b[K\u001b[2000D\u001b[KitkResampleImageFilterISS3ISS3: 1.000000\u001b[2000D\u001b[K\u001b[2000D\u001b[KitkResampleImageFilterISS3ISS3: 1.000000\u001b[2000D\u001b[K\u001b[2000D\u001b[KitkResampleImageFilterISS3ISS3: 1.000000\u001b[2000D\u001b[K\u001b[2000D\u001b[KitkResampleImageFilterISS3ISS3: 1.000000\u001b[2000D\u001b[K\u001b[2000D\u001b[KitkResampleImageFilterISS3ISS3: 1.000000\u001b[2000D\u001b[K\u001b[2000D\u001b[KitkResampleImageFilterISS3ISS3: 1.000000\u001b[2000D\u001b[K\u001b[2000D\u001b[KitkResampleImageFilterISS3ISS3: 1.000000\u001b[2000D\u001b[K\u001b[2000D\u001b[KitkResampleImageFilterISS3ISS3: 1.000000\u001b[2000D\u001b[K\u001b[2000D\u001b[KitkResampleImageFilterISS3ISS3: 1.000000\u001b[2000D\u001b[K\u001b[2000D\u001b[KitkResampleImageFilterISS3ISS3: 1.000000\u001b[2000D\u001b[K\u001b[2000D\u001b[KitkResampleImageFilterISS3ISS3: 1.000000\u001b[2000D\u001b[K\u001b[2000D\u001b[KitkResampleImageFilterISS3ISS3: 0.000000\u001b[2000D\u001b[KitkResampleImageFilterISS3ISS3: 1.000000\u001b[2000D\u001b[K\u001b[2000D\u001b[KitkResampleImageFilterISS3ISS3: 1.000000\u001b[2000D\u001b[K\u001b[2000D\u001b[KitkResampleImageFilterISS3ISS3: 1.000000\u001b[2000D\u001b[K\u001b[2000D\u001b[KitkResampleImageFilterISS3ISS3: 1.000000\u001b[2000D\u001b[K\u001b[2000D\u001b[KitkResampleImageFilterISS3ISS3: 1.000000\u001b[2000D\u001b[K\u001b[2000D\u001b[KitkResampleImageFilterISS3ISS3: 1.000000\u001b[2000D\u001b[K\u001b[2000D\u001b[KitkResampleImageFilterISS3ISS3: 1.000000\u001b[2000D\u001b[K\u001b[2000D\u001b[KitkResampleImageFilterISS3ISS3: 1.000000\u001b[2000D\u001b[K\u001b[2000D\u001b[KitkResampleImageFilterISS3ISS3: 1.000000\u001b[2000D\u001b[K\u001b[2000D\u001b[KitkResampleImageFilterISS3ISS3: 1.000000\u001b[2000D\u001b[K\u001b[2000D\u001b[KitkResampleImageFilterISS3ISS3: 1.000000\u001b[2000D\u001b[K\u001b[2000D\u001b[KitkResampleImageFilterISS3ISS3: 1.000000\u001b[2000D\u001b[K\u001b[2000D\u001b[KitkResampleImageFilterISS3ISS3: 1.000000\u001b[2000D\u001b[K\u001b[2000D\u001b[KitkResampleImageFilterISS3ISS3: 1.000000\u001b[2000D\u001b[K\u001b[2000D\u001b[KitkResampleImageFilterISS3ISS3: 1.000000\u001b[2000D\u001b[K\u001b[2000D\u001b[KitkResampleImageFilterISS3ISS3: 1.000000\u001b[2000D\u001b[K\u001b[2000D\u001b[KitkResampleImageFilterISS3ISS3: 0.000000\u001b[2000D\u001b[KitkResampleImageFilterISS3ISS3: 1.000000\u001b[2000D\u001b[K\u001b[2000D\u001b[KitkResampleImageFilterISS3ISS3: 1.000000\u001b[2000D\u001b[K\u001b[2000D\u001b[KitkResampleImageFilterISS3ISS3: 1.000000\u001b[2000D\u001b[K\u001b[2000D\u001b[KitkResampleImageFilterISS3ISS3: 1.000000\u001b[2000D\u001b[K\u001b[2000D\u001b[KitkResampleImageFilterISS3ISS3: 1.000000\u001b[2000D\u001b[K\u001b[2000D\u001b[KitkResampleImageFilterISS3ISS3: 1.000000\u001b[2000D\u001b[K\u001b[2000D\u001b[KitkResampleImageFilterISS3ISS3: 1.000000\u001b[2000D\u001b[K\u001b[2000D\u001b[KitkResampleImageFilterISS3ISS3: 1.000000\u001b[2000D\u001b[K\u001b[2000D\u001b[KitkResampleImageFilterISS3ISS3: 1.000000\u001b[2000D\u001b[K\u001b[2000D\u001b[KitkResampleImageFilterISS3ISS3: 1.000000\u001b[2000D\u001b[K\u001b[2000D\u001b[KitkResampleImageFilterISS3ISS3: 1.000000\u001b[2000D\u001b[K\u001b[2000D\u001b[KitkResampleImageFilterISS3ISS3: 1.000000\u001b[2000D\u001b[K\u001b[2000D\u001b[KitkResampleImageFilterISS3ISS3: 1.000000\u001b[2000D\u001b[K\u001b[2000D\u001b[KitkResampleImageFilterISS3ISS3: 1.000000\u001b[2000D\u001b[K\u001b[2000D\u001b[KitkResampleImageFilterISS3ISS3: 1.000000\u001b[2000D\u001b[K\u001b[2000D\u001b[KitkResampleImageFilterISS3ISS3: 1.000000\u001b[2000D\u001b[K\u001b[2000D\u001b[KitkResampleImageFilterISS3ISS3: 1.000000\u001b[2000D\u001b[K\u001b[2000D\u001b[KitkResampleImageFilterISS3ISS3: 1.000000\u001b[2000D\u001b[K\u001b[2000D\u001b[KitkResampleImageFilterISS3ISS3: 1.000000\u001b[2000D\u001b[K\u001b[2000D\u001b[KitkResampleImageFilterISS3ISS3: 1.000000\u001b[2000D\u001b[K\u001b[2000D\u001b[KitkResampleImageFilterISS3ISS3: 1.000000\u001b[2000D\u001b[K\u001b[2000D\u001b[KitkResampleImageFilterISS3ISS3: 0.000000\u001b[2000D\u001b[KitkResampleImageFilterISS3ISS3: 1.000000\u001b[2000D\u001b[K\u001b[2000D\u001b[KitkResampleImageFilterISS3ISS3: 1.000000\u001b[2000D\u001b[K\u001b[2000D\u001b[KitkResampleImageFilterISS3ISS3: 1.000000\u001b[2000D\u001b[K\u001b[2000D\u001b[KitkResampleImageFilterISS3ISS3: 1.000000\u001b[2000D\u001b[K\u001b[2000D\u001b[KitkResampleImageFilterISS3ISS3: 1.000000\u001b[2000D\u001b[K\u001b[2000D\u001b[KitkResampleImageFilterISS3ISS3: 1.000000\u001b[2000D\u001b[K\u001b[2000D\u001b[KitkResampleImageFilterISS3ISS3: 1.000000\u001b[2000D\u001b[K\u001b[2000D\u001b[KitkResampleImageFilterISS3ISS3: 1.000000\u001b[2000D\u001b[K\u001b[2000D\u001b[KitkResampleImageFilterISS3ISS3: 1.000000\u001b[2000D\u001b[K\u001b[2000D\u001b[KitkResampleImageFilterISS3ISS3: 1.000000\u001b[2000D\u001b[K\u001b[2000D\u001b[KitkResampleImageFilterISS3ISS3: 1.000000\u001b[2000D\u001b[K\u001b[2000D\u001b[KitkResampleImageFilterISS3ISS3: 1.000000\u001b[2000D\u001b[K\u001b[2000D\u001b[KitkResampleImageFilterISS3ISS3: 1.000000\u001b[2000D\u001b[K\u001b[2000D\u001b[KitkResampleImageFilterISS3ISS3: 1.000000\u001b[2000D\u001b[K\u001b[2000D\u001b[KitkResampleImageFilterISS3ISS3: 1.000000\u001b[2000D\u001b[K\u001b[2000D\u001b[KitkResampleImageFilterISS3ISS3: 1.000000\u001b[2000D\u001b[K\u001b[2000D\u001b[KitkResampleImageFilterISS3ISS3: 1.000000\u001b[2000D\u001b[K\u001b[2000D\u001b[KitkResampleImageFilterISS3ISS3: 1.000000\u001b[2000D\u001b[K\u001b[2000D\u001b[KitkResampleImageFilterISS3ISS3: 1.000000\u001b[2000D\u001b[K\u001b[2000D\u001b[KitkResampleImageFilterISS3ISS3: 1.000000\u001b[2000D\u001b[K\u001b[2000D\u001b[KitkResampleImageFilterISS3ISS3: 1.000000\u001b[2000D\u001b[K\u001b[2000D\u001b[KitkResampleImageFilterISS3ISS3: 1.000000\u001b[2000D\u001b[K\u001b[2000D\u001b[KitkResampleImageFilterISS3ISS3: 1.000000\u001b[2000D\u001b[K\u001b[2000D\u001b[KitkResampleImageFilterISS3ISS3: 1.000000\u001b[2000D\u001b[K\u001b[2000D\u001b[KitkResampleImageFilterISS3ISS3: 1.000000\u001b[2000D\u001b[K\u001b[2000D\u001b[KitkResampleImageFilterISS3ISS3: 1.000000\u001b[2000D\u001b[K\u001b[2000D\u001b[KitkResampleImageFilterISS3ISS3: 1.000000\u001b[2000D\u001b[K\u001b[2000D\u001b[KitkResampleImageFilterISS3ISS3: 1.000000\u001b[2000D\u001b[K"
     ]
    }
   ],
   "source": [
    "resampled_source_label_image = resample_label_image(\n",
    "    source_image=source_label_image,\n",
    "    reference_image=target_label_image,\n",
    "    transform=source_transform,\n",
    ")\n",
    "\n",
    "if VERIFY_LABELS:\n",
    "    print(np.unique(resampled_source_label_image))"
   ]
  },
  {
   "cell_type": "markdown",
   "metadata": {},
   "source": [
    "## Evaluate Overlap\n",
    "\n",
    "Evaluate label overlap agreement between individual regions and for the overall image."
   ]
  },
  {
   "cell_type": "code",
   "execution_count": 12,
   "metadata": {
    "scrolled": true
   },
   "outputs": [
    {
     "name": "stderr",
     "output_type": "stream",
     "text": [
      "\u001b[2000D\u001b[KitkLabelOverlapMeasuresImageFilterISS3: 0.000000\u001b[2000D\u001b[KitkLabelOverlapMeasuresImageFilterISS3: 0.000000\u001b[2000D\u001b[KitkLabelOverlapMeasuresImageFilterISS3: 1.000000"
     ]
    },
    {
     "name": "stdout",
     "output_type": "stream",
     "text": [
      "  ccf_label_name  ccf_label_value  dice_score\n",
      "0            all               -1    0.265520\n",
      "1           VIIn              788    0.219311\n",
      "2             MH              473    0.691117\n",
      "3             fr              585    0.472643\n",
      "4            aco              890    0.103598\n"
     ]
    },
    {
     "name": "stderr",
     "output_type": "stream",
     "text": [
      "\u001b[2000D\u001b[K\u001b[2000D\u001b[KitkLabelOverlapMeasuresImageFilterISS3: 1.000000\u001b[2000D\u001b[K"
     ]
    }
   ],
   "source": [
    "dice_score, label_measures_filter = compute_dice_coefficient(\n",
    "    source_image=resampled_source_label_image, target_image=target_label_image\n",
    ")\n",
    "\n",
    "overlap_headers = [\"ccf_label_name\", \"ccf_label_value\", \"dice_score\"]\n",
    "overlap_agreement_results = pd.DataFrame(\n",
    "    [[\"all\", -1, dice_score]], columns=overlap_headers\n",
    ")\n",
    "\n",
    "for index, row in labels_info.iterrows():\n",
    "    result = pd.DataFrame(\n",
    "        [\n",
    "            [\n",
    "                row[\"ccf_name\"],\n",
    "                row[\"ccf_label_value\"],\n",
    "                label_measures_filter.GetDiceCoefficient(\n",
    "                    row[\"ccf_label_value\"]\n",
    "                ),\n",
    "            ]\n",
    "        ],\n",
    "        columns=overlap_headers,\n",
    "    )\n",
    "    overlap_agreement_results = pd.concat(\n",
    "        [overlap_agreement_results, result], ignore_index=True\n",
    "    )\n",
    "\n",
    "print(overlap_agreement_results)"
   ]
  },
  {
   "cell_type": "markdown",
   "metadata": {},
   "source": [
    "## Save Results"
   ]
  },
  {
   "cell_type": "code",
   "execution_count": 13,
   "metadata": {},
   "outputs": [
    {
     "name": "stdout",
     "output_type": "stream",
     "text": [
      "Transformed label written to D:\\repos\\allen-registration\\notebooks\\data\\results\\652506\\BSPLINE\\0.5mm_grid\\2023.06.23\\Ex_488_Em_525/labels\\652506_Ex_488_Em_525_labels.nii.gz\n"
     ]
    },
    {
     "name": "stderr",
     "output_type": "stream",
     "text": [
      "\u001b[2000D\u001b[KitkImageFileWriterISS3: 0.000000\u001b[2000D\u001b[KitkImageFileWriterISS3: 1.000000\u001b[2000D\u001b[K"
     ]
    }
   ],
   "source": [
    "os.makedirs(RESULTS_PATH, exist_ok=True)\n",
    "itk.imwrite(\n",
    "    resampled_source_label_image, LABEL_IMAGE_RESULT_FILEPATH, compression=True\n",
    ")\n",
    "print(f\"Transformed label written to {LABEL_IMAGE_RESULT_FILEPATH}\")"
   ]
  },
  {
   "cell_type": "code",
   "execution_count": 14,
   "metadata": {},
   "outputs": [
    {
     "name": "stdout",
     "output_type": "stream",
     "text": [
      "Dice results written to D:\\repos\\allen-registration\\notebooks\\data\\results\\652506\\BSPLINE\\0.5mm_grid\\2023.06.23\\Ex_488_Em_525/labels/652506_Ex_488_Em_525_overlap.csv\n"
     ]
    }
   ],
   "source": [
    "overlap_agreement_results.to_csv(OVERLAP_RESULT_FILEPATH)\n",
    "print(f\"Dice results written to {OVERLAP_RESULT_FILEPATH}\")"
   ]
  }
 ],
 "metadata": {
  "kernelspec": {
   "display_name": "venv-itk",
   "language": "python",
   "name": "venv-itk"
  },
  "language_info": {
   "codemirror_mode": {
    "name": "ipython",
    "version": 3
   },
   "file_extension": ".py",
   "mimetype": "text/x-python",
   "name": "python",
   "nbconvert_exporter": "python",
   "pygments_lexer": "ipython3",
   "version": "3.8.5"
  }
 },
 "nbformat": 4,
 "nbformat_minor": 4
}
