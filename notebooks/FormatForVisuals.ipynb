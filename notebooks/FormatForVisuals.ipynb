{
 "cells": [
  {
   "cell_type": "markdown",
   "id": "41a2256f",
   "metadata": {},
   "source": [
    "# Format Registered SmartSPIM Datasets for Cloud Viewing\n",
    "\n",
    "This notebook formulates commands to generate multiscales, chunk, and upload SmartSPIM data to the appropriate AWS S3 bucket.\n",
    "\n",
    "We can view registered SmartSPIM data and associated label datasets with two cloud viewers:\n",
    "- Neuroglancer: Multiplanar Reconstruction views presenting orthogonal slices through 3D images\n",
    "- ITK-VTK-Viewer: Volume rendering of 3D images\n",
    "\n",
    "Both datasets support spatial multiscales with OME-Zarr. Neuroglancer also supports interactive label viewing with its bespoke \"precomputed\" format.\n",
    "\n",
    "See `postprocess_cli.py` for batch image processing and ITK-VTK-Viewer links."
   ]
  },
  {
   "cell_type": "code",
   "execution_count": null,
   "id": "678cfcf6",
   "metadata": {},
   "outputs": [],
   "source": [
    "import os\n",
    "import re\n",
    "import sys\n",
    "from pathlib import Path\n",
    "\n",
    "import itk\n",
    "import ngff_zarr\n",
    "\n",
    "# https://github.com/AllenInstitute/neuroglancer_formatting_scripts\n",
    "PATH_TO_NEUROGLANCER_INTERFACE = (\n",
    "    r\"C:\\repos\\neuroglancer_formatting_scripts\\src\"\n",
    ")\n",
    "sys.path.append(PATH_TO_NEUROGLANCER_INTERFACE)\n",
    "import neuroglancer_interface\n",
    "from neuroglancer_interface.modules.ccf_multiscale_annotations import (\n",
    "    write_out_ccf,\n",
    ")"
   ]
  },
  {
   "cell_type": "code",
   "execution_count": null,
   "id": "adec7536",
   "metadata": {},
   "outputs": [],
   "source": [
    "IMAGE_FILEPATH = rf\"D:\\repos\\allen-registration\\notebooks\\data\\results\\652506\\LEVEL_3\\2023.06.05\\Ex_445_Em_469\\labels\\652506_Ex_445_Em_469_labels.nii.gz\"\n",
    "\n",
    "IS_LABEL_IMAGE = True\n",
    "LABELS_DICT_FILEPATH = r\"D:\\repos\\allen-registration\\notebooks\\data\\CCFv31\\annotation\\itksnap_label_description.txt\"\n",
    "\n",
    "print(\n",
    "    f'{os.path.basename(IMAGE_FILEPATH)} ({\"label\" if IS_LABEL_IMAGE else \"intensity\"})'\n",
    ")"
   ]
  },
  {
   "cell_type": "code",
   "execution_count": null,
   "id": "789e6f06",
   "metadata": {},
   "outputs": [],
   "source": [
    "LABEL_MESH_FILEPATH = rf'{IMAGE_FILEPATH.rstrip(\".nii.gz\")}.obj'\n",
    "LABEL_MESH_FILEPATH"
   ]
  },
  {
   "cell_type": "code",
   "execution_count": null,
   "id": "77d1182f",
   "metadata": {},
   "outputs": [],
   "source": [
    "S3_ROOT_BUCKET_NAME = \"aind-kitware-collab\"\n",
    "\n",
    "S3_SAMPLE_BUCKET_NAME = (\n",
    "    \"SmartSPIM_652506_2023-01-09_10-18-12_stitched_2023-01-13_19-00-54\"\n",
    ")\n",
    "SUBJECT_ID = int(IMAGE_FILEPATH.split(\"\\\\results\\\\\")[1].split(\"\\\\\")[0])\n",
    "assert str(SUBJECT_ID) in S3_SAMPLE_BUCKET_NAME\n",
    "\n",
    "REGISTRATION_DATE = \"2023.06.05\"\n",
    "REGISTRATION_ID = \"L3\"\n",
    "\n",
    "CHANNEL_ID = re.match(\".*(Ex_[0-9]*_Em_[0-9]*).*\", IMAGE_FILEPATH).group(1)\n",
    "\n",
    "S3_BUCKET_RESULTS_PATH = f\"s3://{S3_ROOT_BUCKET_NAME}/{S3_SAMPLE_BUCKET_NAME}/registered/{REGISTRATION_DATE}/{REGISTRATION_ID}/{CHANNEL_ID}\"\n",
    "\n",
    "if IS_LABEL_IMAGE:\n",
    "    S3_BUCKET_RESULTS_PATH += \"/labels\"\n",
    "\n",
    "if not IS_LABEL_IMAGE:\n",
    "    TRANSFORM_FILEPATHS = [\n",
    "        f\"{os.path.dirname(IMAGE_FILEPATH)}/{filename}\"\n",
    "        for filename in os.listdir(os.path.dirname(IMAGE_FILEPATH))\n",
    "        if \".h5\" in filename\n",
    "    ]\n",
    "\n",
    "print(f\"Results will be written to {S3_BUCKET_RESULTS_PATH}\")"
   ]
  },
  {
   "cell_type": "markdown",
   "id": "c162ea71",
   "metadata": {},
   "source": [
    "## Create Surface Mesh"
   ]
  },
  {
   "cell_type": "code",
   "execution_count": null,
   "id": "64aed9ea",
   "metadata": {},
   "outputs": [],
   "source": [
    "if IS_LABEL_IMAGE:\n",
    "    label_image = itk.imread(IMAGE_FILEPATH)\n",
    "    binary_label_image = itk.binary_threshold_image_filter(\n",
    "        label_image, lower_threshold=1, inside_value=1\n",
    "    )\n",
    "    label_mesh = itk.binary_mask3_d_mesh_source(\n",
    "        binary_label_image, object_value=1\n",
    "    )\n",
    "    itk.meshwrite(label_mesh, LABEL_MESH_FILEPATH, compression=True)"
   ]
  },
  {
   "cell_type": "code",
   "execution_count": null,
   "id": "f49d0eb0",
   "metadata": {},
   "outputs": [],
   "source": [
    "print(label_mesh)"
   ]
  },
  {
   "cell_type": "code",
   "execution_count": null,
   "id": "71c2eda5",
   "metadata": {},
   "outputs": [],
   "source": [
    "def convert_mesh_to_extension(input_filepath: str, extension: str = \".vtp\"):\n",
    "    import vtk\n",
    "\n",
    "    assert input_filepath.endswith(\".obj\")\n",
    "\n",
    "    reader = vtk.vtkOBJReader()\n",
    "    reader.SetFileName(input_filepath)\n",
    "    reader.Update()\n",
    "\n",
    "    print(reader.GetOutput())\n",
    "\n",
    "    writer = vtk.vtkXMLPolyDataWriter()\n",
    "    writer.SetInputData(reader.GetOutput())\n",
    "    writer.SetFileName(f\"{os.path.splitext(input_filepath)[0]}{extension}\")\n",
    "    writer.Update()\n",
    "\n",
    "\n",
    "convert_mesh_to_extension(LABEL_MESH_FILEPATH)"
   ]
  },
  {
   "cell_type": "markdown",
   "id": "15cb414b",
   "metadata": {},
   "source": [
    "## Convert to OME-Zarr"
   ]
  },
  {
   "cell_type": "code",
   "execution_count": null,
   "id": "bb83d171",
   "metadata": {},
   "outputs": [],
   "source": [
    "OME_ZARR_OUTPUT_FILEPATH = f'{IMAGE_FILEPATH.rstrip(\".nii.gz\")}.zarr'\n",
    "print(f\"Results will be written to {OME_ZARR_OUTPUT_FILEPATH}\")\n",
    "\n",
    "assert not os.path.exists(OME_ZARR_OUTPUT_FILEPATH)"
   ]
  },
  {
   "cell_type": "code",
   "execution_count": null,
   "id": "dea1167b",
   "metadata": {},
   "outputs": [],
   "source": [
    "# Paste into a shell to generate OME-Zarr downsampling\n",
    "\n",
    "units_str = \" \".join(\n",
    "    f'\"{axis_name}\" \"millimeter\"' for axis_name in [\"x\", \"y\", \"z\"]\n",
    ")\n",
    "ngff_zarr_cli_args = (\n",
    "    f'-i \"{IMAGE_FILEPATH}\" -o \"{OME_ZARR_OUTPUT_FILEPATH}\" -u {units_str}'\n",
    ")\n",
    "\n",
    "print(f\"ngff-zarr {ngff_zarr_cli_args}\")"
   ]
  },
  {
   "cell_type": "markdown",
   "id": "bd0b311f",
   "metadata": {},
   "source": [
    "## Convert Labels to Neuroglancer"
   ]
  },
  {
   "cell_type": "code",
   "execution_count": null,
   "id": "923e018a",
   "metadata": {},
   "outputs": [],
   "source": [
    "if IS_LABEL_IMAGE:\n",
    "    input_paths = [Path(IMAGE_FILEPATH)]\n",
    "    NEUROGLANCER_OUTPUT_DIR = Path(\n",
    "        f\"{os.path.dirname(IMAGE_FILEPATH)}/precomputed\"\n",
    "    )\n",
    "    print(f\"Results will be written to {NEUROGLANCER_OUTPUT_DIR}\")"
   ]
  },
  {
   "cell_type": "code",
   "execution_count": null,
   "id": "83c35626",
   "metadata": {},
   "outputs": [],
   "source": [
    "if IS_LABEL_IMAGE:\n",
    "    os.makedirs(NEUROGLANCER_OUTPUT_DIR, exist_ok=True)\n",
    "\n",
    "    write_out_ccf(\n",
    "        segmentation_path_list=input_paths,\n",
    "        output_dir=NEUROGLANCER_OUTPUT_DIR,\n",
    "        label_path=LABELS_DICT_FILEPATH,\n",
    "        use_compression=True,\n",
    "    )"
   ]
  },
  {
   "cell_type": "markdown",
   "id": "2a642d22",
   "metadata": {},
   "source": [
    "## Compose S3 Uploads"
   ]
  },
  {
   "cell_type": "code",
   "execution_count": null,
   "id": "74ef8dcf",
   "metadata": {
    "scrolled": true
   },
   "outputs": [],
   "source": [
    "if IS_LABEL_IMAGE:\n",
    "    print(\n",
    "        f'aws s3 cp --recursive \"{os.path.dirname(IMAGE_FILEPATH)}\" \"{S3_BUCKET_RESULTS_PATH}\"'\n",
    "    )\n",
    "else:\n",
    "    for transform_path in TRANSFORM_FILEPATHS:\n",
    "        print(\n",
    "            f'aws s3 cp \"{transform_path}\" \"{S3_BUCKET_RESULTS_PATH}/{os.path.basename(transform_path)}\"\\n'\n",
    "        )\n",
    "    print(\n",
    "        f'aws s3 cp \"{IMAGE_FILEPATH}\" \"{S3_BUCKET_RESULTS_PATH}/{os.path.basename(IMAGE_FILEPATH)}\"\\n'\n",
    "    )\n",
    "    print(\n",
    "        f'aws s3 cp --recursive \"{OME_ZARR_OUTPUT_FILEPATH}\" \"{S3_BUCKET_RESULTS_PATH}/{os.path.basename(OME_ZARR_OUTPUT_FILEPATH)}\"\\n'\n",
    "    )"
   ]
  }
 ],
 "metadata": {
  "kernelspec": {
   "display_name": "venv-itk",
   "language": "python",
   "name": "venv-itk"
  },
  "language_info": {
   "codemirror_mode": {
    "name": "ipython",
    "version": 3
   },
   "file_extension": ".py",
   "mimetype": "text/x-python",
   "name": "python",
   "nbconvert_exporter": "python",
   "pygments_lexer": "ipython3",
   "version": "3.8.5"
  }
 },
 "nbformat": 4,
 "nbformat_minor": 5
}
